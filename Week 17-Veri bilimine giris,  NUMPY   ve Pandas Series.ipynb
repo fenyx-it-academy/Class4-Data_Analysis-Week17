{
 "cells": [
  {
   "cell_type": "code",
   "execution_count": 245,
   "metadata": {},
   "outputs": [],
   "source": [
    "import numpy as np \n",
    "import pandas as pd"
   ]
  },
  {
   "cell_type": "markdown",
   "metadata": {},
   "source": [
    "1- Tek indeksli diziler vektörler, iki ya da daha fazla indeksli diziler ise matrsiler ya da tablolar olarak adlandırılırlar."
   ]
  },
  {
   "cell_type": "code",
   "execution_count": null,
   "metadata": {},
   "outputs": [],
   "source": []
  },
  {
   "cell_type": "code",
   "execution_count": null,
   "metadata": {},
   "outputs": [],
   "source": []
  },
  {
   "cell_type": "code",
   "execution_count": 3,
   "metadata": {},
   "outputs": [
    {
     "data": {
      "text/plain": [
       "array([ 1,  2,  3,  4,  5,  6,  7,  8,  9, 10])"
      ]
     },
     "execution_count": 3,
     "metadata": {},
     "output_type": "execute_result"
    }
   ],
   "source": [
    "# 2.sorunun cevabi\n",
    "a = np.array([1,2,3,4,5,6,7,8,9,10]) \n",
    "a "
   ]
  },
  {
   "cell_type": "code",
   "execution_count": null,
   "metadata": {},
   "outputs": [],
   "source": []
  },
  {
   "cell_type": "code",
   "execution_count": null,
   "metadata": {},
   "outputs": [],
   "source": []
  },
  {
   "cell_type": "code",
   "execution_count": 7,
   "metadata": {},
   "outputs": [
    {
     "data": {
      "text/plain": [
       "array([[0, 0, 0, 0, 0, 0, 0, 0, 0, 0],\n",
       "       [0, 0, 0, 0, 0, 0, 0, 0, 0, 0],\n",
       "       [0, 0, 0, 0, 0, 0, 0, 0, 0, 0],\n",
       "       [0, 0, 0, 0, 0, 0, 0, 0, 0, 0],\n",
       "       [0, 0, 0, 0, 0, 0, 0, 0, 0, 0],\n",
       "       [0, 0, 0, 0, 0, 0, 0, 0, 0, 0],\n",
       "       [0, 0, 0, 0, 0, 0, 0, 0, 0, 0],\n",
       "       [0, 0, 0, 0, 0, 0, 0, 0, 0, 0],\n",
       "       [0, 0, 0, 0, 0, 0, 0, 0, 0, 0],\n",
       "       [0, 0, 0, 0, 0, 0, 0, 0, 0, 0]])"
      ]
     },
     "execution_count": 7,
     "metadata": {},
     "output_type": "execute_result"
    }
   ],
   "source": [
    "#3.sorunun cevabi\n",
    "np.zeros((10,10), dtype = 'int32')"
   ]
  },
  {
   "cell_type": "code",
   "execution_count": null,
   "metadata": {},
   "outputs": [],
   "source": []
  },
  {
   "cell_type": "code",
   "execution_count": null,
   "metadata": {},
   "outputs": [],
   "source": []
  },
  {
   "cell_type": "code",
   "execution_count": 9,
   "metadata": {},
   "outputs": [
    {
     "data": {
      "text/plain": [
       "array([[1., 1., 1., 1., 1., 1., 1., 1., 1., 1.],\n",
       "       [1., 1., 1., 1., 1., 1., 1., 1., 1., 1.],\n",
       "       [1., 1., 1., 1., 1., 1., 1., 1., 1., 1.],\n",
       "       [1., 1., 1., 1., 1., 1., 1., 1., 1., 1.],\n",
       "       [1., 1., 1., 1., 1., 1., 1., 1., 1., 1.],\n",
       "       [1., 1., 1., 1., 1., 1., 1., 1., 1., 1.],\n",
       "       [1., 1., 1., 1., 1., 1., 1., 1., 1., 1.],\n",
       "       [1., 1., 1., 1., 1., 1., 1., 1., 1., 1.],\n",
       "       [1., 1., 1., 1., 1., 1., 1., 1., 1., 1.],\n",
       "       [1., 1., 1., 1., 1., 1., 1., 1., 1., 1.]], dtype=float32)"
      ]
     },
     "execution_count": 9,
     "metadata": {},
     "output_type": "execute_result"
    }
   ],
   "source": [
    "#4.sorunun cevabi\n",
    "\n",
    "np.ones((10,10),dtype = 'float32') "
   ]
  },
  {
   "cell_type": "code",
   "execution_count": null,
   "metadata": {},
   "outputs": [],
   "source": []
  },
  {
   "cell_type": "code",
   "execution_count": null,
   "metadata": {},
   "outputs": [],
   "source": []
  },
  {
   "cell_type": "code",
   "execution_count": 13,
   "metadata": {},
   "outputs": [
    {
     "data": {
      "text/plain": [
       "array([[9, 9, 9, 9, 9, 9, 9, 9, 9, 9],\n",
       "       [9, 9, 9, 9, 9, 9, 9, 9, 9, 9],\n",
       "       [9, 9, 9, 9, 9, 9, 9, 9, 9, 9],\n",
       "       [9, 9, 9, 9, 9, 9, 9, 9, 9, 9],\n",
       "       [9, 9, 9, 9, 9, 9, 9, 9, 9, 9],\n",
       "       [9, 9, 9, 9, 9, 9, 9, 9, 9, 9],\n",
       "       [9, 9, 9, 9, 9, 9, 9, 9, 9, 9],\n",
       "       [9, 9, 9, 9, 9, 9, 9, 9, 9, 9],\n",
       "       [9, 9, 9, 9, 9, 9, 9, 9, 9, 9],\n",
       "       [9, 9, 9, 9, 9, 9, 9, 9, 9, 9]])"
      ]
     },
     "execution_count": 13,
     "metadata": {},
     "output_type": "execute_result"
    }
   ],
   "source": [
    "#5.sorunun cevabi\n",
    "\n",
    "np.full((10,10),9)\n",
    "\n"
   ]
  },
  {
   "cell_type": "code",
   "execution_count": null,
   "metadata": {},
   "outputs": [],
   "source": []
  },
  {
   "cell_type": "code",
   "execution_count": null,
   "metadata": {},
   "outputs": [],
   "source": []
  },
  {
   "cell_type": "code",
   "execution_count": 61,
   "metadata": {},
   "outputs": [
    {
     "data": {
      "text/plain": [
       "array([ 5,  8, 11, 14, 17, 20, 23])"
      ]
     },
     "execution_count": 61,
     "metadata": {},
     "output_type": "execute_result"
    }
   ],
   "source": [
    "#6.sorunun cevabi\n",
    "\n",
    "np.arange(5,25,3)"
   ]
  },
  {
   "cell_type": "code",
   "execution_count": null,
   "metadata": {},
   "outputs": [],
   "source": []
  },
  {
   "cell_type": "code",
   "execution_count": null,
   "metadata": {},
   "outputs": [],
   "source": []
  },
  {
   "cell_type": "code",
   "execution_count": 15,
   "metadata": {},
   "outputs": [
    {
     "data": {
      "text/plain": [
       "array([-1.        , -0.93103448, -0.86206897, -0.79310345, -0.72413793,\n",
       "       -0.65517241, -0.5862069 , -0.51724138, -0.44827586, -0.37931034,\n",
       "       -0.31034483, -0.24137931, -0.17241379, -0.10344828, -0.03448276,\n",
       "        0.03448276,  0.10344828,  0.17241379,  0.24137931,  0.31034483,\n",
       "        0.37931034,  0.44827586,  0.51724138,  0.5862069 ,  0.65517241,\n",
       "        0.72413793,  0.79310345,  0.86206897,  0.93103448,  1.        ])"
      ]
     },
     "execution_count": 15,
     "metadata": {},
     "output_type": "execute_result"
    }
   ],
   "source": [
    "#7.sorunun cevabi\n",
    "\n",
    "np.linspace(-1,1,30)"
   ]
  },
  {
   "cell_type": "code",
   "execution_count": null,
   "metadata": {},
   "outputs": [],
   "source": []
  },
  {
   "cell_type": "code",
   "execution_count": null,
   "metadata": {},
   "outputs": [],
   "source": []
  },
  {
   "cell_type": "code",
   "execution_count": 16,
   "metadata": {},
   "outputs": [
    {
     "data": {
      "text/plain": [
       "array([[10,  3, 24, 17, 21,  1],\n",
       "       [ 9,  7, 18, 28,  2, 10],\n",
       "       [11,  1, 22, 25, 18, 13],\n",
       "       [ 5, 22, 29, 14, 18, 24],\n",
       "       [29,  6, 22, 23, 14, 13]])"
      ]
     },
     "execution_count": 16,
     "metadata": {},
     "output_type": "execute_result"
    }
   ],
   "source": [
    "#8.sorunun cevabi\n",
    "\n",
    "np.random.randint(0,30, (5,6)) "
   ]
  },
  {
   "cell_type": "code",
   "execution_count": null,
   "metadata": {},
   "outputs": [],
   "source": []
  },
  {
   "cell_type": "code",
   "execution_count": null,
   "metadata": {},
   "outputs": [],
   "source": []
  },
  {
   "cell_type": "code",
   "execution_count": 21,
   "metadata": {},
   "outputs": [
    {
     "data": {
      "text/plain": [
       "array([[1, 0, 0, 0, 0, 0, 0, 0, 0, 0],\n",
       "       [0, 1, 0, 0, 0, 0, 0, 0, 0, 0],\n",
       "       [0, 0, 1, 0, 0, 0, 0, 0, 0, 0],\n",
       "       [0, 0, 0, 1, 0, 0, 0, 0, 0, 0],\n",
       "       [0, 0, 0, 0, 1, 0, 0, 0, 0, 0],\n",
       "       [0, 0, 0, 0, 0, 1, 0, 0, 0, 0],\n",
       "       [0, 0, 0, 0, 0, 0, 1, 0, 0, 0],\n",
       "       [0, 0, 0, 0, 0, 0, 0, 1, 0, 0],\n",
       "       [0, 0, 0, 0, 0, 0, 0, 0, 1, 0],\n",
       "       [0, 0, 0, 0, 0, 0, 0, 0, 0, 1]])"
      ]
     },
     "execution_count": 21,
     "metadata": {},
     "output_type": "execute_result"
    }
   ],
   "source": [
    "# 9.sorunun cevabi\n",
    "\n",
    "np.eye(10,dtype=\"int\") "
   ]
  },
  {
   "cell_type": "code",
   "execution_count": null,
   "metadata": {},
   "outputs": [],
   "source": []
  },
  {
   "cell_type": "code",
   "execution_count": null,
   "metadata": {},
   "outputs": [],
   "source": []
  },
  {
   "cell_type": "code",
   "execution_count": 341,
   "metadata": {},
   "outputs": [
    {
     "name": "stdout",
     "output_type": "stream",
     "text": [
      "a=\n",
      "[[8 1 4 6 3 8 8 0 1 1]\n",
      " [6 8 8 4 0 6 7 9 2 7]\n",
      " [7 6 6 6 4 4 8 0 1 1]\n",
      " [9 9 1 6 4 2 4 1 5 9]\n",
      " [8 2 9 8 2 4 3 1 8 9]]\n",
      "Boyut sayisi =   2\n",
      "satir, sutun bilgisi =   (5, 10)\n",
      "Toplam eleman sayisi =   50\n",
      "Veri tipi =   int32\n"
     ]
    }
   ],
   "source": [
    "#10.sorunun cevabi\n",
    "\n",
    "a=np.random.randint(0,10, (5,10)) \n",
    "\n",
    "print(\"a=\",a,sep='\\n')\n",
    "\n",
    "\n",
    "print(\"Boyut sayisi =  \",a.ndim) \n",
    "print(\"satir, sutun bilgisi =  \",a.shape)\n",
    "print(\"Toplam eleman sayisi =  \",a.size)\n",
    "print(\"Veri tipi =  \",a.dtype)"
   ]
  },
  {
   "cell_type": "code",
   "execution_count": null,
   "metadata": {},
   "outputs": [],
   "source": []
  },
  {
   "cell_type": "code",
   "execution_count": null,
   "metadata": {},
   "outputs": [],
   "source": []
  },
  {
   "cell_type": "code",
   "execution_count": 30,
   "metadata": {},
   "outputs": [
    {
     "data": {
      "text/plain": [
       "array([[[7, 9, 0, 6, 9, 4, 0],\n",
       "        [0, 7, 4, 1, 7, 7, 8],\n",
       "        [7, 6, 9, 6, 2, 7, 6],\n",
       "        [4, 9, 5, 5, 3, 9, 7]],\n",
       "\n",
       "       [[3, 5, 5, 5, 8, 2, 0],\n",
       "        [1, 5, 5, 1, 2, 9, 7],\n",
       "        [0, 2, 9, 2, 4, 7, 7],\n",
       "        [0, 3, 5, 4, 0, 9, 4]],\n",
       "\n",
       "       [[1, 5, 7, 4, 6, 2, 1],\n",
       "        [6, 1, 2, 7, 1, 6, 1],\n",
       "        [5, 0, 5, 6, 0, 2, 7],\n",
       "        [8, 7, 8, 4, 3, 9, 0]]])"
      ]
     },
     "execution_count": 30,
     "metadata": {},
     "output_type": "execute_result"
    }
   ],
   "source": [
    "#11. sorunun cevabi\n",
    "\n",
    "a = np.random.randint(10, size = (3,4,7))\n",
    "a"
   ]
  },
  {
   "cell_type": "code",
   "execution_count": null,
   "metadata": {},
   "outputs": [],
   "source": []
  },
  {
   "cell_type": "code",
   "execution_count": null,
   "metadata": {},
   "outputs": [],
   "source": []
  },
  {
   "cell_type": "code",
   "execution_count": 340,
   "metadata": {},
   "outputs": [
    {
     "name": "stdout",
     "output_type": "stream",
     "text": [
      "Vektor olusturduk= [1 2 3 5 6 7 8 9 0]\n",
      "a boyut= 1\n",
      "3x3 luk 2 boyutlu matrise cevirdik=\n",
      "[[1 2 3]\n",
      " [5 6 7]\n",
      " [8 9 0]]\n",
      "b boyut= 2\n"
     ]
    }
   ],
   "source": [
    "#12.sorunun cevabi\n",
    "\n",
    "a = np.array([1,2,3,5,6,7,8,9,0]) \n",
    "print(\"Vektor olusturduk=\",a)\n",
    "print(\"a boyut=\",a.ndim)\n",
    "\n",
    "b = a.reshape((3,3))\n",
    "print(\"3x3 luk 2 boyutlu matrise cevirdik=\"  ,b,sep='\\n')\n",
    "print(\"b boyut=\",b.ndim)"
   ]
  },
  {
   "cell_type": "code",
   "execution_count": null,
   "metadata": {},
   "outputs": [],
   "source": []
  },
  {
   "cell_type": "code",
   "execution_count": null,
   "metadata": {},
   "outputs": [],
   "source": []
  },
  {
   "cell_type": "code",
   "execution_count": 92,
   "metadata": {},
   "outputs": [
    {
     "name": "stdout",
     "output_type": "stream",
     "text": [
      "a= [1 2 3]\n",
      "b= [4 5 6]\n",
      "c= [7 8 9]\n",
      "d= [10 11 12]\n",
      "birlestirme= [ 1  2  3  4  5  6  7  8  9 10 11 12]\n"
     ]
    }
   ],
   "source": [
    "#13. sorunun cevabi\n",
    "\n",
    "a = np.array([1, 2, 3])\n",
    "\n",
    "b = np.array([4, 5, 6])\n",
    "\n",
    "c=np.array([7, 8, 9])\n",
    "\n",
    "d=np.array([10, 11, 12])\n",
    "print(\"a=\",a)\n",
    "print(\"b=\",b)\n",
    "print(\"c=\",c)\n",
    "print(\"d=\",d)\n",
    "\n",
    "birlestirme=np.concatenate([a,b,c,d])\n",
    "print(\"birlestirme=\",birlestirme)"
   ]
  },
  {
   "cell_type": "code",
   "execution_count": null,
   "metadata": {},
   "outputs": [],
   "source": []
  },
  {
   "cell_type": "code",
   "execution_count": 87,
   "metadata": {},
   "outputs": [],
   "source": []
  },
  {
   "cell_type": "code",
   "execution_count": 339,
   "metadata": {},
   "outputs": [
    {
     "name": "stdout",
     "output_type": "stream",
     "text": [
      "a= [[99]\n",
      " [99]]\n",
      "b= [[9 8 7]\n",
      " [6 5 4]]\n",
      "birlestirme=\n",
      "\n",
      "\n",
      "[[99  9  8  7]\n",
      " [99  6  5  4]]\n"
     ]
    }
   ],
   "source": [
    "# 14.sorunun cevabi\n",
    "\n",
    "a = np.array([[99],\n",
    "              [99]])\n",
    "\n",
    "b = np.array([[9, 8, 7], \n",
    "              [6, 5, 4]])\n",
    "print(\"a=\",a)\n",
    "print(\"b=\",b)\n",
    "birlestirme=np.hstack([a,b])\n",
    "print(\"birlestirme=\",birlestirme,sep='\\n')"
   ]
  },
  {
   "cell_type": "code",
   "execution_count": null,
   "metadata": {},
   "outputs": [],
   "source": []
  },
  {
   "cell_type": "code",
   "execution_count": null,
   "metadata": {},
   "outputs": [],
   "source": []
  },
  {
   "cell_type": "markdown",
   "metadata": {},
   "source": [
    "15.sorunun cevabi = Numpy’da boyutlar axis olarak isimlendirilir,axis hangi bazda işlem \n",
    "yapacağınızı açıklar, eğer axis 0 olursa satır bazında axis 1 olursa sütun bazında işlem\n",
    "yapacağınız anlamına gelir.\n"
   ]
  },
  {
   "cell_type": "code",
   "execution_count": null,
   "metadata": {},
   "outputs": [],
   "source": []
  },
  {
   "cell_type": "code",
   "execution_count": null,
   "metadata": {},
   "outputs": [],
   "source": []
  },
  {
   "cell_type": "code",
   "execution_count": 338,
   "metadata": {},
   "outputs": [
    {
     "name": "stdout",
     "output_type": "stream",
     "text": [
      "a= [1 2 3]\n",
      "b= [[9 8 7]\n",
      " [6 5 4]]\n",
      "birlestirme=\n",
      "[[1 2 3]\n",
      " [9 8 7]\n",
      " [6 5 4]]\n"
     ]
    }
   ],
   "source": [
    "#16. sorunun cevabi \n",
    "\n",
    "a = np.array([1, 2, 3])\n",
    "\n",
    "b = np.array([[9, 8, 7], \n",
    "              [6, 5, 4]])\n",
    "print(\"a=\",a)\n",
    "print(\"b=\",b)\n",
    "birlestirme=np.vstack([a,b])\n",
    "print(\"birlestirme=\",birlestirme,sep='\\n')"
   ]
  },
  {
   "cell_type": "code",
   "execution_count": null,
   "metadata": {},
   "outputs": [],
   "source": []
  },
  {
   "cell_type": "code",
   "execution_count": null,
   "metadata": {},
   "outputs": [],
   "source": []
  },
  {
   "cell_type": "code",
   "execution_count": 102,
   "metadata": {},
   "outputs": [
    {
     "name": "stdout",
     "output_type": "stream",
     "text": [
      "x [1, 2, 3, 4, 5, 6, 7, 8, 9, 10]\n",
      "4 parca bolme islemi= [array([1, 2, 3]), array([4, 5, 6]), array([7, 8, 9]), array([10])]\n"
     ]
    }
   ],
   "source": [
    "# 17. sorunun cevabi\n",
    "\n",
    "x = [1, 2, 3, 4,5,6,7,8,9,10]\n",
    "print(\"x\",x)\n",
    "bolme_split=np.split(x, [3,6,9])\n",
    "\n",
    "print(\"4 parca bolme islemi=\",bolme_split)"
   ]
  },
  {
   "cell_type": "code",
   "execution_count": 101,
   "metadata": {},
   "outputs": [
    {
     "name": "stdout",
     "output_type": "stream",
     "text": [
      "4 parca bolme islemi= [array([1, 2, 3]), array([4, 5, 6]), array([7, 8, 9]), array([10])]\n"
     ]
    }
   ],
   "source": []
  },
  {
   "cell_type": "code",
   "execution_count": null,
   "metadata": {},
   "outputs": [],
   "source": []
  },
  {
   "cell_type": "code",
   "execution_count": null,
   "metadata": {},
   "outputs": [],
   "source": []
  },
  {
   "cell_type": "code",
   "execution_count": 127,
   "metadata": {},
   "outputs": [
    {
     "data": {
      "text/plain": [
       "array([3, 9, 7, 5, 4, 6, 2, 4, 2, 0])"
      ]
     },
     "execution_count": 127,
     "metadata": {},
     "output_type": "execute_result"
    }
   ],
   "source": [
    "# 18.sorunun cevabi\n",
    "\n",
    "array_random=np.random.randint(10, size = 10)\n",
    "array_random\n",
    "\n"
   ]
  },
  {
   "cell_type": "code",
   "execution_count": 128,
   "metadata": {},
   "outputs": [
    {
     "data": {
      "text/plain": [
       "array([0, 2, 2, 3, 4, 4, 5, 6, 7, 9])"
      ]
     },
     "execution_count": 128,
     "metadata": {},
     "output_type": "execute_result"
    }
   ],
   "source": [
    "np.sort(array_random) # siralama yapildi"
   ]
  },
  {
   "cell_type": "code",
   "execution_count": 129,
   "metadata": {},
   "outputs": [
    {
     "data": {
      "text/plain": [
       "array([9, 6, 8, 0, 4, 7, 3, 5, 2, 1], dtype=int64)"
      ]
     },
     "execution_count": 129,
     "metadata": {},
     "output_type": "execute_result"
    }
   ],
   "source": [
    "np.argsort(array_random) # siralamadan sonra her elelmanin ilk arary daki yerini tespit ettik ornegin 0 elemani arrayda 9.sirada"
   ]
  },
  {
   "cell_type": "code",
   "execution_count": null,
   "metadata": {},
   "outputs": [],
   "source": []
  },
  {
   "cell_type": "code",
   "execution_count": null,
   "metadata": {},
   "outputs": [],
   "source": []
  },
  {
   "cell_type": "code",
   "execution_count": 151,
   "metadata": {},
   "outputs": [
    {
     "name": "stdout",
     "output_type": "stream",
     "text": [
      "a= [6 3 0 4 5 4 2 2 4 9 5 9 7 6 3 1 1 9 9 2]\n",
      "4\n",
      "4\n",
      "2\n"
     ]
    }
   ],
   "source": [
    "# 19.sorunun cevabi\n",
    "\n",
    "a = np.random.randint(10, size = 20)\n",
    "\n",
    "print(\"a=\",a)\n",
    "\n",
    "eleman_3=a[3]\n",
    "eleman_5=a[5]\n",
    "eleman_7=a[7]\n",
    "print(eleman_3)\n",
    "print(eleman_5)\n",
    "print(eleman_7)"
   ]
  },
  {
   "cell_type": "code",
   "execution_count": null,
   "metadata": {},
   "outputs": [],
   "source": []
  },
  {
   "cell_type": "code",
   "execution_count": null,
   "metadata": {},
   "outputs": [],
   "source": []
  },
  {
   "cell_type": "code",
   "execution_count": 157,
   "metadata": {},
   "outputs": [
    {
     "name": "stdout",
     "output_type": "stream",
     "text": [
      "a= [4 5 2 7 4 9 1 4 1 9]\n",
      "eleman_4_degisim= 1\n",
      "a= [4 5 2 1 4 9 1 4 1 9]\n",
      "None\n"
     ]
    }
   ],
   "source": [
    "#20. sorunun cevabi\n",
    "\n",
    "a = np.random.randint(10, size = 10)\n",
    "print(\"a=\",a)\n",
    "eleman_4_degisim=a[3] = 1\n",
    "print(\"eleman_4_degisim=\",eleman_4_degisim)\n",
    "print(print(\"a=\",a))\n"
   ]
  },
  {
   "cell_type": "code",
   "execution_count": null,
   "metadata": {},
   "outputs": [],
   "source": []
  },
  {
   "cell_type": "code",
   "execution_count": null,
   "metadata": {},
   "outputs": [],
   "source": []
  },
  {
   "cell_type": "markdown",
   "metadata": {},
   "source": [
    "#21.sorunun cevabi\n",
    "\n",
    "Diagonal Matrix, köşegen dışı tüm girişlerin sıfır olduğu bir matristir. \n",
    "Trace Matrix,Bir kare matrisin ana köşegenindeki elemanların toplamı. \n"
   ]
  },
  {
   "cell_type": "code",
   "execution_count": null,
   "metadata": {},
   "outputs": [],
   "source": []
  },
  {
   "cell_type": "code",
   "execution_count": null,
   "metadata": {},
   "outputs": [],
   "source": []
  },
  {
   "cell_type": "code",
   "execution_count": 337,
   "metadata": {},
   "outputs": [
    {
     "name": "stdout",
     "output_type": "stream",
     "text": [
      "a_matrix=\n",
      "[[ 7 15  9 17 24]\n",
      " [ 8 14 22  1 15]\n",
      " [ 9 24 19 16 29]\n",
      " [10  0 14  4 22]\n",
      " [11  2  0 26 20]]\n",
      "diagonal_matrix [ 7 14 19  4 20]\n"
     ]
    }
   ],
   "source": [
    "#22.sorunun cevabi\n",
    "\n",
    "a=np.random.randint(0,30, (5,5)) #oncelikle bir matrix olusturduk\n",
    "print('a_matrix=',a,sep='\\n')\n",
    "\n",
    "print(\"diagonal_matrix\",a.diagonal())\n",
    "\n",
    "\n"
   ]
  },
  {
   "cell_type": "code",
   "execution_count": 166,
   "metadata": {},
   "outputs": [
    {
     "name": "stdout",
     "output_type": "stream",
     "text": [
      "a= [10 11 12 13 14 15 16 17 18 19]\n",
      "3.indexten Sonraki Degerler= [13 14 15 16 17 18 19]\n"
     ]
    }
   ],
   "source": [
    "#23. sorunun cevabi\n",
    "\n",
    "a = np.arange(10,20)\n",
    "print(\"a=\",a)\n",
    "print(\"3.indexten Sonraki Degerler=\",a[3:] )"
   ]
  },
  {
   "cell_type": "code",
   "execution_count": 331,
   "metadata": {},
   "outputs": [
    {
     "name": "stdout",
     "output_type": "stream",
     "text": [
      "a....=\n",
      "[[9 1 8 4 5 3 2 7 1 2]\n",
      " [3 0 3 1 4 2 0 6 7 3]\n",
      " [7 1 3 4 8 5 0 5 0 5]\n",
      " [4 1 7 4 9 4 3 7 8 9]\n",
      " [4 0 1 3 1 9 4 4 0 7]\n",
      " [8 0 3 8 3 9 8 1 8 8]\n",
      " [9 6 9 9 0 5 8 0 6 1]\n",
      " [4 0 9 8 9 5 6 7 3 2]\n",
      " [7 2 1 4 6 4 1 0 4 7]\n",
      " [0 8 9 5 1 9 2 3 0 9]]\n",
      "----------------------------3.Satirin 5.Sutunu.....= [4 9 9 5 5 4 9]\n",
      "----------------------------5.Sutunun Tum Satirlarina.....= [3 2 5 4 9 9 5 5 4 9]\n",
      "----------------------------Tum Sutunlarin 2.Satiri= [7 1 3 4 8 5 0 5 0 5]\n",
      "-------------Tum Sutunlarin 2 ile 7 arasi Satirlari=\n",
      "[[7 1 3 4 8 5 0 5 0 5]\n",
      " [4 1 7 4 9 4 3 7 8 9]\n",
      " [4 0 1 3 1 9 4 4 0 7]\n",
      " [8 0 3 8 3 9 8 1 8 8]\n",
      " [9 6 9 9 0 5 8 0 6 1]]\n",
      "--------------------Satir 2 den 5 e-sutun 3 den 7 e=\n",
      "[[4 8 5 0]\n",
      " [4 9 4 3]\n",
      " [3 1 9 4]]\n",
      "-----------------Satir 5 den sona e-sutun 0 dan 4 e=\n",
      "[[8 0 3 8]\n",
      " [9 6 9 9]\n",
      " [4 0 9 8]\n",
      " [7 2 1 4]\n",
      " [0 8 9 5]]\n",
      "------------------------3-6-9 sutunlarin tum satiri=\n",
      "[[4 2 2]\n",
      " [1 0 3]\n",
      " [4 0 5]\n",
      " [4 3 9]\n",
      " [3 4 7]\n",
      " [8 8 8]\n",
      " [9 8 1]\n",
      " [8 6 2]\n",
      " [4 1 7]\n",
      " [5 2 9]]\n",
      "---------------------5inci sutun-5.satir degistirme=\n",
      "[[   9    1    8    4    5    3    2    7    1    2]\n",
      " [   3    0    3    1    4    2    0    6    7    3]\n",
      " [   7    1    3    4    8    5    0    5    0    5]\n",
      " [   4    1    7    4    9    4    3    7    8    9]\n",
      " [   4    0    1    3    1    9    4    4    0    7]\n",
      " [   8    0    3    8    3 1978    8    1    8    8]\n",
      " [   9    6    9    9    0    5    8    0    6    1]\n",
      " [   4    0    9    8    9    5    6    7    3    2]\n",
      " [   7    2    1    4    6    4    1    0    4    7]\n",
      " [   0    8    9    5    1    9    2    3    0    9]]\n"
     ]
    }
   ],
   "source": [
    "#24.sorunun cevabi\n",
    "\n",
    "a = np.random.randint(10, size = (10, 10))\n",
    "print(\"a....=\",a,sep='\\n')\n",
    "\n",
    "print(\"----------------------------3.Satirin 5.Sutunu.....=\",a[3:,5])\n",
    "print(\"----------------------------5.Sutunun Tum Satirlarina.....=\",a[:,5])\n",
    "print(\"----------------------------Tum Sutunlarin 2.Satiri=\",a[2,:])\n",
    "print(\"-------------Tum Sutunlarin 2 ile 7 arasi Satirlari=\",a[2:7,:],sep='\\n')\n",
    "print(\"--------------------Satir 2 den 5 e-sutun 3 den 7 e=\",a[2:5,3:7],sep='\\n')\n",
    "print(\"-----------------Satir 5 den sona e-sutun 0 dan 4 e=\",a[5:,:4],sep='\\n')\n",
    "print(\"------------------------3-6-9 sutunlarin tum satiri=\",a[0:,[3,6,9]],sep='\\n')\n",
    "a[5,5]=1978\n",
    "print(\"---------------------5inci sutun-5.satir degistirme=\",a,sep='\\n')"
   ]
  },
  {
   "cell_type": "code",
   "execution_count": null,
   "metadata": {},
   "outputs": [],
   "source": []
  },
  {
   "cell_type": "code",
   "execution_count": null,
   "metadata": {},
   "outputs": [],
   "source": []
  },
  {
   "cell_type": "code",
   "execution_count": 235,
   "metadata": {},
   "outputs": [
    {
     "name": "stdout",
     "output_type": "stream",
     "text": [
      "a............= [ 0  5 10 15 20 25 30 35 40 45]\n",
      "20 den Buyuk Degerler= 5\n",
      "30 dan Kucuk Degerler= 6\n",
      "33 Olan Degerler= 0\n",
      "Tum Elemanlarin 5 ile Carpimi= [  0  25  50  75 100 125 150 175 200 225]\n",
      "Tum Elemanlarin 2 ile Bolumunden Kalan= [0 1 0 1 0 1 0 1 0 1]\n"
     ]
    }
   ],
   "source": [
    "#25.sorunun cevabi\n",
    "\n",
    "a=np.arange(0,50,5)\n",
    "print(\"a............=\",a)\n",
    "print(\"20 den Buyuk Degerler=\",np.sum(a > 20) )\n",
    "print(\"30 dan Kucuk Degerler=\",np.sum(a < 30) )\n",
    "print(\"33 Olan Degerler=\",np.sum((a > 33) & (a < 33)))\n",
    "print(\"Tum Elemanlarin 5 ile Carpimi=\",a * 5)\n",
    "print(\"Tum Elemanlarin 2 ile Bolumunden Kalan=\",a % 2)\n"
   ]
  },
  {
   "cell_type": "code",
   "execution_count": 321,
   "metadata": {},
   "outputs": [
    {
     "name": "stdout",
     "output_type": "stream",
     "text": [
      "a........=\n",
      "\n",
      "[0.         0.02040816 0.04081633 0.06122449 0.08163265 0.10204082\n",
      " 0.12244898 0.14285714 0.16326531 0.18367347 0.20408163 0.2244898\n",
      " 0.24489796 0.26530612 0.28571429 0.30612245 0.32653061 0.34693878\n",
      " 0.36734694 0.3877551  0.40816327 0.42857143 0.44897959 0.46938776\n",
      " 0.48979592 0.51020408 0.53061224 0.55102041 0.57142857 0.59183673\n",
      " 0.6122449  0.63265306 0.65306122 0.67346939 0.69387755 0.71428571\n",
      " 0.73469388 0.75510204 0.7755102  0.79591837 0.81632653 0.83673469\n",
      " 0.85714286 0.87755102 0.89795918 0.91836735 0.93877551 0.95918367\n",
      " 0.97959184 1.        ]\n",
      "Ortalamasi...........= 0.5\n",
      "Standart Sapma.......= 0.2945075446869757\n",
      "Varyans..............= 0.086734693877551\n",
      "Median...............= 0.5\n",
      "En Kucuk Deger.......= 0.0\n",
      "En Buyuk Deger.......= 1.0\n"
     ]
    }
   ],
   "source": [
    "#26.sorunun cevabi\n",
    "a=np.linspace(0,1,50)\n",
    "print(\"a........=\",a,sep='\\n\\n')\n",
    "print(\"Ortalamasi...........=\",np.mean(a))\n",
    "print(\"Standart Sapma.......=\",np.std(a))\n",
    "print(\"Varyans..............=\",np.var(a))\n",
    "print(\"Median...............=\",np.median(a))\n",
    "print(\"En Kucuk Deger.......=\",np.min(a))\n",
    "print(\"En Buyuk Deger.......=\",np.max(a))\n"
   ]
  },
  {
   "cell_type": "code",
   "execution_count": 248,
   "metadata": {},
   "outputs": [
    {
     "data": {
      "text/plain": [
       "0     Ahmet\n",
       "1    Mehmet\n",
       "2         3\n",
       "3       4.6\n",
       "4      --- \n",
       "dtype: object"
      ]
     },
     "execution_count": 248,
     "metadata": {},
     "output_type": "execute_result"
    }
   ],
   "source": [
    "#28.Sorunun Cevabi\n",
    "\n",
    "seri2 = pd.Series([\"Ahmet\",\"Mehmet\",3, 4.6, \" --- \"]) \n",
    "seri2"
   ]
  },
  {
   "cell_type": "code",
   "execution_count": 320,
   "metadata": {},
   "outputs": [
    {
     "name": "stdout",
     "output_type": "stream",
     "text": [
      "sozluk....= {'Fransa': 'Paris', 'Italya': 'Roma', 'Portekiz': 'Lizbon', 'Almanya': 'Berlin', 'Mozambik': 'Maputo'}\n",
      "Sozluk Seriye Donusturme......=\n",
      "Fransa       Paris\n",
      "Italya        Roma\n",
      "Portekiz    Lizbon\n",
      "Almanya     Berlin\n",
      "Mozambik    Maputo\n",
      "dtype: object\n"
     ]
    }
   ],
   "source": [
    "#  29.sorunun cevabi\n",
    "sozluk = { \"Fransa\" : \"Paris\", \"Italya\" : \"Roma\", \"Portekiz\" : \"Lizbon\", \"Almanya\":\"Berlin\",\"Mozambik\":\"Maputo\"} \n",
    "print(\"sozluk....=\",sozluk)\n",
    "print(\"Sozluk Seriye Donusturme......=\",pd.Series(sozluk),sep='\\n')"
   ]
  },
  {
   "cell_type": "code",
   "execution_count": 318,
   "metadata": {},
   "outputs": [
    {
     "name": "stdout",
     "output_type": "stream",
     "text": [
      "a............= [0 5 4 4 9 2 6 6 9 0]\n",
      "a    0\n",
      "b    5\n",
      "c    4\n",
      "d    4\n",
      "e    9\n",
      "f    2\n",
      "g    6\n",
      "h    6\n",
      "i    9\n",
      "j    0\n",
      "dtype: int32\n",
      "Serinin 3.Elemani..................................= 4\n",
      "Serinin 1.Elemani..................................= 0\n",
      "Serinin 2. ve 7.Elemani............................= 5 6\n",
      "Serinin 2 ve 7.Elemanlari arasi....................=\n",
      "\n",
      "\n",
      "b    5\n",
      "c    4\n",
      "d    4\n",
      "e    9\n",
      "f    2\n",
      "g    6\n",
      "dtype: int32\n",
      "Serinin 4 den itibaren tum Elemanlari..............=\n",
      "\n",
      "\n",
      "b    5\n",
      "c    4\n",
      "d    4\n",
      "e    9\n",
      "f    2\n",
      "g    6\n",
      "h    6\n",
      "i    9\n",
      "j    0\n",
      "dtype: int32\n"
     ]
    }
   ],
   "source": [
    "#30. sorunun cevabi\n",
    "\n",
    "a = np.random.randint(10, size =10)\n",
    "print(\"a............=\",a)\n",
    "z=pd.Series((a), index = ('a','b','c','d','e','f','g','h','i','j'))\n",
    "print(z)\n",
    "print('Serinin 3.Elemani..................................=',z[\"c\"] )\n",
    "print('Serinin 1.Elemani..................................=',z[\"a\"] )\n",
    "print('Serinin 2. ve 7.Elemani............................=',z[\"b\"],z['g'] )\n",
    "print('Serinin 2 ve 7.Elemanlari arasi....................=',z[\"b\":\"g\"],sep='\\n\\n\\n' )\n",
    "print('Serinin 4 den itibaren tum Elemanlari..............=',z[\"b\":],sep='\\n\\n\\n' )\n"
   ]
  },
  {
   "cell_type": "code",
   "execution_count": null,
   "metadata": {},
   "outputs": [],
   "source": []
  },
  {
   "cell_type": "code",
   "execution_count": null,
   "metadata": {},
   "outputs": [],
   "source": []
  },
  {
   "cell_type": "code",
   "execution_count": 357,
   "metadata": {},
   "outputs": [
    {
     "name": "stdout",
     "output_type": "stream",
     "text": [
      "Seri1.....=\n",
      "0    1\n",
      "1    2\n",
      "2    3\n",
      "3    4\n",
      "4    5\n",
      "dtype: int64\n",
      "Seri2.....=\n",
      "0    a\n",
      "1    b\n",
      "2    c\n",
      "3    d\n",
      "4    e\n",
      "dtype: object\n",
      "Seri.....=\n",
      "0    1\n",
      "1    2\n",
      "2    3\n",
      "3    4\n",
      "4    5\n",
      "5    a\n",
      "6    b\n",
      "7    c\n",
      "8    d\n",
      "9    e\n",
      "dtype: object\n",
      "Seridekiindexi 4,5,6 Olan Degerserler.....=\n",
      "4    5\n",
      "5    a\n",
      "6    b\n",
      "dtype: object\n"
     ]
    }
   ],
   "source": [
    "# 31.sorunun cevabi\n",
    "\n",
    "seri1 = pd.Series([1,2,3,4,5])  \n",
    "print('Seri1.....=',seri1,sep='\\n')\n",
    "seri2 = pd.Series(['a','b','c','d','e'])\n",
    "print('Seri2.....=',seri2,sep='\\n')\n",
    "seri = pd.concat([seri1, seri2], ignore_index=True)\n",
    "print('Seri.....=',seri,sep='\\n')\n",
    "print('Seridekiindexi 4,5,6 Olan Degerserler.....=',seri.iloc[4:7],sep='\\n')"
   ]
  },
  {
   "cell_type": "code",
   "execution_count": null,
   "metadata": {},
   "outputs": [],
   "source": []
  },
  {
   "cell_type": "code",
   "execution_count": null,
   "metadata": {},
   "outputs": [],
   "source": []
  },
  {
   "cell_type": "markdown",
   "metadata": {},
   "source": [
    "Master odev ;"
   ]
  },
  {
   "cell_type": "code",
   "execution_count": null,
   "metadata": {},
   "outputs": [],
   "source": [
    "import random\n",
    "import numpy as np\n",
    "import pandas as pn\n",
    "\n",
    "\n",
    "m1=[[0 for x in range(20) ]for y in range(20)]\n",
    "m2=[[0 for x in range(20) ]for y in range(20)]\n",
    "\n",
    "\n",
    "for i in range(20):\n",
    "    for j in range(20):\n",
    "        m1[i][j]= random.randint(0,9)\n",
    "        m2[i][j] = random.randint(0,9)\n",
    "\n",
    "cikarma=np.subtract(m1,m2)\n",
    "print('Matrix_1.....=',m1)\n",
    "print('Matrix_2.....=',m2)\n",
    "print('Sonuc M1-M2....=',cikarma,sep='\\n')\n",
    "print(\"diagonal_matrix....=\",cikarma.diagonal())"
   ]
  },
  {
   "cell_type": "code",
   "execution_count": null,
   "metadata": {},
   "outputs": [],
   "source": []
  },
  {
   "cell_type": "code",
   "execution_count": null,
   "metadata": {},
   "outputs": [],
   "source": []
  },
  {
   "cell_type": "code",
   "execution_count": null,
   "metadata": {},
   "outputs": [],
   "source": []
  }
 ],
 "metadata": {
  "kernelspec": {
   "display_name": "Python 3",
   "language": "python",
   "name": "python3"
  },
  "language_info": {
   "codemirror_mode": {
    "name": "ipython",
    "version": 3
   },
   "file_extension": ".py",
   "mimetype": "text/x-python",
   "name": "python",
   "nbconvert_exporter": "python",
   "pygments_lexer": "ipython3",
   "version": "3.8.5"
  }
 },
 "nbformat": 4,
 "nbformat_minor": 4
}
