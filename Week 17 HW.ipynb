{
 "metadata": {
  "language_info": {
   "codemirror_mode": {
    "name": "ipython",
    "version": 3
   },
   "file_extension": ".py",
   "mimetype": "text/x-python",
   "name": "python",
   "nbconvert_exporter": "python",
   "pygments_lexer": "ipython3",
   "version": "3.8.5"
  },
  "orig_nbformat": 2,
  "kernelspec": {
   "name": "python385jvsc74a57bd0b3ba2566441a7c06988d0923437866b63cedc61552a5af99d1f4fb67d367b25f",
   "display_name": "Python 3.8.5 64-bit ('base': conda)"
  }
 },
 "nbformat": 4,
 "nbformat_minor": 2,
 "cells": [
  {
   "cell_type": "code",
   "execution_count": 1,
   "metadata": {},
   "outputs": [],
   "source": [
    "# 1.\tNumpy’da Vektor ve Matrisin farkini tek cumle ile ifade ediniz.\n",
    "# Vektor --> Tek boyutli dizi\n",
    "# Matris --> 2 boyutlu dizi"
   ]
  },
  {
   "cell_type": "code",
   "execution_count": 2,
   "metadata": {},
   "outputs": [
    {
     "output_type": "execute_result",
     "data": {
      "text/plain": [
       "array([0, 1, 2, 3, 4, 5, 6, 7, 8, 9])"
      ]
     },
     "metadata": {},
     "execution_count": 2
    }
   ],
   "source": [
    "# 2.\t10 elemanli bir listeden NumPy Array’i olusturunuz.\n",
    "import numpy as np\n",
    "liste = [0,1,2,3,4,5,6,7,8,9]\n",
    "np.array(liste)"
   ]
  },
  {
   "cell_type": "code",
   "execution_count": 3,
   "metadata": {},
   "outputs": [
    {
     "output_type": "execute_result",
     "data": {
      "text/plain": [
       "array([[0, 0, 0, 0, 0, 0, 0, 0, 0, 0],\n",
       "       [0, 0, 0, 0, 0, 0, 0, 0, 0, 0],\n",
       "       [0, 0, 0, 0, 0, 0, 0, 0, 0, 0],\n",
       "       [0, 0, 0, 0, 0, 0, 0, 0, 0, 0],\n",
       "       [0, 0, 0, 0, 0, 0, 0, 0, 0, 0],\n",
       "       [0, 0, 0, 0, 0, 0, 0, 0, 0, 0],\n",
       "       [0, 0, 0, 0, 0, 0, 0, 0, 0, 0],\n",
       "       [0, 0, 0, 0, 0, 0, 0, 0, 0, 0],\n",
       "       [0, 0, 0, 0, 0, 0, 0, 0, 0, 0],\n",
       "       [0, 0, 0, 0, 0, 0, 0, 0, 0, 0]])"
      ]
     },
     "metadata": {},
     "execution_count": 3
    }
   ],
   "source": [
    "# 3.\tIcerisinde ‘0’ lar olan, ve veri tipi integer olan 10X10’luk bir matris olusturunuz.\n",
    "np.zeros((10,10),dtype= int)"
   ]
  },
  {
   "cell_type": "code",
   "execution_count": 4,
   "metadata": {},
   "outputs": [
    {
     "output_type": "execute_result",
     "data": {
      "text/plain": [
       "array([[1., 1., 1., 1., 1., 1., 1., 1., 1., 1.],\n",
       "       [1., 1., 1., 1., 1., 1., 1., 1., 1., 1.],\n",
       "       [1., 1., 1., 1., 1., 1., 1., 1., 1., 1.],\n",
       "       [1., 1., 1., 1., 1., 1., 1., 1., 1., 1.],\n",
       "       [1., 1., 1., 1., 1., 1., 1., 1., 1., 1.],\n",
       "       [1., 1., 1., 1., 1., 1., 1., 1., 1., 1.],\n",
       "       [1., 1., 1., 1., 1., 1., 1., 1., 1., 1.],\n",
       "       [1., 1., 1., 1., 1., 1., 1., 1., 1., 1.],\n",
       "       [1., 1., 1., 1., 1., 1., 1., 1., 1., 1.],\n",
       "       [1., 1., 1., 1., 1., 1., 1., 1., 1., 1.]])"
      ]
     },
     "metadata": {},
     "execution_count": 4
    }
   ],
   "source": [
    "# 4 \tIcerisinde ‘1’ ler olan, veri tipi float olan 10X10’luk bir matris olusturunuz.\n",
    "np.ones((10,10),dtype= float)"
   ]
  },
  {
   "cell_type": "code",
   "execution_count": 5,
   "metadata": {},
   "outputs": [
    {
     "output_type": "execute_result",
     "data": {
      "text/plain": [
       "array([[9, 9, 9, 9, 9, 9, 9, 9, 9, 9],\n",
       "       [9, 9, 9, 9, 9, 9, 9, 9, 9, 9],\n",
       "       [9, 9, 9, 9, 9, 9, 9, 9, 9, 9],\n",
       "       [9, 9, 9, 9, 9, 9, 9, 9, 9, 9],\n",
       "       [9, 9, 9, 9, 9, 9, 9, 9, 9, 9],\n",
       "       [9, 9, 9, 9, 9, 9, 9, 9, 9, 9],\n",
       "       [9, 9, 9, 9, 9, 9, 9, 9, 9, 9],\n",
       "       [9, 9, 9, 9, 9, 9, 9, 9, 9, 9],\n",
       "       [9, 9, 9, 9, 9, 9, 9, 9, 9, 9],\n",
       "       [9, 9, 9, 9, 9, 9, 9, 9, 9, 9]])"
      ]
     },
     "metadata": {},
     "execution_count": 5
    }
   ],
   "source": [
    "# 5.\tIcerisinde ‘9’ lar olan, veri tipi integer olan 10X10’luk bir matris olusturunuz.\n",
    "np.full((10,10),9,dtype= int)"
   ]
  },
  {
   "cell_type": "code",
   "execution_count": 6,
   "metadata": {},
   "outputs": [
    {
     "output_type": "execute_result",
     "data": {
      "text/plain": [
       "array([ 5,  8, 11, 14, 17, 20, 23])"
      ]
     },
     "metadata": {},
     "execution_count": 6
    }
   ],
   "source": [
    "# 6.\t5 ile 25 arasinda, 3’er 3’er atlayan tek boyutlu bir Array olusturunuz.\n",
    "np.arange(5,25,3)"
   ]
  },
  {
   "cell_type": "code",
   "execution_count": 7,
   "metadata": {},
   "outputs": [
    {
     "output_type": "execute_result",
     "data": {
      "text/plain": [
       "array([-1.        , -0.93103448, -0.86206897, -0.79310345, -0.72413793,\n",
       "       -0.65517241, -0.5862069 , -0.51724138, -0.44827586, -0.37931034,\n",
       "       -0.31034483, -0.24137931, -0.17241379, -0.10344828, -0.03448276,\n",
       "        0.03448276,  0.10344828,  0.17241379,  0.24137931,  0.31034483,\n",
       "        0.37931034,  0.44827586,  0.51724138,  0.5862069 ,  0.65517241,\n",
       "        0.72413793,  0.79310345,  0.86206897,  0.93103448,  1.        ])"
      ]
     },
     "metadata": {},
     "execution_count": 7
    }
   ],
   "source": [
    "# 7.\t-1 ile 1 arasinda 30 adet Array olusturunuz.\n",
    "np.linspace(-1, 1, 30)"
   ]
  },
  {
   "cell_type": "code",
   "execution_count": 8,
   "metadata": {},
   "outputs": [
    {
     "output_type": "execute_result",
     "data": {
      "text/plain": [
       "array([[ 0,  1,  2,  3,  4,  5],\n",
       "       [ 6,  7,  8,  9, 10, 11],\n",
       "       [12, 13, 14, 15, 16, 17],\n",
       "       [18, 19, 20, 21, 22, 23],\n",
       "       [24, 25, 26, 27, 28, 29]])"
      ]
     },
     "metadata": {},
     "execution_count": 8
    }
   ],
   "source": [
    "# 8.\t0 ile 30 arasinda 5x6’lik bir matris olusturun.\n",
    "np.arange(30).reshape(5,6)"
   ]
  },
  {
   "cell_type": "code",
   "execution_count": 9,
   "metadata": {},
   "outputs": [
    {
     "output_type": "execute_result",
     "data": {
      "text/plain": [
       "array([[1., 0., 0., 0., 0., 0., 0., 0., 0., 0.],\n",
       "       [0., 1., 0., 0., 0., 0., 0., 0., 0., 0.],\n",
       "       [0., 0., 1., 0., 0., 0., 0., 0., 0., 0.],\n",
       "       [0., 0., 0., 1., 0., 0., 0., 0., 0., 0.],\n",
       "       [0., 0., 0., 0., 1., 0., 0., 0., 0., 0.],\n",
       "       [0., 0., 0., 0., 0., 1., 0., 0., 0., 0.],\n",
       "       [0., 0., 0., 0., 0., 0., 1., 0., 0., 0.],\n",
       "       [0., 0., 0., 0., 0., 0., 0., 1., 0., 0.],\n",
       "       [0., 0., 0., 0., 0., 0., 0., 0., 1., 0.],\n",
       "       [0., 0., 0., 0., 0., 0., 0., 0., 0., 1.]])"
      ]
     },
     "metadata": {},
     "execution_count": 9
    }
   ],
   "source": [
    "# 9.\tKosegenleri 1 olan 10x10’luk bir matris olusturunuz.\n",
    "np.eye(10)  \n",
    "#  np.identity(10)"
   ]
  },
  {
   "cell_type": "code",
   "execution_count": 10,
   "metadata": {},
   "outputs": [
    {
     "output_type": "stream",
     "name": "stdout",
     "text": [
      "[[4 3 7 4 4 0 6 0 0 2]\n [6 4 1 7 7 5 8 2 9 7]\n [9 5 7 1 7 9 9 9 8 1]\n [6 3 6 9 8 6 0 9 8 9]\n [1 3 8 3 5 8 5 7 3 0]]\neleman sayisi: 50\nboyut bilgisi: 2\nsatir sutun bilgisi: (5, 10)\nveri tipi: int32\n"
     ]
    }
   ],
   "source": [
    "# 10.\t0 ile 10 arasinda 5x10’lik bir matris olusturun. (integer) ve bu matrisin;\n",
    "# •\teleman sayisini\n",
    "# •\tboyut bilgisini/sayisini\n",
    "# •\tsatir X sutun bilgisini\n",
    "# •\tveri tipini numpy metodlariyla yazdiriniz.\n",
    "\n",
    "data = np.random.randint(10, size=(5,10))\n",
    "print(data)\n",
    "print('eleman sayisi:',data.size)   # eleman sayisi\n",
    "print('boyut bilgisi:',data.ndim)   # boyut bilgisi\n",
    "print('satir sutun bilgisi:',data.shape)  # satir sutun bilgisi\n",
    "print('veri tipi:',data.dtype)  # veri tipi\n",
    "\n",
    "\n"
   ]
  },
  {
   "cell_type": "code",
   "execution_count": 11,
   "metadata": {},
   "outputs": [
    {
     "output_type": "execute_result",
     "data": {
      "text/plain": [
       "array([[[0, 7, 4, 1, 7, 5, 1],\n",
       "        [1, 6, 4, 6, 2, 8, 8],\n",
       "        [9, 0, 8, 4, 9, 0, 4],\n",
       "        [9, 6, 7, 5, 8, 1, 1]],\n",
       "\n",
       "       [[2, 2, 2, 7, 1, 7, 2],\n",
       "        [7, 0, 7, 8, 6, 9, 3],\n",
       "        [0, 8, 7, 3, 4, 2, 8],\n",
       "        [5, 4, 0, 5, 4, 1, 6]],\n",
       "\n",
       "       [[1, 6, 1, 5, 9, 0, 4],\n",
       "        [6, 7, 9, 8, 7, 2, 3],\n",
       "        [5, 4, 2, 9, 8, 4, 0],\n",
       "        [5, 7, 5, 7, 4, 9, 3]]])"
      ]
     },
     "metadata": {},
     "execution_count": 11
    }
   ],
   "source": [
    "# 11.\t0 ile 10 arasindaki degerlerden olusan 3 adet 4x7’lik bir matris olusturunuz. (3 boyutlu)\n",
    "np.random.randint(10, size=(3,4,7))\n"
   ]
  },
  {
   "cell_type": "code",
   "execution_count": 12,
   "metadata": {},
   "outputs": [
    {
     "output_type": "execute_result",
     "data": {
      "text/plain": [
       "array([[ 0,  1,  2,  3],\n",
       "       [ 4,  5,  6,  7],\n",
       "       [ 8,  9, 10, 11]])"
      ]
     },
     "metadata": {},
     "execution_count": 12
    }
   ],
   "source": [
    "# 12.\tBir vektor olusturunuz ve daha sonrasinda ayni vektoru bir matrise ceviriniz. (boyut sayisini degistirin.)\n",
    "np.arange(12).reshape(3,4)"
   ]
  },
  {
   "cell_type": "code",
   "execution_count": 13,
   "metadata": {},
   "outputs": [
    {
     "output_type": "execute_result",
     "data": {
      "text/plain": [
       "array([   1,    2,    3,    4,   11,   12,   13,   14,  111,  112,  113,\n",
       "        114, 1111, 1112, 1113, 1114])"
      ]
     },
     "metadata": {},
     "execution_count": 13
    }
   ],
   "source": [
    "# 13.\t4 tane ayri tek boyutlu array’i birlestirerek bir array olusturunuz.\n",
    "a = np.arange(1,5)\n",
    "b = np.arange(11,15)\n",
    "c = np.arange(111,115)\n",
    "d = np.arange(1111,1115)\n",
    "np.concatenate([a,b,c,d])\n",
    "\n",
    "\n"
   ]
  },
  {
   "cell_type": "code",
   "execution_count": 14,
   "metadata": {},
   "outputs": [
    {
     "output_type": "execute_result",
     "data": {
      "text/plain": [
       "array([[11,  3,  4,  5],\n",
       "       [22,  6,  7,  8]])"
      ]
     },
     "metadata": {},
     "execution_count": 14
    }
   ],
   "source": [
    "# 14.\t2 boyutlu bir vektor ve bir matris olusturun(ayri ayri), bu iki arrayi numpy metodlarini kullanarak sutun bazli birlestiriniz,\n",
    "\n",
    "x = np.array([[11], [22]])\n",
    "\n",
    "y = np.array([[3, 4, 5], [6, 7, 8]])\n",
    "np.hstack([x,y])"
   ]
  },
  {
   "cell_type": "code",
   "execution_count": 15,
   "metadata": {},
   "outputs": [],
   "source": [
    "# 15.\tNumpy’da “axis=1” ve “axis=0” arasinda ne fark vardir. Teorik olarak yaziniz?\n",
    "\n",
    "# axis=0  satiri, x eksenini, yatayi\n",
    "# axis=1  sutunu, y eksenini, dikeyi   temsil  eder."
   ]
  },
  {
   "cell_type": "code",
   "execution_count": 16,
   "metadata": {},
   "outputs": [
    {
     "output_type": "execute_result",
     "data": {
      "text/plain": [
       "array([[0, 1, 2],\n",
       "       [3, 4, 5],\n",
       "       [7, 7, 7],\n",
       "       [8, 8, 8],\n",
       "       [9, 9, 9]])"
      ]
     },
     "metadata": {},
     "execution_count": 16
    }
   ],
   "source": [
    "# 16.\tFarkli boyutlardaki arraylari satin ve sutun bazli ayri ayri birlestiriniz.\n",
    "a = np.arange(6)                # 1x6 boyutunda arrayi 3x3 array ile birlestirmek istiyoruz\n",
    "a = np.arange(6).reshape(2,3)   # 1x6 arrayi 2x3'e cevirebiliriz\n",
    "b = np.array([[7,7,7],[8,8,8],[9,9,9]])    # bu durumda 3x3 ile dikey olarak birlestirebiliriz       \n",
    "np.vstack((a, b))      # ayni boyuta getirip birlestirebiliriz"
   ]
  },
  {
   "cell_type": "code",
   "execution_count": 17,
   "metadata": {},
   "outputs": [
    {
     "output_type": "stream",
     "name": "stdout",
     "text": [
      "\n [1 2 3 0 1 2 3 4 5 6 7 8]\n"
     ]
    }
   ],
   "source": [
    "x = np.array([1,2,3])                   # 1x3 ile\n",
    "y = np.arange(9).reshape(3,3)           # 3x3 yatay olarak birlestirmek icin\n",
    "z = np.hstack((x, y.reshape(9,)))       # ayni boyuta getirip (3x3 = 1x9) birlestirebiliriz\n",
    "print(\"\\n\",z)"
   ]
  },
  {
   "cell_type": "code",
   "execution_count": 18,
   "metadata": {},
   "outputs": [
    {
     "output_type": "execute_result",
     "data": {
      "text/plain": [
       "(array([1, 2]), array([3, 4]), array([5, 6]), array([7, 8]), array([ 9, 10]))"
      ]
     },
     "metadata": {},
     "execution_count": 18
    }
   ],
   "source": [
    "# 17.\t10 elemanli bi liste olusturunuz ve bu listeyi Numpy metodlariyla bolerek(split) 5 ayri array olusturunuz.\n",
    "dizi = [1,2,3,4,5,6,7,8,9,10]\n",
    "a,b,c,d,e = np.split(dizi, [2,4,6,8])\n",
    "a,b,c,d,e"
   ]
  },
  {
   "cell_type": "code",
   "execution_count": 19,
   "metadata": {},
   "outputs": [],
   "source": [
    "# 18.\tRandom bir array olusturunuz ve bu arrayi buyukten kucuge dogru siralayiniz.Ve bu siralamadan sonra hangi elemanin hangi indexte oldugunu gosteren bir metod uygulayiniz."
   ]
  },
  {
   "cell_type": "code",
   "execution_count": 20,
   "metadata": {},
   "outputs": [
    {
     "output_type": "execute_result",
     "data": {
      "text/plain": [
       "array([0, 0, 0, 4, 5, 6, 6, 6, 9, 9])"
      ]
     },
     "metadata": {},
     "execution_count": 20
    }
   ],
   "source": [
    "data = np.random.randint(10, size=10)\n",
    "data.sort()\n",
    "data"
   ]
  },
  {
   "cell_type": "code",
   "execution_count": 21,
   "metadata": {},
   "outputs": [
    {
     "output_type": "stream",
     "name": "stdout",
     "text": [
      "[5 9 7 8 0 3 5 0 9 2 4 8 3 1 4 4 9 4 1 0]\n[8 3 0]\n"
     ]
    }
   ],
   "source": [
    "# 19.\t20 elemanli random bir vektor olusturunuz. Bu vektorun 3. 5. ve 7. elemanlarina ulasin.\n",
    "data = np.random.randint(10, size=20)\n",
    "print(data)\n",
    "sec=[3,5,7]\n",
    "print(data[sec])"
   ]
  },
  {
   "cell_type": "code",
   "execution_count": 22,
   "metadata": {},
   "outputs": [
    {
     "output_type": "stream",
     "name": "stdout",
     "text": [
      "[4 8 3 5 3 5 3 5 7 5]\n[ 4  8  3  5 99  5  3  5  7  5]\n"
     ]
    }
   ],
   "source": [
    "# 20.\t10 elemanli random bir vektor olusturunuz ve bu arrayin 4. elemanini farkli bir sayiyla degistiriniz.\n",
    "data = np.random.randint(10, size=10)\n",
    "print(data)\n",
    "data[4]=99\n",
    "print(data)\n"
   ]
  },
  {
   "source": [
    "21.\t“Diagonal Matrix” ve “Trace of Matrix” kavramlari hakkinda kucuk bir arastirma yapip bunlarin ne oldugunu belirten kucuk bir aciklama yaziniz.\n",
    "\n",
    "Bir kare matriste asal köşegen üzerindeki elemanların dışında kalan tüm elemanlar sıfır ise bu matrise köşegen yani \"DIAGONAL matris\" matris denir.\n",
    "\n",
    "Kosegen uzerindeki elemanlarin toplamina Matris izi \"Trace of Matrix\" denir\n",
    "\n"
   ],
   "cell_type": "markdown",
   "metadata": {}
  },
  {
   "cell_type": "code",
   "execution_count": 23,
   "metadata": {},
   "outputs": [
    {
     "output_type": "stream",
     "name": "stdout",
     "text": [
      "[[1. 0. 0. 0. 0.]\n [0. 1. 0. 0. 0.]\n [0. 0. 1. 0. 0.]\n [0. 0. 0. 1. 0.]\n [0. 0. 0. 0. 1.]]\n[1. 1. 1. 1. 1.]\n1.0\n1.0\n1.0\n1.0\n1.0\n"
     ]
    }
   ],
   "source": [
    "# 22.\t5x5’lik Diagonal bir matris olusturunuz ve Diagonaline denk gelen indexlere ulasiniz.(ayri ayri)\n",
    "dizi = np.eye(5,5)\n",
    "print(dizi)\n",
    "\n",
    "print(dizi[[0,1,2,3,4],[0,1,2,3,4]])    # dizi ile\n",
    "\n",
    "for i in range (len(dizi)):             # dongu ile\n",
    "    print(dizi[i,i])\n"
   ]
  },
  {
   "cell_type": "code",
   "execution_count": 24,
   "metadata": {},
   "outputs": [
    {
     "output_type": "execute_result",
     "data": {
      "text/plain": [
       "array([13, 14, 15, 16, 17, 18, 19])"
      ]
     },
     "metadata": {},
     "execution_count": 24
    }
   ],
   "source": [
    "# 23.\t10 ile 20 arasinda bir vektor olusturunuz. Ve 3. indexten son indexe kadar olan degerleri yazdiriniz.\n",
    "dizi = np.arange(10,20)\n",
    "dizi[3:]\n"
   ]
  },
  {
   "cell_type": "code",
   "execution_count": 25,
   "metadata": {},
   "outputs": [
    {
     "output_type": "stream",
     "name": "stdout",
     "text": [
      "[[ 0  1  2  3  4  5  6  7  8  9]\n",
      " [10 11 12 13 14 15 16 17 18 19]\n",
      " [20 21 22 23 24 25 26 27 28 29]\n",
      " [30 31 32 33 34 35 36 37 38 39]\n",
      " [40 41 42 43 44 45 46 47 48 49]\n",
      " [50 51 52 53 54 55 56 57 58 59]\n",
      " [60 61 62 63 64 65 66 67 68 69]\n",
      " [70 71 72 73 74 75 76 77 78 79]\n",
      " [80 81 82 83 84 85 86 87 88 89]\n",
      " [90 91 92 93 94 95 96 97 98 99]]\n",
      "35\n",
      "\n",
      "[ 5 15 25 35 45 55 65 75 85 95]\n",
      "\n",
      "[20 21 22 23 24 25 26 27 28 29]\n",
      "\n",
      "[[20 21 22 23 24 25 26 27 28 29]\n",
      " [30 31 32 33 34 35 36 37 38 39]\n",
      " [40 41 42 43 44 45 46 47 48 49]\n",
      " [50 51 52 53 54 55 56 57 58 59]\n",
      " [60 61 62 63 64 65 66 67 68 69]]\n",
      "\n",
      "[[23 24 25 26]\n",
      " [33 34 35 36]\n",
      " [43 44 45 46]]\n",
      "\n",
      "[[50 51 52 53]\n",
      " [60 61 62 63]\n",
      " [70 71 72 73]\n",
      " [80 81 82 83]\n",
      " [90 91 92 93]]\n",
      "\n",
      "[[ 3  6  9]\n",
      " [13 16 19]\n",
      " [23 26 29]\n",
      " [33 36 39]\n",
      " [43 46 49]\n",
      " [53 56 59]\n",
      " [63 66 69]\n",
      " [73 76 79]\n",
      " [83 86 89]\n",
      " [93 96 99]]\n",
      "\n",
      "[[   0    1    2    3    4    5    6    7    8    9]\n",
      " [  10   11   12   13   14   15   16   17   18   19]\n",
      " [  20   21   22   23   24   25   26   27   28   29]\n",
      " [  30   31   32   33   34   35   36   37   38   39]\n",
      " [  40   41   42   43   44   45   46   47   48   49]\n",
      " [  50   51   52   53   54 1971   56   57   58   59]\n",
      " [  60   61   62   63   64   65   66   67   68   69]\n",
      " [  70   71   72   73   74   75   76   77   78   79]\n",
      " [  80   81   82   83   84   85   86   87   88   89]\n",
      " [  90   91   92   93   94   95   96   97   98   99]]\n"
     ]
    }
   ],
   "source": [
    "# 24.\t10X10 luk bir matris olusturunuz ve ;\n",
    "# •\t3.satir ve 5.sutuna ulasiniz.\n",
    "# •\t5.sutunun tum satirlarina ulasiniz.\n",
    "# •\tTum sutunlarin 2.satirlarina ulasiniz.\n",
    "# •\ttum sutunlarin 2 ile 7 arasindaki satirlarina ulasiniz.\n",
    "# •\tsatir indexi 2’den 5’e ve sutun indexi 3 den 7’ye kadar olan degerlere ulasiniz.\n",
    "# •\tsatir indexi 5’den en sona ve sutun indexi en bastan 4’e kadar olan degerlere ulasiniz.\n",
    "# •\tsutun indexi sadece 3, 6, 9 olan kolonlarin(sutunlarin), tum satirlarina ulasiniz.\n",
    "# •\t5.indexli satir ve 5.indexli sutuna denk gelen degeri, dogum yilinizla degistiriniz.\n",
    "\n",
    "data = np.arange(100).reshape(10,10)\n",
    "print(data)\n",
    "print(data[3,5])\n",
    "print()\n",
    "print(data[:,5])\n",
    "print()\n",
    "print(data[2,:])\n",
    "print()\n",
    "print(data[2:7,:])\n",
    "print()\n",
    "print(data[2:5,3:7])\n",
    "print()\n",
    "print(data[5:,:4])\n",
    "print()\n",
    "print(data[:,[3,6,9]])\n",
    "print()\n",
    "data[5,5]=1971\n",
    "print(data)"
   ]
  },
  {
   "cell_type": "code",
   "execution_count": 26,
   "metadata": {},
   "outputs": [],
   "source": [
    "# 25.\t0’dan 50’ye kadar 5’er 5’er atlayarak giden bir array olusturunuz(tek boyutlu) ve numpy metodlariyla asagidaki islemleri uygulayin;\n",
    "# •\t20 den buyuk olan kac deger var.\n",
    "# •\t30’dan kucuk kac deger var\n",
    "# •\ticerisinde 33 gecen kac deger var\n",
    "# •\tolusturulan arrayin tum elemanlarini 5 ile carpin.\n",
    "# •\tolusturulan arrayin tum elemanlarinin 2 ile bolumunden kalanlari yazdiriniz.\n"
   ]
  },
  {
   "cell_type": "code",
   "execution_count": 27,
   "metadata": {},
   "outputs": [
    {
     "output_type": "stream",
     "name": "stdout",
     "text": [
      "[ 0  5 10 15 20 25 30 35 40 45]\n5\n6\n0\n[  0  25  50  75 100 125 150 175 200 225]\n[0 1 0 1 0 1 0 1 0 1]\n"
     ]
    }
   ],
   "source": [
    "data = np.arange(0,50,5)\n",
    "print(data)\n",
    "print(np.sum(data > 20))\n",
    "print(np.sum(data < 30)) \n",
    "print(np.sum(data == 33)) \n",
    "print(data * 5)\n",
    "print(data % 2) \n"
   ]
  },
  {
   "cell_type": "code",
   "execution_count": 28,
   "metadata": {},
   "outputs": [
    {
     "output_type": "stream",
     "name": "stdout",
     "text": [
      "0.5208355526867622\n0.28238527955329407\n0.07974144610839204\n0.5584862056665023\n0.040928318256456375\n0.9952518006379161\n"
     ]
    }
   ],
   "source": [
    "# 26.\t0 ile 1 arasinda 50 elamanli bir array olusturunuz ve;\n",
    "# •\tortalamasini aliniz.\n",
    "# •\tstandart sapmasini aliniz.\n",
    "# •\tvaryansini aliniz.\n",
    "# •\tmedian’ini aliniz.\n",
    "# •\ten kucuk degeri bulunuz.\n",
    "# •\ten buyuk degeri bulunuz.\n",
    "\n",
    "data1=np.random.rand(1,50)\n",
    "print(data1.mean())\n",
    "print(data1.std())\n",
    "print(data1.var())\n",
    "print(np.median(data1))\n",
    "print(np.min(data1))\n",
    "print(np.max(data1))\n",
    "\n"
   ]
  },
  {
   "cell_type": "code",
   "execution_count": 29,
   "metadata": {},
   "outputs": [],
   "source": [
    "#27.\tPandas seriler ve numpy arrayler arasindaki farklar nelerdir yaziniz.\n",
    "# 1) Pandas serileri farkli veri tipleri barindirabilir\n",
    "# 2) Indexlerde degisiklik yapma imkani vardir"
   ]
  },
  {
   "cell_type": "code",
   "execution_count": 30,
   "metadata": {},
   "outputs": [
    {
     "output_type": "execute_result",
     "data": {
      "text/plain": [
       "A       1\n",
       "B     2.3\n",
       "C    None\n",
       "D     ali\n",
       "E    True\n",
       "dtype: object"
      ]
     },
     "metadata": {},
     "execution_count": 30
    }
   ],
   "source": [
    "# 28.\tIndexi buyuk harflerden olusan, icinde farkli veri tipleri bulunan 5 elemanli bir seri olusturunuz.\n",
    "import pandas as pd\n",
    "seri = pd.Series([1, 2.3 , None, \"ali\", True], index = ('A','B','C','D','E'))\n",
    "seri"
   ]
  },
  {
   "cell_type": "code",
   "execution_count": 31,
   "metadata": {},
   "outputs": [
    {
     "output_type": "execute_result",
     "data": {
      "text/plain": [
       "Hollanda    Amsterdam\n",
       "Cin             Pekin\n",
       "Italya           Roma\n",
       "Japonya         Tokyo\n",
       "Malta         Valetta\n",
       "dtype: object"
      ]
     },
     "metadata": {},
     "execution_count": 31
    }
   ],
   "source": [
    "# 29.\tKey’ler ulke adlari, value’lar baskentleri olacak sekilde 5 elemanli bir sozluk olusturup onu seriye ceviriniz. (ornek: fransa:paris)\n",
    "\n",
    "sozluk = { \"Hollanda\" : \"Amsterdam\", \"Cin\" : \"Pekin\", \"Italya\" : \"Roma\",\"Japonya\" : \"Tokyo\", \"Malta\" : \"Valetta\"}\n",
    "new_seri = pd.Series(sozluk)\n",
    "new_seri"
   ]
  },
  {
   "cell_type": "code",
   "execution_count": 32,
   "metadata": {},
   "outputs": [
    {
     "output_type": "stream",
     "name": "stdout",
     "text": [
      "A    0\nB    7\nC    4\nD    3\nE    4\nF    7\nG    2\nH    7\nI    9\nJ    8\ndtype: int32\n4\n0\nB    7\nG    2\ndtype: int32\nB    7\nC    4\nD    3\nE    4\nF    7\nG    2\ndtype: int32\nE    4\nF    7\nG    2\nH    7\nI    9\nJ    8\ndtype: int32\n"
     ]
    }
   ],
   "source": [
    "# 30.\t\n",
    "# a) 10 elemanli random bir vektor olusturun.\n",
    "# b) Vektoru seriye cevirip indexleri str olarak belirleyin. (ornek: a,b,c,d,e,f,g.. seklinde)\n",
    "# c) Index ismine gore serinin 3. elemanina ulasin. (ornek: c indexine karsilik gelen deger)\n",
    "# d) Serinin index sirasina gore 1. Elamanina ulasin.\n",
    "# e) Index ismine gore serinin 2. Ve 7. Eleman. ayni anda ulasin. (Ornek: b ve g indexine karsilik gelen degerler)\n",
    "# f) Index ismi ile serinin 2. Ve 7. Elemanlari arasindaki degerleri yazdirin. (Ornek: b,c,d,e,f,g indexlerine karsilik gelen degerler)\n",
    "# g) Index sirasiyla serinin 4. indexinden son indexine kadar olan degerleri yazdirin.\n",
    "\n",
    "data = np.random.randint(10, size=10)   # a\n",
    "new_seri = pd.Series(data,  index = ('A','B','C','D','E', 'F', 'G', 'H', 'I', 'J')) # b\n",
    "print(new_seri)\n",
    "print(new_seri['C'])        # c   \n",
    "print(new_seri[0])          # d\n",
    "print(new_seri[['B','G']])  # e\n",
    "print(new_seri['B':'G'])    # f\n",
    "print(new_seri[4:])         # g"
   ]
  },
  {
   "cell_type": "code",
   "execution_count": 39,
   "metadata": {},
   "outputs": [
    {
     "output_type": "stream",
     "name": "stdout",
     "text": [
      "1      1\n2      2\n3      3\n4      4\n5      5\n6     11\n7     22\n8     33\n9     44\n10    55\ndtype: int64\n4     4\n5     5\n6    11\ndtype: int64\n4     4\n5     5\n6    11\ndtype: int64\n"
     ]
    }
   ],
   "source": [
    "# 31.\t\n",
    "# a) 2 adet 5 elemanli seri olusturun.\n",
    "# b) Olusturdugunuz serileri birlestirin.\n",
    "# c) Birlesen 10 elemanli serinin indexini 1’den 10’a kadar olacak sekilde duzenleyin.\n",
    "# d) Indexini duzenlediginiz seride, loc ve iloc metodlari ile, indexi 4,5,6 olan degerlere ulasin.\n",
    "\n",
    "liste1=pd.Series([1,2,3,4,5])\n",
    "liste2=pd.Series([11,22,33,44,55])\n",
    "list_con = pd.concat([liste1, liste2])  \n",
    "list_con.index=range(1,11)\n",
    "print(list_con)\n",
    "\n",
    "print(list_con.loc['4':'6'])\n",
    "print(list_con.iloc[3:6])"
   ]
  },
  {
   "cell_type": "code",
   "execution_count": null,
   "metadata": {},
   "outputs": [],
   "source": [
    "# Master odev ;\n",
    "# Bir dongu icerisinde random olacak sekilde iki tane 20x20’luk matris uretin ve bu matrislerin farklarini alin. Ve fark matrisinin diagonali, -0.1 ile 0.1 arasinda olana kadar bu islemi tekrarlayin. Istenilen matris bulundugunda program dursun ve toplam kac dongunun kuruldugunu, ne kadar sure icinde buldugunu ve istenilen matrisi print ile birlikte ekrana yazdiriniz... Tavsiye: 20 x 20 luk matrisin bulunmasi saatler surebilir. Bu yuzden algoritmanizin dogrulugunu test etmek icin once 4x4, 5x5 gibi kucuk matrislerde deneyebilirsiniz. Ve matris sayisisini arttirarak en son 20x20 u deneyebilirsiniz.\n"
   ]
  },
  {
   "cell_type": "code",
   "execution_count": 40,
   "metadata": {},
   "outputs": [
    {
     "output_type": "stream",
     "name": "stdout",
     "text": [
      "Gecen Zaman :  0.26086950302124023 saniye\nDongu Sayisi:  2151 kez\nMatris:  [-0.08305188 -0.00240248 -0.07821575  0.07195702  0.0877937 ]\n"
     ]
    }
   ],
   "source": [
    "import numpy as np\n",
    "import time\n",
    "\n",
    "loop_count = 0\n",
    "start_time = time.time()\n",
    "\n",
    "while True:\n",
    "    loop_count += 1\n",
    "\n",
    "    matrix1 = np.random.rand(5, 5)\n",
    "    matrix2 = np.random.rand(5, 5)\n",
    "\n",
    "    dif_matrix = matrix1 - matrix2\n",
    "    samp_matr = np.diag(dif_matrix)\n",
    "\n",
    "    if len(list(filter(lambda x: x > 0.1 or x < -0.1, samp_matr))) == 0:\n",
    "        break\n",
    "\n",
    "end_time = time.time()\n",
    "time_diff = end_time - start_time\n",
    "\n",
    "print(\"Gecen Zaman : \", time_diff, \"saniye\")\n",
    "print(\"Dongu Sayisi: \", loop_count, \"kez\")\n",
    "print(\"Matris: \", samp_matr)\n",
    "\n",
    "\n",
    "# Gecen Zaman :  0.26086950302124023 saniye\n",
    "# Dongu Sayisi:  2151 kez\n",
    "# Matris:  [-0.08305188 -0.00240248 -0.07821575  0.07195702  0.0877937 ]\n",
    "\n",
    "# 10x10 Matris icin sonuclar\n",
    "# Gecen Zaman :  1324.5193932056427 saniye\n",
    "# Dongu Sayisi:  25308910 kez\n",
    "# Matris:  [-0.01020434 -0.02920587 -0.06702373  0.08481768  0.08566514 -0.00427998\n",
    "#  -0.05745753 -0.09594201 -0.02223689  0.08269153]"
   ]
  },
  {
   "cell_type": "code",
   "execution_count": null,
   "metadata": {},
   "outputs": [],
   "source": []
  }
 ]
}