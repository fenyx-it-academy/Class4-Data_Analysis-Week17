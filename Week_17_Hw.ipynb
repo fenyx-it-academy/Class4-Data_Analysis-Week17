{
 "cells": [
  {
   "cell_type": "markdown",
   "metadata": {},
   "source": [
    "# Class4-Data_Analysis-Week17\n",
    "\n",
    "---------------------------------\n",
    "\n",
    "# Numpy ve Pandas ile ilgili Odev\n",
    "1.\tNumpy’da Vektor ve Matrisin farkini tek cumle ile ifade ediniz.\n"
   ]
  },
  {
   "cell_type": "code",
   "execution_count": 1,
   "metadata": {},
   "outputs": [],
   "source": [
    "import numpy as np\n",
    "import pandas as pd"
   ]
  },
  {
   "cell_type": "markdown",
   "metadata": {},
   "source": [
    "Vector has only one dimension, But matrix, on the other hand, has multiple dimension."
   ]
  },
  {
   "cell_type": "markdown",
   "metadata": {},
   "source": [
    "2.\t10 elemanli bir listeden NumPy Array’i olusturunuz.\n"
   ]
  },
  {
   "cell_type": "code",
   "execution_count": 2,
   "metadata": {},
   "outputs": [
    {
     "name": "stdout",
     "output_type": "stream",
     "text": [
      "[ 1  2  3  4  5  6  7  8  9 10]\n"
     ]
    }
   ],
   "source": [
    "list_with_ten = [1,2,3,4,5,6,7,8,9,10]\n",
    "array_from_list = np.array(list_with_ten)\n",
    "print(array_from_list)"
   ]
  },
  {
   "cell_type": "markdown",
   "metadata": {},
   "source": [
    "3.\tIcerisinde ‘0’ lar olan, ve veri tipi integer olan 10X10’luk bir matris olusturunuz.\n"
   ]
  },
  {
   "cell_type": "code",
   "execution_count": 3,
   "metadata": {},
   "outputs": [
    {
     "data": {
      "text/plain": [
       "array([[0, 0, 0, 0, 0, 0, 0, 0, 0, 0],\n",
       "       [0, 0, 0, 0, 0, 0, 0, 0, 0, 0],\n",
       "       [0, 0, 0, 0, 0, 0, 0, 0, 0, 0],\n",
       "       [0, 0, 0, 0, 0, 0, 0, 0, 0, 0],\n",
       "       [0, 0, 0, 0, 0, 0, 0, 0, 0, 0],\n",
       "       [0, 0, 0, 0, 0, 0, 0, 0, 0, 0],\n",
       "       [0, 0, 0, 0, 0, 0, 0, 0, 0, 0],\n",
       "       [0, 0, 0, 0, 0, 0, 0, 0, 0, 0],\n",
       "       [0, 0, 0, 0, 0, 0, 0, 0, 0, 0],\n",
       "       [0, 0, 0, 0, 0, 0, 0, 0, 0, 0]])"
      ]
     },
     "execution_count": 3,
     "metadata": {},
     "output_type": "execute_result"
    }
   ],
   "source": [
    "ten_by_ten=np.zeros((10,10), dtype='int')\n",
    "ten_by_ten"
   ]
  },
  {
   "cell_type": "markdown",
   "metadata": {},
   "source": [
    "4.\tIcerisinde ‘1’ ler olan, veri tipi float olan 10X10’luk bir matris olusturunuz.\n"
   ]
  },
  {
   "cell_type": "code",
   "execution_count": 4,
   "metadata": {},
   "outputs": [
    {
     "data": {
      "text/plain": [
       "array([[1., 1., 1., 1., 1., 1., 1., 1., 1., 1.],\n",
       "       [1., 1., 1., 1., 1., 1., 1., 1., 1., 1.],\n",
       "       [1., 1., 1., 1., 1., 1., 1., 1., 1., 1.],\n",
       "       [1., 1., 1., 1., 1., 1., 1., 1., 1., 1.],\n",
       "       [1., 1., 1., 1., 1., 1., 1., 1., 1., 1.],\n",
       "       [1., 1., 1., 1., 1., 1., 1., 1., 1., 1.],\n",
       "       [1., 1., 1., 1., 1., 1., 1., 1., 1., 1.],\n",
       "       [1., 1., 1., 1., 1., 1., 1., 1., 1., 1.],\n",
       "       [1., 1., 1., 1., 1., 1., 1., 1., 1., 1.],\n",
       "       [1., 1., 1., 1., 1., 1., 1., 1., 1., 1.]])"
      ]
     },
     "execution_count": 4,
     "metadata": {},
     "output_type": "execute_result"
    }
   ],
   "source": [
    "np.ones((10,10))"
   ]
  },
  {
   "cell_type": "markdown",
   "metadata": {},
   "source": [
    "5.\tIcerisinde ‘9’ lar olan, veri tipi integer olan 10X10’luk bir matris olusturunuz.\n"
   ]
  },
  {
   "cell_type": "code",
   "execution_count": 5,
   "metadata": {},
   "outputs": [
    {
     "data": {
      "text/plain": [
       "array([[9, 9, 9, 9, 9, 9, 9, 9, 9, 9],\n",
       "       [9, 9, 9, 9, 9, 9, 9, 9, 9, 9],\n",
       "       [9, 9, 9, 9, 9, 9, 9, 9, 9, 9],\n",
       "       [9, 9, 9, 9, 9, 9, 9, 9, 9, 9],\n",
       "       [9, 9, 9, 9, 9, 9, 9, 9, 9, 9],\n",
       "       [9, 9, 9, 9, 9, 9, 9, 9, 9, 9],\n",
       "       [9, 9, 9, 9, 9, 9, 9, 9, 9, 9],\n",
       "       [9, 9, 9, 9, 9, 9, 9, 9, 9, 9],\n",
       "       [9, 9, 9, 9, 9, 9, 9, 9, 9, 9],\n",
       "       [9, 9, 9, 9, 9, 9, 9, 9, 9, 9]])"
      ]
     },
     "execution_count": 5,
     "metadata": {},
     "output_type": "execute_result"
    }
   ],
   "source": [
    "np.full((10,10), 9, dtype='int')"
   ]
  },
  {
   "cell_type": "markdown",
   "metadata": {},
   "source": [
    "6.\t5 ile 25 arasinda, 3’er 3’er atlayan tek boyutlu bir Array olusturunuz.\n"
   ]
  },
  {
   "cell_type": "code",
   "execution_count": 6,
   "metadata": {},
   "outputs": [
    {
     "data": {
      "text/plain": [
       "array([ 5,  8, 11, 14, 17, 20, 23])"
      ]
     },
     "execution_count": 6,
     "metadata": {},
     "output_type": "execute_result"
    }
   ],
   "source": [
    "np.arange(5,25,3)"
   ]
  },
  {
   "cell_type": "markdown",
   "metadata": {},
   "source": [
    "7.\t-1 ile 1 arasinda 30 adet Array olusturunuz.\n"
   ]
  },
  {
   "cell_type": "code",
   "execution_count": 7,
   "metadata": {},
   "outputs": [
    {
     "data": {
      "text/plain": [
       "array([-1.        , -0.93103448, -0.86206897, -0.79310345, -0.72413793,\n",
       "       -0.65517241, -0.5862069 , -0.51724138, -0.44827586, -0.37931034,\n",
       "       -0.31034483, -0.24137931, -0.17241379, -0.10344828, -0.03448276,\n",
       "        0.03448276,  0.10344828,  0.17241379,  0.24137931,  0.31034483,\n",
       "        0.37931034,  0.44827586,  0.51724138,  0.5862069 ,  0.65517241,\n",
       "        0.72413793,  0.79310345,  0.86206897,  0.93103448,  1.        ])"
      ]
     },
     "execution_count": 7,
     "metadata": {},
     "output_type": "execute_result"
    }
   ],
   "source": [
    "np.linspace(-1,1, 30)"
   ]
  },
  {
   "cell_type": "markdown",
   "metadata": {},
   "source": [
    "8.\t0 ile 30 arasinda 5x6’lik bir matris olusturun.\n"
   ]
  },
  {
   "cell_type": "code",
   "execution_count": 8,
   "metadata": {},
   "outputs": [
    {
     "data": {
      "text/plain": [
       "array([[ 0,  1,  2,  3,  4,  5],\n",
       "       [ 6,  7,  8,  9, 10, 11],\n",
       "       [12, 13, 14, 15, 16, 17],\n",
       "       [18, 19, 20, 21, 22, 23],\n",
       "       [24, 25, 26, 27, 28, 29]])"
      ]
     },
     "execution_count": 8,
     "metadata": {},
     "output_type": "execute_result"
    }
   ],
   "source": [
    "np.arange(0,30).reshape((5,6))"
   ]
  },
  {
   "cell_type": "markdown",
   "metadata": {},
   "source": [
    "9.\tKosegenleri 1 olan 10x10’luk bir matris olusturunuz. \n"
   ]
  },
  {
   "cell_type": "code",
   "execution_count": 9,
   "metadata": {},
   "outputs": [
    {
     "data": {
      "text/plain": [
       "array([[1, 0, 0, 0, 0, 0, 0, 0, 0, 0],\n",
       "       [0, 1, 0, 0, 0, 0, 0, 0, 0, 0],\n",
       "       [0, 0, 1, 0, 0, 0, 0, 0, 0, 0],\n",
       "       [0, 0, 0, 1, 0, 0, 0, 0, 0, 0],\n",
       "       [0, 0, 0, 0, 1, 0, 0, 0, 0, 0],\n",
       "       [0, 0, 0, 0, 0, 1, 0, 0, 0, 0],\n",
       "       [0, 0, 0, 0, 0, 0, 1, 0, 0, 0],\n",
       "       [0, 0, 0, 0, 0, 0, 0, 1, 0, 0],\n",
       "       [0, 0, 0, 0, 0, 0, 0, 0, 1, 0],\n",
       "       [0, 0, 0, 0, 0, 0, 0, 0, 0, 1]])"
      ]
     },
     "execution_count": 9,
     "metadata": {},
     "output_type": "execute_result"
    }
   ],
   "source": [
    "np.eye(10, dtype='int')"
   ]
  },
  {
   "cell_type": "markdown",
   "metadata": {},
   "source": [
    "10.\t0 ile 10 arasinda 5x10’lik bir matris olusturun. (integer) ve bu matrisin;\n",
    "  * eleman sayisini\n",
    "  * boyut bilgisini/sayisini\n",
    "  * satir X sutun bilgisini\n",
    "  * veri tipini numpy metodlariyla yazdiriniz.\n"
   ]
  },
  {
   "cell_type": "code",
   "execution_count": 10,
   "metadata": {},
   "outputs": [
    {
     "data": {
      "text/plain": [
       "array([[0, 0, 4, 0, 2, 9, 4, 1, 2, 2],\n",
       "       [2, 6, 8, 3, 3, 4, 8, 5, 8, 6],\n",
       "       [9, 7, 3, 7, 7, 7, 0, 3, 8, 6],\n",
       "       [7, 3, 6, 2, 9, 3, 7, 1, 1, 2],\n",
       "       [3, 5, 3, 1, 2, 8, 7, 9, 1, 1]])"
      ]
     },
     "execution_count": 10,
     "metadata": {},
     "output_type": "execute_result"
    }
   ],
   "source": [
    "zero_ten = np.random.randint(10, size=(5,10))\n",
    "zero_ten"
   ]
  },
  {
   "cell_type": "code",
   "execution_count": 11,
   "metadata": {},
   "outputs": [
    {
     "data": {
      "text/plain": [
       "50"
      ]
     },
     "execution_count": 11,
     "metadata": {},
     "output_type": "execute_result"
    }
   ],
   "source": [
    "zero_ten.size"
   ]
  },
  {
   "cell_type": "code",
   "execution_count": 12,
   "metadata": {},
   "outputs": [
    {
     "data": {
      "text/plain": [
       "2"
      ]
     },
     "execution_count": 12,
     "metadata": {},
     "output_type": "execute_result"
    }
   ],
   "source": [
    "zero_ten.ndim"
   ]
  },
  {
   "cell_type": "code",
   "execution_count": 13,
   "metadata": {},
   "outputs": [
    {
     "data": {
      "text/plain": [
       "(5, 10)"
      ]
     },
     "execution_count": 13,
     "metadata": {},
     "output_type": "execute_result"
    }
   ],
   "source": [
    "zero_ten.shape"
   ]
  },
  {
   "cell_type": "code",
   "execution_count": 14,
   "metadata": {},
   "outputs": [
    {
     "data": {
      "text/plain": [
       "dtype('int64')"
      ]
     },
     "execution_count": 14,
     "metadata": {},
     "output_type": "execute_result"
    }
   ],
   "source": [
    "zero_ten.dtype"
   ]
  },
  {
   "cell_type": "markdown",
   "metadata": {},
   "source": [
    "11.\t0 ile 10 arasindaki degerlerden olusan 3 adet 4x7’lik bir matris olusturunuz. (3 boyutlu bir matris olusturulacak) \n"
   ]
  },
  {
   "cell_type": "code",
   "execution_count": 15,
   "metadata": {},
   "outputs": [
    {
     "data": {
      "text/plain": [
       "array([[[2, 3, 4, 2, 8, 6, 1],\n",
       "        [2, 4, 0, 2, 8, 5, 4],\n",
       "        [4, 2, 0, 9, 3, 1, 0],\n",
       "        [3, 9, 1, 4, 4, 6, 8]],\n",
       "\n",
       "       [[5, 1, 0, 7, 3, 3, 3],\n",
       "        [3, 0, 1, 3, 9, 8, 8],\n",
       "        [7, 0, 0, 3, 3, 2, 8],\n",
       "        [5, 5, 3, 9, 5, 4, 1]],\n",
       "\n",
       "       [[1, 3, 2, 1, 9, 8, 5],\n",
       "        [3, 9, 4, 6, 7, 7, 8],\n",
       "        [5, 6, 6, 5, 2, 1, 5],\n",
       "        [6, 6, 9, 5, 1, 6, 3]]])"
      ]
     },
     "execution_count": 15,
     "metadata": {},
     "output_type": "execute_result"
    }
   ],
   "source": [
    "a = np.random.randint(10, size=(3,4,7))\n",
    "a"
   ]
  },
  {
   "cell_type": "markdown",
   "metadata": {},
   "source": [
    "12.\tBir vektor olusturunuz ve daha sonrasinda ayni vektoru bir matrise ceviriniz. (boyut sayisini degistirin.)\n"
   ]
  },
  {
   "cell_type": "code",
   "execution_count": 16,
   "metadata": {},
   "outputs": [
    {
     "data": {
      "text/plain": [
       "array([0, 1, 2, 3, 4, 5, 6, 7, 8, 9])"
      ]
     },
     "execution_count": 16,
     "metadata": {},
     "output_type": "execute_result"
    }
   ],
   "source": [
    "b= np.arange(0,10)\n",
    "b"
   ]
  },
  {
   "cell_type": "code",
   "execution_count": 17,
   "metadata": {},
   "outputs": [
    {
     "data": {
      "text/plain": [
       "array([[0, 1, 2, 3, 4],\n",
       "       [5, 6, 7, 8, 9]])"
      ]
     },
     "execution_count": 17,
     "metadata": {},
     "output_type": "execute_result"
    }
   ],
   "source": [
    "b.reshape(2,5)"
   ]
  },
  {
   "cell_type": "markdown",
   "metadata": {},
   "source": [
    "13.\t4 tane ayri tek boyutlu array’i birlestirerek bir array olusturunuz.\n"
   ]
  },
  {
   "cell_type": "code",
   "execution_count": 18,
   "metadata": {},
   "outputs": [
    {
     "data": {
      "text/plain": [
       "array([0, 1, 2, 3, 4, 5, 0, 1, 2, 3, 4, 5, 0, 1, 2, 3, 4, 5, 0, 1, 2, 3,\n",
       "       4, 5])"
      ]
     },
     "execution_count": 18,
     "metadata": {},
     "output_type": "execute_result"
    }
   ],
   "source": [
    "aa = np.arange(6)\n",
    "bb = np.arange(6)\n",
    "cc = np.arange(6)\n",
    "dd = np.arange(6)\n",
    "ee = np.concatenate([aa,bb,cc,dd])\n",
    "\n",
    "ee"
   ]
  },
  {
   "cell_type": "markdown",
   "metadata": {},
   "source": [
    "14.\t2 boyutlu bir vektor ve bir matris olusturun(ayri ayri), bu iki arrayi numpy metodlarini kullanarak sutun bazli birlestiriniz,\n"
   ]
  },
  {
   "cell_type": "code",
   "execution_count": 19,
   "metadata": {},
   "outputs": [
    {
     "data": {
      "text/plain": [
       "array([[0, 0, 1, 2, 3, 4],\n",
       "       [1, 5, 6, 7, 8, 9]])"
      ]
     },
     "execution_count": 19,
     "metadata": {},
     "output_type": "execute_result"
    }
   ],
   "source": [
    "single_column = np.arange(2).reshape((2,1))\n",
    "double_column = np.arange(10).reshape((2,5))\n",
    "np.hstack([single_column,double_column])"
   ]
  },
  {
   "cell_type": "markdown",
   "metadata": {},
   "source": [
    "15.\tNumpy’da “axis=1” ve “axis=0”  arasinda ne fark vardir. Teorik olarak yaziniz?  \n"
   ]
  },
  {
   "cell_type": "markdown",
   "metadata": {},
   "source": [
    "* axis=1 satir bazli toplama, axis=0 sutun bazli toplama yapar."
   ]
  },
  {
   "cell_type": "markdown",
   "metadata": {},
   "source": [
    "16.\tFarkli boyutlardaki arraylari satin ve sutun bazli ayri ayri birlestiriniz.\n"
   ]
  },
  {
   "cell_type": "code",
   "execution_count": 20,
   "metadata": {},
   "outputs": [
    {
     "data": {
      "text/plain": [
       "array([[ 0.71963294,  1.69252216, -0.61229046],\n",
       "       [ 1.09060317, -1.13508045, -0.48630108],\n",
       "       [-0.53450444,  1.82436859, -0.86851116],\n",
       "       [ 0.18315399, -0.04765785,  0.56983585],\n",
       "       [ 0.44164164,  1.663347  ,  0.90504783]])"
      ]
     },
     "execution_count": 20,
     "metadata": {},
     "output_type": "execute_result"
    }
   ],
   "source": [
    "c = np.random.normal(0, 1, (5,3))\n",
    "c"
   ]
  },
  {
   "cell_type": "code",
   "execution_count": 21,
   "metadata": {},
   "outputs": [
    {
     "data": {
      "text/plain": [
       "5.405807726971701"
      ]
     },
     "execution_count": 21,
     "metadata": {},
     "output_type": "execute_result"
    }
   ],
   "source": [
    "c.sum()"
   ]
  },
  {
   "cell_type": "code",
   "execution_count": 22,
   "metadata": {},
   "outputs": [
    {
     "data": {
      "text/plain": [
       "array([ 1.9005273 ,  3.99749944, -0.49221901])"
      ]
     },
     "execution_count": 22,
     "metadata": {},
     "output_type": "execute_result"
    }
   ],
   "source": [
    "c.sum(axis=0)"
   ]
  },
  {
   "cell_type": "code",
   "execution_count": 23,
   "metadata": {},
   "outputs": [
    {
     "data": {
      "text/plain": [
       "array([ 1.79986463, -0.53077836,  0.42135299,  0.705332  ,  3.01003646])"
      ]
     },
     "execution_count": 23,
     "metadata": {},
     "output_type": "execute_result"
    }
   ],
   "source": [
    "c.sum(axis=1)"
   ]
  },
  {
   "cell_type": "markdown",
   "metadata": {},
   "source": [
    "17.\t10 elemanli bi liste olusturunuz ve bu listeyi Numpy metodlariyla bolerek(split) 5 ayri array olusturunuz.\n"
   ]
  },
  {
   "cell_type": "code",
   "execution_count": 24,
   "metadata": {},
   "outputs": [
    {
     "data": {
      "text/plain": [
       "[1, 2, 3, 4, 5, 6, 7, 8, 9, 10]"
      ]
     },
     "execution_count": 24,
     "metadata": {},
     "output_type": "execute_result"
    }
   ],
   "source": [
    "list_with_ten"
   ]
  },
  {
   "cell_type": "code",
   "execution_count": 25,
   "metadata": {},
   "outputs": [
    {
     "name": "stdout",
     "output_type": "stream",
     "text": [
      "[1 2] [3 4] [5 6] [7 8] [ 9 10]\n"
     ]
    }
   ],
   "source": [
    "e,f,g,h,i = np.split(list_with_ten, [2,4,6,8])\n",
    "print(e,f,g,h,i)"
   ]
  },
  {
   "cell_type": "markdown",
   "metadata": {},
   "source": [
    "18.\tRandom bir array olusturunuz ve bu arrayi buyukten kucuge dogru siralayiniz.Ve bu siralamadan sonra hangi elemanin hangi indexte oldugunu gosteren bir metod uygulayiniz.\n"
   ]
  },
  {
   "cell_type": "code",
   "execution_count": 26,
   "metadata": {},
   "outputs": [
    {
     "data": {
      "text/plain": [
       "array([ 0,  0,  5, 10, 12, 14, 16, 24, 26, 27, 34, 36, 39, 45, 45])"
      ]
     },
     "execution_count": 26,
     "metadata": {},
     "output_type": "execute_result"
    }
   ],
   "source": [
    "random_array = np.random.randint(50, size =(15))\n",
    "random_array_sorted = np.sort(random_array)\n",
    "random_array_sorted"
   ]
  },
  {
   "cell_type": "code",
   "execution_count": 27,
   "metadata": {},
   "outputs": [
    {
     "name": "stdout",
     "output_type": "stream",
     "text": [
      "0th element is 0\n",
      "1th element is 0\n",
      "2th element is 5\n",
      "3th element is 10\n",
      "4th element is 12\n",
      "5th element is 14\n",
      "6th element is 16\n",
      "7th element is 24\n",
      "8th element is 26\n",
      "9th element is 27\n",
      "10th element is 34\n",
      "11th element is 36\n",
      "12th element is 39\n",
      "13th element is 45\n",
      "14th element is 45\n"
     ]
    }
   ],
   "source": [
    "for i in range(len(random_array_sorted)):\n",
    "    print(f\"{i}th element is {random_array_sorted[i]}\")"
   ]
  },
  {
   "cell_type": "markdown",
   "metadata": {},
   "source": [
    "19.\t20 elemanli random bir vektor olusturunuz. Bu vektorun 3. 5. ve 7. elemanlarina ulasin.\n"
   ]
  },
  {
   "cell_type": "code",
   "execution_count": 28,
   "metadata": {},
   "outputs": [
    {
     "data": {
      "text/plain": [
       "array([15, 13,  5])"
      ]
     },
     "execution_count": 28,
     "metadata": {},
     "output_type": "execute_result"
    }
   ],
   "source": [
    "twenty_element = np.random.randint(20, size=20)\n",
    "twenty_element[[3,5,7]]"
   ]
  },
  {
   "cell_type": "markdown",
   "metadata": {},
   "source": [
    "20.\t10 elemanli random bir vektor olusturunuz ve bu arrayin  4. elemanini farkli bir sayiyla degistiriniz.\n"
   ]
  },
  {
   "cell_type": "code",
   "execution_count": 29,
   "metadata": {},
   "outputs": [
    {
     "data": {
      "text/plain": [
       "array([ 2, 18, 11, 15, 19, 17, 13,  2,  9, 16])"
      ]
     },
     "execution_count": 29,
     "metadata": {},
     "output_type": "execute_result"
    }
   ],
   "source": [
    "kk = np.random.randint(20, size=10)\n",
    "kk"
   ]
  },
  {
   "cell_type": "code",
   "execution_count": 30,
   "metadata": {},
   "outputs": [
    {
     "data": {
      "text/plain": [
       "array([ 2, 18, 11, 15, 20, 17, 13,  2,  9, 16])"
      ]
     },
     "execution_count": 30,
     "metadata": {},
     "output_type": "execute_result"
    }
   ],
   "source": [
    "kk[4] = 20\n",
    "kk"
   ]
  },
  {
   "cell_type": "markdown",
   "metadata": {},
   "source": [
    "21.\t“Diagonal Matrix” ve “Trace of Matrix”  kavramlari hakkinda kucuk bir arastirma yapip bunlarin ne oldugunu belirten kucuk bir aciklama yaziniz.\n"
   ]
  },
  {
   "cell_type": "markdown",
   "metadata": {},
   "source": [
    "diagonal Matrix kosegeni disindaki tum verilerin 0 oldugu matrixtir. Kare veya dikdortgen olabilirler. see https://en.wikipedia.org/wiki/Diagonal_matrix\n",
    "\n",
    "Trace of Matrix: Kosegen elementlerinin toplamidir."
   ]
  },
  {
   "cell_type": "markdown",
   "metadata": {},
   "source": [
    "22.\t5x5’lik Diagonal bir matris olusturunuz ve Diagonaline denk gelen indexlere ulasiniz.(ayri ayri)\n"
   ]
  },
  {
   "cell_type": "code",
   "execution_count": 31,
   "metadata": {},
   "outputs": [
    {
     "name": "stdout",
     "output_type": "stream",
     "text": [
      "0 x 0 element is 6\n",
      "1 x 1 element is 10\n",
      "2 x 2 element is 8\n",
      "3 x 3 element is 9\n",
      "4 x 4 element is 18\n"
     ]
    }
   ],
   "source": [
    "five_by_five = np.random.randint(0,20, size=(5,5))\n",
    "for i in range(5):\n",
    "    print(f\"{i} x {i} element is {five_by_five[i,i]}\")"
   ]
  },
  {
   "cell_type": "markdown",
   "metadata": {},
   "source": [
    "23.\t10 ile 20 arasinda bir vektor olusturunuz. Ve 3. indexten son indexe kadar olan degerleri yazdiriniz.\n"
   ]
  },
  {
   "cell_type": "code",
   "execution_count": 32,
   "metadata": {},
   "outputs": [
    {
     "data": {
      "text/plain": [
       "array([13, 14, 15, 16, 17, 18, 19])"
      ]
     },
     "execution_count": 32,
     "metadata": {},
     "output_type": "execute_result"
    }
   ],
   "source": [
    "array_deneme = np.arange(10, 20)\n",
    "array_deneme[3:]"
   ]
  },
  {
   "cell_type": "markdown",
   "metadata": {},
   "source": [
    "24.\t10X10 luk bir matris olusturunuz ve ;\n",
    "* 3.satir ve 5.sutuna ulasiniz.\n",
    "* 5.sutunun tum satirlarina ulasiniz.\n",
    "* Tum sutunlarin 2.satirlarina ulasiniz.\n",
    "* tum sutunlarin 2 ile 7 arasindaki satirlarina ulasiniz.\n",
    "* satir indexi 2’den 5’e ve sutun indexi 3 den 7’ye kadar olan degerlere ulasiniz.\n",
    "* satir indexi 5’den en sona ve sutun indexi en bastan 4’e kadar olan degerlere ulasiniz.\n",
    "* sutun indexi sadece 3, 6, 9 olan kolonlarin(sutunlarin), tum satirlarina ulasiniz.\n",
    "* 5.indexli satir ve 5.indexli sutuna denk gelen degeri, dogum yilinizla degistiriniz. \n"
   ]
  },
  {
   "cell_type": "code",
   "execution_count": 33,
   "metadata": {},
   "outputs": [
    {
     "data": {
      "text/plain": [
       "array([[16, 18,  6, 19, 12,  8,  3,  2, 12, 18],\n",
       "       [ 2, 11,  3,  4, 12,  3, 10,  5,  3, 10],\n",
       "       [ 4,  3,  1,  7,  8, 18, 17,  0,  8, 16],\n",
       "       [ 5,  0,  5, 18, 19,  4,  6, 11,  1,  9],\n",
       "       [ 0,  5, 15, 11, 17, 15, 16,  9, 10, 16],\n",
       "       [ 2, 13,  1,  0, 17,  4,  7, 15, 13, 19],\n",
       "       [ 8, 15, 16,  9, 18,  6, 13, 14, 10, 17],\n",
       "       [ 9,  0, 14, 10, 18,  7,  5, 18,  3,  8],\n",
       "       [ 2, 11,  3,  8,  4,  9, 10, 17,  8,  2],\n",
       "       [ 9, 17,  3, 13,  7,  6,  3, 12, 11, 13]])"
      ]
     },
     "execution_count": 33,
     "metadata": {},
     "output_type": "execute_result"
    }
   ],
   "source": [
    "a = np.random.randint(20, size=(10,10))\n",
    "a"
   ]
  },
  {
   "cell_type": "code",
   "execution_count": 34,
   "metadata": {},
   "outputs": [
    {
     "data": {
      "text/plain": [
       "8"
      ]
     },
     "execution_count": 34,
     "metadata": {},
     "output_type": "execute_result"
    }
   ],
   "source": [
    "a[2,4]"
   ]
  },
  {
   "cell_type": "code",
   "execution_count": 35,
   "metadata": {},
   "outputs": [
    {
     "data": {
      "text/plain": [
       "array([ 0,  5, 15, 11, 17, 15, 16,  9, 10, 16])"
      ]
     },
     "execution_count": 35,
     "metadata": {},
     "output_type": "execute_result"
    }
   ],
   "source": [
    "a[4,]"
   ]
  },
  {
   "cell_type": "code",
   "execution_count": 36,
   "metadata": {},
   "outputs": [
    {
     "data": {
      "text/plain": [
       "array([ 6,  3,  1,  5, 15,  1, 16, 14,  3,  3])"
      ]
     },
     "execution_count": 36,
     "metadata": {},
     "output_type": "execute_result"
    }
   ],
   "source": [
    "a[:,2]"
   ]
  },
  {
   "cell_type": "code",
   "execution_count": 37,
   "metadata": {},
   "outputs": [
    {
     "data": {
      "text/plain": [
       "array([[18,  6, 19, 12,  8,  3],\n",
       "       [11,  3,  4, 12,  3, 10],\n",
       "       [ 3,  1,  7,  8, 18, 17],\n",
       "       [ 0,  5, 18, 19,  4,  6],\n",
       "       [ 5, 15, 11, 17, 15, 16],\n",
       "       [13,  1,  0, 17,  4,  7],\n",
       "       [15, 16,  9, 18,  6, 13],\n",
       "       [ 0, 14, 10, 18,  7,  5],\n",
       "       [11,  3,  8,  4,  9, 10],\n",
       "       [17,  3, 13,  7,  6,  3]])"
      ]
     },
     "execution_count": 37,
     "metadata": {},
     "output_type": "execute_result"
    }
   ],
   "source": [
    "a[:,1:7]"
   ]
  },
  {
   "cell_type": "code",
   "execution_count": 38,
   "metadata": {},
   "outputs": [
    {
     "data": {
      "text/plain": [
       "array([[ 7,  8, 18, 17],\n",
       "       [18, 19,  4,  6],\n",
       "       [11, 17, 15, 16]])"
      ]
     },
     "execution_count": 38,
     "metadata": {},
     "output_type": "execute_result"
    }
   ],
   "source": [
    "a[2:5,3:7]"
   ]
  },
  {
   "cell_type": "code",
   "execution_count": 39,
   "metadata": {},
   "outputs": [
    {
     "data": {
      "text/plain": [
       "array([[ 2, 13,  1,  0],\n",
       "       [ 8, 15, 16,  9],\n",
       "       [ 9,  0, 14, 10],\n",
       "       [ 2, 11,  3,  8],\n",
       "       [ 9, 17,  3, 13]])"
      ]
     },
     "execution_count": 39,
     "metadata": {},
     "output_type": "execute_result"
    }
   ],
   "source": [
    "a[5:,:4]"
   ]
  },
  {
   "cell_type": "code",
   "execution_count": 40,
   "metadata": {},
   "outputs": [
    {
     "data": {
      "text/plain": [
       "array([[19,  3, 18],\n",
       "       [ 4, 10, 10],\n",
       "       [ 7, 17, 16],\n",
       "       [18,  6,  9],\n",
       "       [11, 16, 16],\n",
       "       [ 0,  7, 19],\n",
       "       [ 9, 13, 17],\n",
       "       [10,  5,  8],\n",
       "       [ 8, 10,  2],\n",
       "       [13,  3, 13]])"
      ]
     },
     "execution_count": 40,
     "metadata": {},
     "output_type": "execute_result"
    }
   ],
   "source": [
    "a[:,[3,6,9]]"
   ]
  },
  {
   "cell_type": "code",
   "execution_count": 41,
   "metadata": {},
   "outputs": [],
   "source": [
    "a[5,5] = 1990"
   ]
  },
  {
   "cell_type": "code",
   "execution_count": 42,
   "metadata": {},
   "outputs": [
    {
     "data": {
      "text/plain": [
       "array([[  16,   18,    6,   19,   12,    8,    3,    2,   12,   18],\n",
       "       [   2,   11,    3,    4,   12,    3,   10,    5,    3,   10],\n",
       "       [   4,    3,    1,    7,    8,   18,   17,    0,    8,   16],\n",
       "       [   5,    0,    5,   18,   19,    4,    6,   11,    1,    9],\n",
       "       [   0,    5,   15,   11,   17,   15,   16,    9,   10,   16],\n",
       "       [   2,   13,    1,    0,   17, 1990,    7,   15,   13,   19],\n",
       "       [   8,   15,   16,    9,   18,    6,   13,   14,   10,   17],\n",
       "       [   9,    0,   14,   10,   18,    7,    5,   18,    3,    8],\n",
       "       [   2,   11,    3,    8,    4,    9,   10,   17,    8,    2],\n",
       "       [   9,   17,    3,   13,    7,    6,    3,   12,   11,   13]])"
      ]
     },
     "execution_count": 42,
     "metadata": {},
     "output_type": "execute_result"
    }
   ],
   "source": [
    "a"
   ]
  },
  {
   "cell_type": "markdown",
   "metadata": {},
   "source": [
    "25.\t0’dan 50’ye kadar 5’er 5’er atlayarak giden bir array olusturunuz(tek boyutlu) ve numpy metodlariyla asagidaki islemleri uygulayin;\n",
    "* 20 den buyuk olan kac deger var.\n",
    "* 30’dan kucuk kac deger var\n",
    "* icerisinde 33 gecen kac deger var\n",
    "* olusturulan arrayin tum elemanlarini 5 ile carpin.\n",
    "* olusturulan arrayin tum elemanlarinin 2 ile bolumunden kalanlari yazdiriniz.\n",
    "\n"
   ]
  },
  {
   "cell_type": "code",
   "execution_count": 43,
   "metadata": {},
   "outputs": [
    {
     "data": {
      "text/plain": [
       "5"
      ]
     },
     "execution_count": 43,
     "metadata": {},
     "output_type": "execute_result"
    }
   ],
   "source": [
    "b = np.arange(0,50,5)\n",
    "np.sum(b>20)"
   ]
  },
  {
   "cell_type": "code",
   "execution_count": 44,
   "metadata": {},
   "outputs": [
    {
     "data": {
      "text/plain": [
       "6"
      ]
     },
     "execution_count": 44,
     "metadata": {},
     "output_type": "execute_result"
    }
   ],
   "source": [
    "np.sum(b<30)"
   ]
  },
  {
   "cell_type": "code",
   "execution_count": 45,
   "metadata": {},
   "outputs": [
    {
     "data": {
      "text/plain": [
       "0"
      ]
     },
     "execution_count": 45,
     "metadata": {},
     "output_type": "execute_result"
    }
   ],
   "source": [
    "np.sum(b==33)"
   ]
  },
  {
   "cell_type": "code",
   "execution_count": 46,
   "metadata": {},
   "outputs": [
    {
     "data": {
      "text/plain": [
       "array([  0,  25,  50,  75, 100, 125, 150, 175, 200, 225])"
      ]
     },
     "execution_count": 46,
     "metadata": {},
     "output_type": "execute_result"
    }
   ],
   "source": [
    "b*5"
   ]
  },
  {
   "cell_type": "code",
   "execution_count": 47,
   "metadata": {},
   "outputs": [
    {
     "data": {
      "text/plain": [
       "array([0, 1, 0, 1, 0, 1, 0, 1, 0, 1])"
      ]
     },
     "execution_count": 47,
     "metadata": {},
     "output_type": "execute_result"
    }
   ],
   "source": [
    "b%2"
   ]
  },
  {
   "cell_type": "markdown",
   "metadata": {},
   "source": [
    "26.\t0 ile 1 arasinda 50 elamanli bir array olusturunuz ve;\n",
    "* orlamasini aliniz.\n",
    "* standart sapmasini aliniz.\n",
    "* varyansini aliniz.\n",
    "* median’ini aliniz.\n",
    "* en kucuk degeri bulunuz.\n",
    "* en buyuk degeri bulunuz.\n"
   ]
  },
  {
   "cell_type": "code",
   "execution_count": 48,
   "metadata": {},
   "outputs": [
    {
     "data": {
      "text/plain": [
       "array([0.        , 0.02040816, 0.04081633, 0.06122449, 0.08163265,\n",
       "       0.10204082, 0.12244898, 0.14285714, 0.16326531, 0.18367347,\n",
       "       0.20408163, 0.2244898 , 0.24489796, 0.26530612, 0.28571429,\n",
       "       0.30612245, 0.32653061, 0.34693878, 0.36734694, 0.3877551 ,\n",
       "       0.40816327, 0.42857143, 0.44897959, 0.46938776, 0.48979592,\n",
       "       0.51020408, 0.53061224, 0.55102041, 0.57142857, 0.59183673,\n",
       "       0.6122449 , 0.63265306, 0.65306122, 0.67346939, 0.69387755,\n",
       "       0.71428571, 0.73469388, 0.75510204, 0.7755102 , 0.79591837,\n",
       "       0.81632653, 0.83673469, 0.85714286, 0.87755102, 0.89795918,\n",
       "       0.91836735, 0.93877551, 0.95918367, 0.97959184, 1.        ])"
      ]
     },
     "execution_count": 48,
     "metadata": {},
     "output_type": "execute_result"
    }
   ],
   "source": [
    "g = np.linspace(0,1)\n",
    "g"
   ]
  },
  {
   "cell_type": "code",
   "execution_count": 49,
   "metadata": {},
   "outputs": [
    {
     "data": {
      "text/plain": [
       "0.5"
      ]
     },
     "execution_count": 49,
     "metadata": {},
     "output_type": "execute_result"
    }
   ],
   "source": [
    "g.mean()"
   ]
  },
  {
   "cell_type": "code",
   "execution_count": 50,
   "metadata": {},
   "outputs": [
    {
     "data": {
      "text/plain": [
       "0.2945075446869757"
      ]
     },
     "execution_count": 50,
     "metadata": {},
     "output_type": "execute_result"
    }
   ],
   "source": [
    "g.std()"
   ]
  },
  {
   "cell_type": "code",
   "execution_count": 51,
   "metadata": {},
   "outputs": [
    {
     "data": {
      "text/plain": [
       "0.086734693877551"
      ]
     },
     "execution_count": 51,
     "metadata": {},
     "output_type": "execute_result"
    }
   ],
   "source": [
    "g.var()"
   ]
  },
  {
   "cell_type": "code",
   "execution_count": 52,
   "metadata": {},
   "outputs": [
    {
     "data": {
      "text/plain": [
       "0.5"
      ]
     },
     "execution_count": 52,
     "metadata": {},
     "output_type": "execute_result"
    }
   ],
   "source": [
    "np.median(g)"
   ]
  },
  {
   "cell_type": "code",
   "execution_count": 53,
   "metadata": {},
   "outputs": [
    {
     "data": {
      "text/plain": [
       "0.0"
      ]
     },
     "execution_count": 53,
     "metadata": {},
     "output_type": "execute_result"
    }
   ],
   "source": [
    "g.min()"
   ]
  },
  {
   "cell_type": "code",
   "execution_count": 54,
   "metadata": {},
   "outputs": [
    {
     "data": {
      "text/plain": [
       "1.0"
      ]
     },
     "execution_count": 54,
     "metadata": {},
     "output_type": "execute_result"
    }
   ],
   "source": [
    "g.max()"
   ]
  },
  {
   "cell_type": "markdown",
   "metadata": {},
   "source": [
    "27.\tPandas seriler ve numpy arrayler arasindaki farklar nelerdir yaziniz.\n"
   ]
  },
  {
   "cell_type": "markdown",
   "metadata": {},
   "source": [
    "* numpy arrayde yanlizca sayisal degerler yer alir. Seriler de ise her turlu veri tipi bulunabilir."
   ]
  },
  {
   "cell_type": "markdown",
   "metadata": {},
   "source": [
    "28.\tIndexi buyuk harflerden olusan, icinde farkli veri tipleri bulunan 5 elemanli bir seri olusturunuz."
   ]
  },
  {
   "cell_type": "code",
   "execution_count": 55,
   "metadata": {},
   "outputs": [
    {
     "data": {
      "text/plain": [
       "A    0\n",
       "B    1\n",
       "C    2\n",
       "D    3\n",
       "E    4\n",
       "F    5\n",
       "dtype: int64"
      ]
     },
     "execution_count": 55,
     "metadata": {},
     "output_type": "execute_result"
    }
   ],
   "source": [
    "t = pd.Series(np.arange(6), index=['A','B','C','D','E','F'])\n",
    "t"
   ]
  },
  {
   "cell_type": "markdown",
   "metadata": {},
   "source": [
    "29.\tKey’ler ulke adlari, value’lar baskentleri olacak sekilde 5 elemanli bir sozluk olusturup onu seriye ceviriniz. (ornek: fransa:paris)\n"
   ]
  },
  {
   "cell_type": "code",
   "execution_count": 56,
   "metadata": {},
   "outputs": [
    {
     "data": {
      "text/plain": [
       "Canada             Ottowa\n",
       "USA            Washington\n",
       "Turkey             Ankara\n",
       "UK                 London\n",
       "Netherlands     Amsterdam\n",
       "Germany            Berlin\n",
       "Italy                Rome\n",
       "dtype: object"
      ]
     },
     "execution_count": 56,
     "metadata": {},
     "output_type": "execute_result"
    }
   ],
   "source": [
    "countries = {\n",
    "    \"Canada\":\"Ottowa\",\n",
    "    \"USA\":\"Washington\",\n",
    "    \"Turkey\":\"Ankara\",\n",
    "    \"UK\":\"London\",\n",
    "    \"Netherlands\":\"Amsterdam\",\n",
    "    \"Germany\":\"Berlin\",\n",
    "    \"Italy\":\"Rome\"\n",
    "}\n",
    "\n",
    "df_countries = pd.Series(countries)\n",
    "df_countries"
   ]
  },
  {
   "cell_type": "markdown",
   "metadata": {},
   "source": [
    "30.\t10 elemanli random bir vektor olusturun.\n",
    "* Vektoru seriye cevirip indexleri str olarak belirleyin. \n",
    "(ornek: a,b,c,d,e,f,g.. seklinde)\n",
    "* Index ismine gore serinin 3. elemanina ulasin. \n",
    "(ornek: c indexine karsilik gelen deger)\n",
    "* Serinin index sirasina gore 1. Elamanina ulasin.\n",
    "* Index ismine gore serinin  2. Ve 7. Elemanlarina ayni anda ulasin. \n",
    "(Ornek: b ve g indexine karsilik gelen degerler)\n",
    "* Index ismi ile serinin 2. Ve 7. Elemanlari arasindaki degerleri yazdirin.\n",
    "(Ornek: b,c,d,e,f,g indexlerine karsilik gelen degerler)\n",
    "* Index sirasiyla serinin 4. indexinden son indexine kadar olan degerleri yazdirin.\n"
   ]
  },
  {
   "cell_type": "code",
   "execution_count": 57,
   "metadata": {},
   "outputs": [
    {
     "data": {
      "text/plain": [
       "a     2\n",
       "b    12\n",
       "c     6\n",
       "d     9\n",
       "e    18\n",
       "f    18\n",
       "g     5\n",
       "h    16\n",
       "i    13\n",
       "j    19\n",
       "dtype: int64"
      ]
     },
     "execution_count": 57,
     "metadata": {},
     "output_type": "execute_result"
    }
   ],
   "source": [
    "y = np.random.randint(20, size=10)\n",
    "y_series = pd.Series(y, index=[\"a\",\"b\",\"c\",\"d\",\"e\",\"f\",\"g\",\"h\",\"i\",\"j\"])\n",
    "y_series"
   ]
  },
  {
   "cell_type": "code",
   "execution_count": 58,
   "metadata": {},
   "outputs": [
    {
     "data": {
      "text/plain": [
       "6"
      ]
     },
     "execution_count": 58,
     "metadata": {},
     "output_type": "execute_result"
    }
   ],
   "source": [
    "y_series[\"c\"]"
   ]
  },
  {
   "cell_type": "code",
   "execution_count": 59,
   "metadata": {},
   "outputs": [
    {
     "data": {
      "text/plain": [
       "2"
      ]
     },
     "execution_count": 59,
     "metadata": {},
     "output_type": "execute_result"
    }
   ],
   "source": [
    "y_series[0]"
   ]
  },
  {
   "cell_type": "code",
   "execution_count": 60,
   "metadata": {},
   "outputs": [
    {
     "data": {
      "text/plain": [
       "b    12\n",
       "g     5\n",
       "dtype: int64"
      ]
     },
     "execution_count": 60,
     "metadata": {},
     "output_type": "execute_result"
    }
   ],
   "source": [
    "y_series[[\"b\", \"g\"]]"
   ]
  },
  {
   "cell_type": "code",
   "execution_count": 61,
   "metadata": {},
   "outputs": [
    {
     "data": {
      "text/plain": [
       "b    12\n",
       "c     6\n",
       "d     9\n",
       "e    18\n",
       "f    18\n",
       "g     5\n",
       "dtype: int64"
      ]
     },
     "execution_count": 61,
     "metadata": {},
     "output_type": "execute_result"
    }
   ],
   "source": [
    "y_series[\"b\":\"g\"]"
   ]
  },
  {
   "cell_type": "code",
   "execution_count": 62,
   "metadata": {},
   "outputs": [
    {
     "data": {
      "text/plain": [
       "d     9\n",
       "e    18\n",
       "f    18\n",
       "g     5\n",
       "h    16\n",
       "i    13\n",
       "j    19\n",
       "dtype: int64"
      ]
     },
     "execution_count": 62,
     "metadata": {},
     "output_type": "execute_result"
    }
   ],
   "source": [
    "y_series[3:]"
   ]
  },
  {
   "cell_type": "markdown",
   "metadata": {},
   "source": [
    "31.\t2 adet 5 elemanli seri olusturun.\n",
    "* Olusturdugunuz serileri birlestirin.\n",
    "* Birlesen 10 elemanli serinin indexini 1’den 10’a kadar olacak sekilde duzenleyin.\n",
    "* Indexini duzenlediginiz seride, loc ve iloc metodlari ile, indexi 4,5,6 olan degerlere ulasin.\n"
   ]
  },
  {
   "cell_type": "code",
   "execution_count": 63,
   "metadata": {},
   "outputs": [
    {
     "name": "stdout",
     "output_type": "stream",
     "text": [
      "0    a\n",
      "1    b\n",
      "2    c\n",
      "3    d\n",
      "4    e\n",
      "dtype: object 0    10\n",
      "1    20\n",
      "2    30\n",
      "3    40\n",
      "4    50\n",
      "dtype: int64\n"
     ]
    }
   ],
   "source": [
    "v = pd.Series(np.arange(10,51,10))\n",
    "y = pd.Series(['a','b','c','d','e'])\n",
    "print(y,v)"
   ]
  },
  {
   "cell_type": "code",
   "execution_count": 64,
   "metadata": {},
   "outputs": [
    {
     "data": {
      "text/plain": [
       "1     10\n",
       "2     20\n",
       "3     30\n",
       "4     40\n",
       "5     50\n",
       "6      a\n",
       "7      b\n",
       "8      c\n",
       "9      d\n",
       "10     e\n",
       "dtype: object"
      ]
     },
     "execution_count": 64,
     "metadata": {},
     "output_type": "execute_result"
    }
   ],
   "source": [
    "z = pd.concat([v,y])\n",
    "z.index = range(1, len(z)+1)\n",
    "z"
   ]
  },
  {
   "cell_type": "code",
   "execution_count": 65,
   "metadata": {},
   "outputs": [
    {
     "data": {
      "text/plain": [
       "4    40\n",
       "5    50\n",
       "6     a\n",
       "7     b\n",
       "dtype: object"
      ]
     },
     "execution_count": 65,
     "metadata": {},
     "output_type": "execute_result"
    }
   ],
   "source": [
    "z.loc[4:7]"
   ]
  },
  {
   "cell_type": "code",
   "execution_count": 66,
   "metadata": {},
   "outputs": [
    {
     "data": {
      "text/plain": [
       "5    50\n",
       "6     a\n",
       "7     b\n",
       "dtype: object"
      ]
     },
     "execution_count": 66,
     "metadata": {},
     "output_type": "execute_result"
    }
   ],
   "source": [
    "z.iloc[4:7]"
   ]
  },
  {
   "cell_type": "markdown",
   "metadata": {},
   "source": [
    "### Master odev ; \n",
    "Bir dongu icerisinde random olacak sekilde iki tane 20x20’luk matris uretin ve bu matrislerin farklarini alin.\n",
    "Ve fark matrisinin diagonali,  -0.1 ile 0.1  arasinda olana kadar bu islemi tekrarlayin.\n",
    "Istenilen matris bulundugunda program dursun ve  toplam kac dongunun kuruldugunu,  ne kadar sure icinde buldugunu ve  istenilen  matrisi  print ile birlikte ekrana yazdiriniz...\n",
    "Tavsiye: 20 x 20 luk matrisin bulunmasi saatler surebilir. Bu yuzden algoritmanizin dogrulugunu test etmek icin once 4x4, 5x5 gibi kucuk matrislerde deneyebilirsiniz. Ve matris sayisisini arttirarak en son 20x20 u deneyebilirsiniz.\n"
   ]
  },
  {
   "cell_type": "code",
   "execution_count": 67,
   "metadata": {},
   "outputs": [],
   "source": [
    "import time"
   ]
  },
  {
   "cell_type": "code",
   "execution_count": 79,
   "metadata": {},
   "outputs": [],
   "source": [
    "def create_random_matrix(num_din = 20):\n",
    "    print(\"Number of diagonals : \", num_din)\n",
    "    start_time = time.time()\n",
    "    loops = 0\n",
    "    while True:\n",
    "        matrix1 = np.random.rand(num_din,num_din)\n",
    "        matrix2 = np.random.rand(num_din,num_din)\n",
    "        diag = matrix1-matrix2\n",
    "        diag_array = diag.diagonal()\n",
    "        loops += 1\n",
    "        if (diag_array > -0.1).all() & (diag_array < 0.1).all():\n",
    "            break\n",
    "            \n",
    "    end_time = time.time()\n",
    "    time_diff = end_time - start_time\n",
    "    print(diag_array)\n",
    "    \n",
    "    print(f\"It took {time_diff} seconds to finish the loop and found the value in {loops} step.\")"
   ]
  },
  {
   "cell_type": "code",
   "execution_count": 89,
   "metadata": {},
   "outputs": [
    {
     "name": "stdout",
     "output_type": "stream",
     "text": [
      "Number of diagonals :  10\n",
      "[-0.04993383  0.05565994  0.01094268  0.04606167  0.09543383 -0.09438947\n",
      " -0.01516381 -0.08738321 -0.08820057 -0.02731363]\n",
      "It took 229.15670585632324 seconds to finish the loop and found the value in 16463859 step.\n"
     ]
    }
   ],
   "source": [
    "create_random_matrix(10)"
   ]
  },
  {
   "cell_type": "code",
   "execution_count": null,
   "metadata": {},
   "outputs": [],
   "source": []
  }
 ],
 "metadata": {
  "kernelspec": {
   "display_name": "Python 3",
   "language": "python",
   "name": "python3"
  },
  "language_info": {
   "codemirror_mode": {
    "name": "ipython",
    "version": 3
   },
   "file_extension": ".py",
   "mimetype": "text/x-python",
   "name": "python",
   "nbconvert_exporter": "python",
   "pygments_lexer": "ipython3",
   "version": "3.8.5"
  }
 },
 "nbformat": 4,
 "nbformat_minor": 4
}
