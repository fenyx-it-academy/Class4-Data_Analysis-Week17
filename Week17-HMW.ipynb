{
 "cells": [
  {
   "cell_type": "code",
   "execution_count": null,
   "metadata": {},
   "outputs": [],
   "source": [
    "# Numpy’da Vektor ve Matrisin farkini tek cumle ile ifade ediniz.\n",
    "\n",
    "# Vektor cok boyutlu(N) iken matrisler 2 boyutludur. "
   ]
  },
  {
   "cell_type": "code",
   "execution_count": 1,
   "metadata": {},
   "outputs": [
    {
     "data": {
      "text/plain": [
       "array([ 1,  2,  3,  4,  5,  6,  7,  8,  9, 10])"
      ]
     },
     "execution_count": 1,
     "metadata": {},
     "output_type": "execute_result"
    }
   ],
   "source": [
    "#  1 - 10 elemanli bir listeden NumPy Array’i olusturunuz.\n",
    "import numpy as np\n",
    "\n",
    "a = [1,2,3,4,5,6,7,8,9,10]\n",
    "\n",
    "arr = np.array(a)\n",
    "arr"
   ]
  },
  {
   "cell_type": "code",
   "execution_count": 6,
   "metadata": {},
   "outputs": [
    {
     "data": {
      "text/plain": [
       "array([[0, 0, 0, 0, 0, 0, 0, 0, 0, 0],\n",
       "       [0, 0, 0, 0, 0, 0, 0, 0, 0, 0],\n",
       "       [0, 0, 0, 0, 0, 0, 0, 0, 0, 0],\n",
       "       [0, 0, 0, 0, 0, 0, 0, 0, 0, 0],\n",
       "       [0, 0, 0, 0, 0, 0, 0, 0, 0, 0],\n",
       "       [0, 0, 0, 0, 0, 0, 0, 0, 0, 0],\n",
       "       [0, 0, 0, 0, 0, 0, 0, 0, 0, 0],\n",
       "       [0, 0, 0, 0, 0, 0, 0, 0, 0, 0],\n",
       "       [0, 0, 0, 0, 0, 0, 0, 0, 0, 0],\n",
       "       [0, 0, 0, 0, 0, 0, 0, 0, 0, 0]], dtype=int32)"
      ]
     },
     "execution_count": 6,
     "metadata": {},
     "output_type": "execute_result"
    }
   ],
   "source": [
    "# 3 - Icerisinde ‘0’ lar olan, ve veri tipi integer olan 10X10’luk bir matris olusturunuz.\n",
    "\n",
    "a = np.zeros([10,10], dtype='i')\n",
    "a"
   ]
  },
  {
   "cell_type": "code",
   "execution_count": 7,
   "metadata": {},
   "outputs": [
    {
     "data": {
      "text/plain": [
       "array([[1., 1., 1., 1., 1., 1., 1., 1., 1., 1.],\n",
       "       [1., 1., 1., 1., 1., 1., 1., 1., 1., 1.],\n",
       "       [1., 1., 1., 1., 1., 1., 1., 1., 1., 1.],\n",
       "       [1., 1., 1., 1., 1., 1., 1., 1., 1., 1.],\n",
       "       [1., 1., 1., 1., 1., 1., 1., 1., 1., 1.],\n",
       "       [1., 1., 1., 1., 1., 1., 1., 1., 1., 1.],\n",
       "       [1., 1., 1., 1., 1., 1., 1., 1., 1., 1.],\n",
       "       [1., 1., 1., 1., 1., 1., 1., 1., 1., 1.],\n",
       "       [1., 1., 1., 1., 1., 1., 1., 1., 1., 1.],\n",
       "       [1., 1., 1., 1., 1., 1., 1., 1., 1., 1.]], dtype=float32)"
      ]
     },
     "execution_count": 7,
     "metadata": {},
     "output_type": "execute_result"
    }
   ],
   "source": [
    "# 4 - Icerisinde ‘1’ ler olan, veri tipi float olan 10X10’luk bir matris olusturunuz.\n",
    "\n",
    "a = np.ones([10,10], dtype='f')\n",
    "a"
   ]
  },
  {
   "cell_type": "code",
   "execution_count": 9,
   "metadata": {},
   "outputs": [
    {
     "data": {
      "text/plain": [
       "array([[9., 9., 9., 9., 9., 9., 9., 9., 9., 9.],\n",
       "       [9., 9., 9., 9., 9., 9., 9., 9., 9., 9.],\n",
       "       [9., 9., 9., 9., 9., 9., 9., 9., 9., 9.],\n",
       "       [9., 9., 9., 9., 9., 9., 9., 9., 9., 9.],\n",
       "       [9., 9., 9., 9., 9., 9., 9., 9., 9., 9.],\n",
       "       [9., 9., 9., 9., 9., 9., 9., 9., 9., 9.],\n",
       "       [9., 9., 9., 9., 9., 9., 9., 9., 9., 9.],\n",
       "       [9., 9., 9., 9., 9., 9., 9., 9., 9., 9.],\n",
       "       [9., 9., 9., 9., 9., 9., 9., 9., 9., 9.],\n",
       "       [9., 9., 9., 9., 9., 9., 9., 9., 9., 9.]], dtype=float32)"
      ]
     },
     "execution_count": 9,
     "metadata": {},
     "output_type": "execute_result"
    }
   ],
   "source": [
    "# 5 - Icerisinde ‘9’ lar olan, veri tipi integer olan 10X10’luk bir matris olusturunuz.\n",
    "\n",
    "a = np.full([10,10], 9, dtype='f')\n",
    "a"
   ]
  },
  {
   "cell_type": "code",
   "execution_count": 16,
   "metadata": {},
   "outputs": [
    {
     "data": {
      "text/plain": [
       "array([ 5,  8, 11, 14, 17, 20, 23])"
      ]
     },
     "execution_count": 16,
     "metadata": {},
     "output_type": "execute_result"
    }
   ],
   "source": [
    "# 6 - 5 ile 25 arasinda, 3’er 3’er atlayan tek boyutlu bir Array olusturunuz.\n",
    "\n",
    "a = np.arange(5,25,3)\n",
    "a"
   ]
  },
  {
   "cell_type": "code",
   "execution_count": 18,
   "metadata": {},
   "outputs": [
    {
     "data": {
      "text/plain": [
       "array([-1.        , -0.93103448, -0.86206897, -0.79310345, -0.72413793,\n",
       "       -0.65517241, -0.5862069 , -0.51724138, -0.44827586, -0.37931034,\n",
       "       -0.31034483, -0.24137931, -0.17241379, -0.10344828, -0.03448276,\n",
       "        0.03448276,  0.10344828,  0.17241379,  0.24137931,  0.31034483,\n",
       "        0.37931034,  0.44827586,  0.51724138,  0.5862069 ,  0.65517241,\n",
       "        0.72413793,  0.79310345,  0.86206897,  0.93103448,  1.        ])"
      ]
     },
     "execution_count": 18,
     "metadata": {},
     "output_type": "execute_result"
    }
   ],
   "source": [
    "# 7 - -1 ile 1 arasinda 30 adet Array olusturunuz.\n",
    "\n",
    "a = np.linspace(-1,1, 30)\n",
    "a"
   ]
  },
  {
   "cell_type": "code",
   "execution_count": 19,
   "metadata": {},
   "outputs": [
    {
     "data": {
      "text/plain": [
       "array([[ 0,  1,  2,  3,  4,  5],\n",
       "       [ 6,  7,  8,  9, 10, 11],\n",
       "       [12, 13, 14, 15, 16, 17],\n",
       "       [18, 19, 20, 21, 22, 23],\n",
       "       [24, 25, 26, 27, 28, 29]])"
      ]
     },
     "execution_count": 19,
     "metadata": {},
     "output_type": "execute_result"
    }
   ],
   "source": [
    "# 8 - 0 ile 30 arasinda 5x6’lik bir matris olusturun.\n",
    "\n",
    "a = np.arange(0,30).reshape(5,6)\n",
    "a\n"
   ]
  },
  {
   "cell_type": "code",
   "execution_count": 29,
   "metadata": {},
   "outputs": [
    {
     "data": {
      "text/plain": [
       "array([[1., 0., 0., 0., 0., 0., 0., 0., 0., 1.],\n",
       "       [0., 1., 0., 0., 0., 0., 0., 0., 1., 0.],\n",
       "       [0., 0., 1., 0., 0., 0., 0., 1., 0., 0.],\n",
       "       [0., 0., 0., 1., 0., 0., 1., 0., 0., 0.],\n",
       "       [0., 0., 0., 0., 1., 1., 0., 0., 0., 0.],\n",
       "       [0., 0., 0., 0., 1., 1., 0., 0., 0., 0.],\n",
       "       [0., 0., 0., 1., 0., 0., 1., 0., 0., 0.],\n",
       "       [0., 0., 1., 0., 0., 0., 0., 1., 0., 0.],\n",
       "       [0., 1., 0., 0., 0., 0., 0., 0., 1., 0.],\n",
       "       [1., 0., 0., 0., 0., 0., 0., 0., 0., 1.]])"
      ]
     },
     "execution_count": 29,
     "metadata": {},
     "output_type": "execute_result"
    }
   ],
   "source": [
    "# 9 - Kosegenleri 1 olan 10x10’luk bir matris olusturunuz.\n",
    "\n",
    "a = np.eye(10)\n",
    "np.fill_diagonal(np.flipud(a), [1]*10)\n",
    "a"
   ]
  },
  {
   "cell_type": "code",
   "execution_count": 42,
   "metadata": {},
   "outputs": [
    {
     "name": "stdout",
     "output_type": "stream",
     "text": [
      "[[0 2 7 8 8 5 8 3 9 2]\n",
      " [3 0 1 8 3 8 7 6 8 7]\n",
      " [2 4 9 0 4 2 4 5 4 5]\n",
      " [6 3 4 1 7 9 9 4 3 8]\n",
      " [7 6 3 9 5 7 6 0 4 2]]\n",
      "ndim 2\n",
      "size 50\n",
      "shape (5, 10)\n",
      "dtype int32\n"
     ]
    }
   ],
   "source": [
    "# 10 - 0 ile 10 arasinda 5x10’lik bir matris olusturun. (integer) ve bu matrisin;\n",
    "\n",
    "a = np.random.randint(0, 10,50).reshape(5,10)\n",
    "\n",
    "print(a)\n",
    "print('ndim', a.ndim)\n",
    "print('size', a.size)\n",
    "print('shape', a.shape)\n",
    "print('dtype', a.dtype.name)"
   ]
  },
  {
   "cell_type": "code",
   "execution_count": 53,
   "metadata": {},
   "outputs": [
    {
     "data": {
      "text/plain": [
       "array([[[6, 3, 3, 5, 1, 4, 6],\n",
       "        [4, 5, 2, 4, 1, 8, 9],\n",
       "        [4, 6, 0, 2, 3, 8, 3],\n",
       "        [4, 1, 2, 6, 9, 0, 0]],\n",
       "\n",
       "       [[6, 6, 0, 4, 0, 1, 9],\n",
       "        [2, 7, 5, 3, 5, 7, 2],\n",
       "        [9, 4, 2, 2, 7, 2, 6],\n",
       "        [5, 2, 0, 7, 1, 9, 2]],\n",
       "\n",
       "       [[6, 4, 5, 1, 4, 3, 3],\n",
       "        [7, 7, 0, 9, 7, 5, 9],\n",
       "        [1, 1, 9, 0, 1, 3, 2],\n",
       "        [6, 5, 1, 3, 7, 3, 2]]])"
      ]
     },
     "execution_count": 53,
     "metadata": {},
     "output_type": "execute_result"
    }
   ],
   "source": [
    "# 11- 0 ile 10 arasindaki degerlerden olusan 3 adet 4x7’lik bir matris olusturunuz. (3 boyutlu bir matris olusturulacak)\n",
    "\n",
    "a = np.random.randint(0,10,28*3).reshape(3,4,7)\n",
    "a"
   ]
  },
  {
   "cell_type": "code",
   "execution_count": 56,
   "metadata": {},
   "outputs": [
    {
     "data": {
      "text/plain": [
       "array([[1, 2, 3],\n",
       "       [4, 5, 6]])"
      ]
     },
     "execution_count": 56,
     "metadata": {},
     "output_type": "execute_result"
    }
   ],
   "source": [
    "# 12 - Bir vektor olusturunuz ve daha sonrasinda ayni vektoru bir matrise ceviriniz. (boyut sayisini degistirin.)\n",
    "\n",
    "a = np.array([1,2,3,4,5,6]).reshape(2,3)\n",
    "a"
   ]
  },
  {
   "cell_type": "code",
   "execution_count": 62,
   "metadata": {},
   "outputs": [
    {
     "data": {
      "text/plain": [
       "array([ 1,  2,  3, 10, 20, 30, 11, 12, 13, 21, 22, 23])"
      ]
     },
     "execution_count": 62,
     "metadata": {},
     "output_type": "execute_result"
    }
   ],
   "source": [
    "# 13 - 4 tane ayri tek boyutlu array’i birlestirerek bir array olusturunuz.\n",
    "\n",
    "a = np.array([1,2,3])\n",
    "b = np.array([10,20,30])\n",
    "c = np.array([11,12,13])\n",
    "d = np.array([21,22,23])\n",
    "\n",
    "\n",
    "arr = np.concatenate([a,b,c,d])\n",
    "arr"
   ]
  },
  {
   "cell_type": "code",
   "execution_count": 86,
   "metadata": {},
   "outputs": [
    {
     "name": "stdout",
     "output_type": "stream",
     "text": [
      "2 2\n"
     ]
    }
   ],
   "source": [
    "# 14 - 2 boyutlu bir vektor ve bir matris olusturun(ayri ayri), bu iki arrayi numpy metodlarini kullanarak \n",
    "# sutun bazli birlestiriniz,\n",
    "\n",
    "a = np.arange(4)\n",
    "b = np.arange(20).reshape(4,5)\n",
    "# arr = np.concatenate((b,a), axis=0)\n",
    "# arr\n",
    "\n",
    "a = np.array([[1, 2], [3, 4]])\n",
    "b = np.array([[5, 6]])\n",
    "\n",
    "print(a.ndim, b.ndim)\n"
   ]
  },
  {
   "cell_type": "code",
   "execution_count": null,
   "metadata": {},
   "outputs": [],
   "source": [
    "# 15 - Numpy’da “axis=1” ve “axis=0” arasinda ne fark vardir. Teorik olarak yaziniz?\n",
    "\n",
    "# axis degeri 1e esitken column, 0 iken rowlari belirtir."
   ]
  },
  {
   "cell_type": "code",
   "execution_count": 105,
   "metadata": {},
   "outputs": [
    {
     "data": {
      "text/plain": [
       "array([[0, 1, 2],\n",
       "       [0, 1, 2],\n",
       "       [3, 4, 5],\n",
       "       [6, 7, 8]])"
      ]
     },
     "execution_count": 105,
     "metadata": {},
     "output_type": "execute_result"
    }
   ],
   "source": [
    "# 16 - Farkli boyutlardaki arraylari satin ve sutun bazli ayri ayri birlestiriniz.\n",
    "\n",
    "a = np.arange(3)\n",
    "b = np.arange(9).reshape(3,3)\n",
    "\n",
    "arr = np.vstack([a,b])\n",
    "\n",
    "arr"
   ]
  },
  {
   "cell_type": "code",
   "execution_count": 132,
   "metadata": {},
   "outputs": [
    {
     "data": {
      "text/plain": [
       "[array([], dtype=int32),\n",
       " array([0, 1, 2]),\n",
       " array([3, 4]),\n",
       " array([5, 6, 7, 8, 9])]"
      ]
     },
     "execution_count": 132,
     "metadata": {},
     "output_type": "execute_result"
    }
   ],
   "source": [
    "# 17 -  10 elemanli bi liste olusturunuz ve bu listeyi Numpy metodlariyla bolerek(split) 4 ayri array olusturunuz.\n",
    "\n",
    "a = np.arange(10)\n",
    "b = np.split(a, [0,3,5])\n",
    "b"
   ]
  },
  {
   "cell_type": "code",
   "execution_count": 150,
   "metadata": {},
   "outputs": [
    {
     "name": "stdout",
     "output_type": "stream",
     "text": [
      "7 index 0\n",
      "6 index 1\n",
      "3 index 2\n",
      "0 index 3\n"
     ]
    },
    {
     "data": {
      "text/plain": [
       "array([7, 6, 3, 0])"
      ]
     },
     "execution_count": 150,
     "metadata": {},
     "output_type": "execute_result"
    }
   ],
   "source": [
    "# 18 - Random bir array olusturunuz ve bu arrayi buyukten kucuge dogru siralayiniz.Ve bu siralamadan sonra \n",
    "# hangi elemanin hangi indexte oldugunu gosteren bir metod uygulayiniz.\n",
    "\n",
    "a = np.random.randint(8, size=4)\n",
    "b=np.sort(a)\n",
    "for i in range(len(b)):\n",
    "    print (b[::-1][i], 'index', i)\n",
    "b[::-1]\n"
   ]
  },
  {
   "cell_type": "code",
   "execution_count": 159,
   "metadata": {},
   "outputs": [
    {
     "name": "stdout",
     "output_type": "stream",
     "text": [
      "13 13 16 \n",
      " [15 16 12 13 13 13 19 16  9 10 17  9 16 11  4 14 10 12 19  6]\n"
     ]
    }
   ],
   "source": [
    "# 19 -  20 elemanli random bir vektor olusturunuz. Bu vektorun 3. 5. ve 7. elemanlarina ulasin.\n",
    "\n",
    "a = np.random.randint(0,20,size=20)\n",
    "print(a[3],a[5],a[7],'\\n',a)"
   ]
  },
  {
   "cell_type": "code",
   "execution_count": null,
   "metadata": {},
   "outputs": [],
   "source": [
    "# 20 - “Diagonal Matrix” ve “Trace Matrix” kavramlari hakkinda kucuk bir arastirma yapip bunlarin ne oldugunu \n",
    "# belirten kucuk bir aciklama yaziniz.\n",
    "\n",
    "\n",
    "\n",
    "# diagonal matrix, kosegeni disindaki degerlerin 0 oldugu kare matrixdir.\n",
    "# trace matrix ise diagonal matrixdeki degerlerin toplanmasiyla elde edilen degerdir."
   ]
  },
  {
   "cell_type": "code",
   "execution_count": 163,
   "metadata": {},
   "outputs": [
    {
     "name": "stdout",
     "output_type": "stream",
     "text": [
      "[[ 0  1  2  3  4]\n",
      " [ 5  6  7  8  9]\n",
      " [10 11 12 13 14]\n",
      " [15 16 17 18 19]\n",
      " [20 21 22 23 24]]\n",
      "0\n",
      "6\n",
      "12\n",
      "18\n",
      "24\n"
     ]
    }
   ],
   "source": [
    "# 21 - 5x5’lik Diagonal bir matris olusturunuz ve Diagonaline denk gelen indexlere ulasiniz.(ayri ayri)\n",
    "\n",
    "a = np.arange(25).reshape(5,5)\n",
    "print(a)\n",
    "print(a[0,0])\n",
    "print(a[1,1])\n",
    "print(a[2,2])\n",
    "print(a[3,3])\n",
    "print(a[4,4])\n"
   ]
  },
  {
   "cell_type": "code",
   "execution_count": 167,
   "metadata": {},
   "outputs": [
    {
     "name": "stdout",
     "output_type": "stream",
     "text": [
      "[10 11 12 13 14 15 16 17 18 19]\n"
     ]
    },
    {
     "data": {
      "text/plain": [
       "array([13, 14, 15, 16, 17, 18, 19])"
      ]
     },
     "execution_count": 167,
     "metadata": {},
     "output_type": "execute_result"
    }
   ],
   "source": [
    "#  22 - 10 ile 20 arasinda bir vektor olusturunuz. Ve 3. indexten son indexe kadar olan degerleri yazdiriniz.\n",
    "\n",
    "a = np.arange(10,20)\n",
    "print(a)\n",
    "a[3:]"
   ]
  },
  {
   "cell_type": "code",
   "execution_count": 181,
   "metadata": {},
   "outputs": [
    {
     "name": "stdout",
     "output_type": "stream",
     "text": [
      "[[ 0  1  2  3  4  5  6  7  8  9]\n",
      " [10 11 12 13 14 15 16 17 18 19]\n",
      " [20 21 22 23 24 25 26 27 28 29]\n",
      " [30 31 32 33 34 35 36 37 38 39]\n",
      " [40 41 42 43 44 45 46 47 48 49]\n",
      " [50 51 52 53 54 55 56 57 58 59]\n",
      " [60 61 62 63 64 65 66 67 68 69]\n",
      " [70 71 72 73 74 75 76 77 78 79]\n",
      " [80 81 82 83 84 85 86 87 88 89]\n",
      " [90 91 92 93 94 95 96 97 98 99]] \n",
      "\n",
      "44 \n",
      "\n",
      "[ 3 13 23 33 43 53 63 73 83 93] \n",
      "\n",
      "[[20 21 22 23 24 25 26 27 28 29]\n",
      " [30 31 32 33 34 35 36 37 38 39]\n",
      " [40 41 42 43 44 45 46 47 48 49]\n",
      " [50 51 52 53 54 55 56 57 58 59]\n",
      " [60 61 62 63 64 65 66 67 68 69]] \n",
      "\n",
      "[[23 24 25 26]\n",
      " [33 34 35 36]\n",
      " [43 44 45 46]] \n",
      "\n",
      "[[50 51 52 53]\n",
      " [60 61 62 63]\n",
      " [70 71 72 73]\n",
      " [80 81 82 83]\n",
      " [90 91 92 93]] \n",
      "\n",
      "[[ 3  6  9]\n",
      " [13 16 19]\n",
      " [23 26 29]\n",
      " [33 36 39]\n",
      " [43 46 49]\n",
      " [53 56 59]\n",
      " [63 66 69]\n",
      " [73 76 79]\n",
      " [83 86 89]\n",
      " [93 96 99]] \n",
      "\n",
      "1986 \n",
      "\n"
     ]
    }
   ],
   "source": [
    "# 24 - 10X10 luk bir matris olusturunuz ve ;\n",
    "# 5.satir ve 5.sutuna ulasiniz.\n",
    "# sutunun tum satirlarina ulasiniz.\n",
    "# Tum sutunlarin 2.satirlarina ulasiniz.\n",
    "# tum sutunlarin 2 ile 7 arasindaki satirlarina ulasiniz.\n",
    "# satir indexi 2’den 5’e ve sutun indexi 3 den 7’ye kadar olan degerlere ulasiniz.\n",
    "# satir indexi 5’den en sona ve sutun indexi en bastan 4’e kadar olan degerlere ulasiniz.\n",
    "# sutun indexi sadece 3, 6,9 olan kolonlarin(sutunlarin), tum satirlarina ulasiniz.\n",
    "# 5.indexli satir ve 5.indexli sutuna denk gelen degeri, dogum yilinizla degistiriniz.\n",
    "\n",
    "a = np.arange(100).reshape(10,-1)\n",
    "print(a,'\\n')\n",
    "print(a[4,4],'\\n')\n",
    "print(a[:,3],'\\n')\n",
    "print(a[2:7,:],'\\n')\n",
    "print(a[2:5,3:7],'\\n')\n",
    "print(a[5:,:4],'\\n')\n",
    "print(a[:,(3,6,9)],'\\n')\n",
    "a[5,5]=1986\n",
    "print(a[5,5],'\\n')"
   ]
  },
  {
   "cell_type": "code",
   "execution_count": 211,
   "metadata": {},
   "outputs": [
    {
     "name": "stdout",
     "output_type": "stream",
     "text": [
      "[ 0  5 10 15 20 25 30 35 40 45 50]\n",
      "6\n",
      "6\n",
      "0\n",
      "[  0  25  50  75 100 125 150 175 200 225 250]\n",
      "[0 1 0 1 0 1 0 1 0 1 0]\n"
     ]
    }
   ],
   "source": [
    "# 25 -  0’dan 50’ye kadar 5’er 5’er atlayarak giden bir array olusturunuz(tek boyutlu) ve numpy metodlariyla asagidaki \n",
    "# islemleri uygulayin;\n",
    "# 20 den buyuk olan kac deger var.\n",
    "# 30’dan kucuk kac deger var\n",
    "# icerisinde 33 gecen kac deger var\n",
    "# olusturulan arrayin tum elemanlarini 5 ile carpin.\n",
    "# olusturulan arrayin tum elemanlarinin 2 ile bolumunden kalanlari yazdiriniz.\n",
    "# olustural arrayin icerisinde, sadece sutunlara bakarak her bir sutunu toplayin ve toplami 30 dan buyuk kac sutun var\n",
    "# olustural arrayin icerisinde, sadece satirlara bakarak her bir satiri toplayin ve toplami 30 dan buyuk kac satir var.\n",
    "\n",
    "a = np.linspace(0,50,11, dtype='i')\n",
    "print(a)\n",
    "b=a>20\n",
    "count=0\n",
    "for i in b:\n",
    "    if i==True:\n",
    "        count+=1\n",
    "print(count)\n",
    "\n",
    "c=a<30\n",
    "count1=0\n",
    "for i in c:\n",
    "    if i==True:\n",
    "        count1+=1\n",
    "print(count1)\n",
    "\n",
    "count2=0\n",
    "for i in c:\n",
    "    if i==33:\n",
    "        count2+=1\n",
    "print(count2)\n",
    "\n",
    "print(a*5)\n",
    "print(a%2)"
   ]
  },
  {
   "cell_type": "code",
   "execution_count": 216,
   "metadata": {},
   "outputs": [
    {
     "name": "stdout",
     "output_type": "stream",
     "text": [
      "[0.         0.02040816 0.04081633 0.06122449 0.08163265 0.10204082\n",
      " 0.12244898 0.14285714 0.16326531 0.18367347 0.20408163 0.2244898\n",
      " 0.24489796 0.26530612 0.28571429 0.30612245 0.32653061 0.34693878\n",
      " 0.36734694 0.3877551  0.40816327 0.42857143 0.44897959 0.46938776\n",
      " 0.48979592 0.51020408 0.53061224 0.55102041 0.57142857 0.59183673\n",
      " 0.6122449  0.63265306 0.65306122 0.67346939 0.69387755 0.71428571\n",
      " 0.73469388 0.75510204 0.7755102  0.79591837 0.81632653 0.83673469\n",
      " 0.85714286 0.87755102 0.89795918 0.91836735 0.93877551 0.95918367\n",
      " 0.97959184 1.        ]\n",
      "0.5\n",
      "0.2945075446869757\n",
      "0.086734693877551\n",
      "1.0\n",
      "0.0\n"
     ]
    }
   ],
   "source": [
    "# 26 - 0 ile 1 arasinda 50 elamanli bir array olusturunuz ve;\n",
    "# orlamasini aliniz.\n",
    "# standart sapmasini aliniz.\n",
    "# varyansini aliniz.\n",
    "# median’ini aliniz.\n",
    "# en kucuk degeri bulunuz.\n",
    "# en buyuk degeri bulunuz.\n",
    "\n",
    "a = np.linspace(0,1,50)\n",
    "print(a)\n",
    "print(np.mean(a))\n",
    "print(np.std(a))\n",
    "print(np.var(a))\n",
    "print(np.max(a))\n",
    "print(np.min(a))\n"
   ]
  },
  {
   "cell_type": "code",
   "execution_count": null,
   "metadata": {},
   "outputs": [],
   "source": [
    "# 27 - Pandas seriler ve numpy arrayler arasindaki farklar nelerdir yaziniz.\n",
    "\n",
    "\n",
    "# pandas verileri farkli veri tiplerinden olusurken, numpy tek tip veri tipi vardir.\n",
    "# Ayrica pandasda verilerin bir indexi vardir.\n"
   ]
  },
  {
   "cell_type": "code",
   "execution_count": 219,
   "metadata": {},
   "outputs": [
    {
     "data": {
      "text/plain": [
       "A    0\n",
       "B    1\n",
       "C    2\n",
       "D    3\n",
       "E    4\n",
       "dtype: object"
      ]
     },
     "execution_count": 219,
     "metadata": {},
     "output_type": "execute_result"
    }
   ],
   "source": [
    "# 28 - Indexi buyuk harflerden olusan, icinde farkli veri tipleri bulunan 5 elemanli bir seri olusturunuz.\n",
    "import pandas as pd\n",
    "\n",
    "a = pd.Series([0,1,2,\"3\",4], index=[\"A\",\"B\",\"C\",\"D\",\"E\"])\n",
    "a"
   ]
  },
  {
   "cell_type": "code",
   "execution_count": 225,
   "metadata": {},
   "outputs": [
    {
     "data": {
      "text/plain": [
       "Turkey           Ankara\n",
       "Nederland     Amsterdam\n",
       "Duitsland        Berlin\n",
       "VS           Washington\n",
       "Engeland         London\n",
       "dtype: object"
      ]
     },
     "execution_count": 225,
     "metadata": {},
     "output_type": "execute_result"
    }
   ],
   "source": [
    "# 29 - Key’ler ulke adlari, value’lar baskentleri olacak sekilde 5 elemanli bir sozluk olusturup onu seriye ceviriniz. \n",
    "# (ornek: fransa:paris)\n",
    "\n",
    "a = {\"Turkey\":'Ankara','Nederland':'Amsterdam', \"Duitsland\":\"Berlin\",\"VS\":\"Washington\",\"Engeland\":\"London\"}\n",
    "arr = pd.Series(a)\n",
    "arr"
   ]
  },
  {
   "cell_type": "code",
   "execution_count": 239,
   "metadata": {},
   "outputs": [
    {
     "name": "stdout",
     "output_type": "stream",
     "text": [
      "a    0\n",
      "b    1\n",
      "c    2\n",
      "d    3\n",
      "e    4\n",
      "f    5\n",
      "g    6\n",
      "h    7\n",
      "j    8\n",
      "k    9\n",
      "dtype: int32 \n",
      "\n",
      "2 \n",
      "\n",
      "0 \n",
      "\n",
      "b    1\n",
      "g    6\n",
      "dtype: int32 \n",
      "\n",
      "b    1\n",
      "c    2\n",
      "d    3\n",
      "e    4\n",
      "f    5\n",
      "g    6\n",
      "dtype: int32 \n",
      "\n",
      "d    3\n",
      "e    4\n",
      "f    5\n",
      "g    6\n",
      "h    7\n",
      "j    8\n",
      "k    9\n",
      "dtype: int32\n"
     ]
    }
   ],
   "source": [
    "# 30  - 10 elemanli random bir vektor olusturun.\n",
    "# Vektoru seriye cevirip indexleri str olarak belirleyin. (ornek: a,b,c,d,e,f,g.. seklinde)\n",
    "# Index ismine gore serinin 3. elemanina ulasin. (ornek: c indexine karsilik gelen deger)\n",
    "# Serinin index sirasina gore 1. Elamanina ulasin.\n",
    "# Index ismine gore serinin 2. Ve 7. Elemanlarina ayni anda ulasin. (Ornek: b ve g indexine karsilik gelen degerler)\n",
    "# Index ismi ile serinin 2. Ve 7. Elemanlari arasindaki degerleri yazdirin. (Ornek: b,c,d,e,f,g indexlerine karsilik gelen degerler)\n",
    "# Index sirasiyla serinin 4. indexinden son indexine kadar olan degerleri yazdirin.\n",
    "\n",
    "a = np.arange(10)\n",
    "arr = pd.Series(a, index=['a',\"b\",'c','d','e','f','g','h','j','k'])\n",
    "print(arr,'\\n')\n",
    "print(arr['c'],'\\n')\n",
    "print(arr[0],'\\n')\n",
    "print(arr[['b','g']],'\\n')\n",
    "print(arr['b':'g'],'\\n')\n",
    "print(arr['d':])"
   ]
  },
  {
   "cell_type": "code",
   "execution_count": 271,
   "metadata": {},
   "outputs": [
    {
     "name": "stdout",
     "output_type": "stream",
     "text": [
      "0     1\n",
      "1     2\n",
      "2     3\n",
      "3     4\n",
      "4     5\n",
      "0    11\n",
      "1    12\n",
      "2    13\n",
      "3    14\n",
      "4    15\n",
      "dtype: int64\n",
      "1      1\n",
      "2      2\n",
      "3      3\n",
      "4      4\n",
      "5      5\n",
      "6     11\n",
      "7     12\n",
      "8     13\n",
      "9     14\n",
      "10    15\n",
      "dtype: int64\n"
     ]
    },
    {
     "data": {
      "text/plain": [
       "4     4\n",
       "5     5\n",
       "6    11\n",
       "dtype: int64"
      ]
     },
     "execution_count": 271,
     "metadata": {},
     "output_type": "execute_result"
    }
   ],
   "source": [
    "# 31 - 2 adet 5 elemanli seri olusturun.\n",
    "# Olusturdugunuz serileri birlestirin.\n",
    "# Birlesen 10 elemanli serinin indexini 1’den 10’a kadar olacak sekilde duzenleyin.\n",
    "# Indexini duzenlediginiz seride, loc ve iloc metodlari ile, indexi 4,5,6 olan degerlere ulasin.\n",
    "\n",
    "a = pd.Series([1,2,3,4,5])\n",
    "b = pd.Series([11,12,13,14,15])\n",
    "arr = pd.concat([a,b])\n",
    "print(arr)\n",
    "arr.index=(range(1,11))\n",
    "print(arr)\n",
    "arr.iloc[3:6]"
   ]
  },
  {
   "cell_type": "code",
   "execution_count": null,
   "metadata": {},
   "outputs": [],
   "source": [
    "# 32 - Master odev ;\n",
    "# Bir dongu icerisinde random olacak sekilde iki tane 20x20’luk matris uretin ve bu matrislerin farklarini alin. \n",
    "# Ve fark matrisinin diagonali, -0.1 ile 0.1 arasinda olana kadar bu islemi tekrarlayin. Istenilen matris \n",
    "# bulundugunda program dursun ve toplam kac dongunun kuruldugunu, ne kadar sure icinde buldugunu ve istenilen\n",
    "# matrisi print ile birlikte ekrana yazdiriniz... Tavsiye: 20 x 20 luk matrisin bulunmasi saatler surebilir. \n",
    "#     Bu yuzden algoritmanizin dogrulugunu test etmek icin once 4x4, 5x5 gibi kucuk matrislerde deneyebilirsiniz.\n",
    "#     Ve matris sayisisini arttirarak en son 20x20 u deneyebilirsiniz.\n",
    "\n",
    "import time\n",
    "tstart = time.time()\n",
    "count=0\n",
    "while True:\n",
    "    count+=1\n",
    "    a = np.random.rand(20,20)\n",
    "    b = np.random.rand(20,20)\n",
    "    fark = np.diag(a-b)\n",
    "    aa=0\n",
    "    for i in fark:\n",
    "        if i>0.1 or i<-0.1:\n",
    "            break\n",
    "        else:\n",
    "            aa+=1\n",
    "    if aa==20:\n",
    "        break\n",
    "\n",
    "print('diag',fark, 'count', count)\n",
    "\n",
    "tfinish = time.time()\n",
    "print('time',tfinish-tstart)\n"
   ]
  },
  {
   "cell_type": "code",
   "execution_count": null,
   "metadata": {},
   "outputs": [],
   "source": []
  },
  {
   "cell_type": "code",
   "execution_count": null,
   "metadata": {},
   "outputs": [
    {
     "name": "stdout",
     "output_type": "stream",
     "text": [
      "diag [-0.08349946 -0.06996534] count 25\n",
      "time 0.0019986629486083984\n",
      "diag [ 0.02070199 -0.05541427 -0.01089287] count 127\n",
      "time 0.008996009826660156\n",
      "diag [ 0.08646627 -0.03316665 -0.04104706 -0.09100083] count 729\n",
      "time 0.04997062683105469\n",
      "diag [-0.0391146   0.04947659  0.06165431  0.08524428  0.03669236] count 3838\n",
      "time 0.17189431190490723\n",
      "diag [ 0.05869352  0.08502774 -0.00658613 -0.08222649  0.01057412 -0.01010439] count 37173\n",
      "time 0.7265498638153076\n",
      "diag [ 0.01910559  0.0520021   0.00487154  0.08035674  0.0098468  -0.02341778\n",
      "  0.01762266] count 190777\n",
      "time 5.333693027496338\n",
      "diag [-0.02608309  0.07017209  0.05618957 -0.08676231  0.06228886  0.07716268\n",
      "  0.06225509 -0.02122949] count 170699\n",
      "time 8.22889494895935\n",
      "diag [ 0.02351848 -0.09810878  0.07194092 -0.08542211  0.04328498 -0.09900629\n",
      "  0.05670616  0.07015854 -0.08084257] count 3629570\n",
      "time 73.50219488143921\n",
      "diag [-0.08058733 -0.05579832 -0.05767236 -0.06844673 -0.03627899 -0.05193965\n",
      "  0.04115525 -0.05567166 -0.0728547   0.01869676] count 1520092\n",
      "time 106.34618186950684\n"
     ]
    }
   ],
   "source": [
    "# 32 - Master odev ;\n",
    "# Bir dongu icerisinde random olacak sekilde iki tane 20x20’luk matris uretin ve bu matrislerin farklarini alin. \n",
    "# Ve fark matrisinin diagonali, -0.1 ile 0.1 arasinda olana kadar bu islemi tekrarlayin. Istenilen matris \n",
    "# bulundugunda program dursun ve toplam kac dongunun kuruldugunu, ne kadar sure icinde buldugunu ve istenilen\n",
    "# matrisi print ile birlikte ekrana yazdiriniz... Tavsiye: 20 x 20 luk matrisin bulunmasi saatler surebilir. \n",
    "#     Bu yuzden algoritmanizin dogrulugunu test etmek icin once 4x4, 5x5 gibi kucuk matrislerde deneyebilirsiniz.\n",
    "#     Ve matris sayisisini arttirarak en son 20x20 u deneyebilirsiniz.\n",
    "\n",
    "import time\n",
    "tstart = time.time()\n",
    "for k in range(2,12):\n",
    "    count=0\n",
    "    while True:\n",
    "        count+=1\n",
    "        a = np.random.rand(k,k)\n",
    "        b = np.random.rand(k,k)\n",
    "        fark = np.diag(a-b)\n",
    "        aa=0\n",
    "        for i in fark:\n",
    "            if i>0.1 or i<-0.1:\n",
    "                break\n",
    "            else:\n",
    "                aa+=1\n",
    "        if aa==k:\n",
    "            break\n",
    "\n",
    "    print('diag',fark, 'count', count)\n",
    "\n",
    "    tfinish = time.time()\n",
    "    print('time',tfinish-tstart)\n"
   ]
  },
  {
   "cell_type": "code",
   "execution_count": null,
   "metadata": {},
   "outputs": [],
   "source": []
  }
 ],
 "metadata": {
  "kernelspec": {
   "display_name": "Python 3",
   "language": "python",
   "name": "python3"
  },
  "language_info": {
   "codemirror_mode": {
    "name": "ipython",
    "version": 3
   },
   "file_extension": ".py",
   "mimetype": "text/x-python",
   "name": "python",
   "nbconvert_exporter": "python",
   "pygments_lexer": "ipython3",
   "version": "3.8.5"
  }
 },
 "nbformat": 4,
 "nbformat_minor": 4
}
