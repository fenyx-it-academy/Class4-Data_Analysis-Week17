{
 "metadata": {
  "language_info": {
   "codemirror_mode": {
    "name": "ipython",
    "version": 3
   },
   "file_extension": ".py",
   "mimetype": "text/x-python",
   "name": "python",
   "nbconvert_exporter": "python",
   "pygments_lexer": "ipython3",
   "version": "3.9.2"
  },
  "orig_nbformat": 2,
  "kernelspec": {
   "name": "python392jvsc74a57bd070dc6e59c876987feb607a01dfc3a1f1db267110d2b6cf914c9a9f09e8ab1daa",
   "display_name": "Python 3.9.2 64-bit"
  },
  "metadata": {
   "interpreter": {
    "hash": "70dc6e59c876987feb607a01dfc3a1f1db267110d2b6cf914c9a9f09e8ab1daa"
   }
  }
 },
 "nbformat": 4,
 "nbformat_minor": 2,
 "cells": [
  {
   "cell_type": "code",
   "execution_count": 4,
   "metadata": {},
   "outputs": [],
   "source": [
    "import numpy as np"
   ]
  },
  {
   "cell_type": "code",
   "execution_count": null,
   "metadata": {},
   "outputs": [],
   "source": [
    "#S1-vektor=tek boyutlu liste \n",
    "#   matris=birden fazla boyutu olan liste"
   ]
  },
  {
   "cell_type": "code",
   "execution_count": 2,
   "metadata": {},
   "outputs": [
    {
     "output_type": "execute_result",
     "data": {
      "text/plain": [
       "array([ 1,  2,  3,  4,  5,  6,  7,  8,  9, 10])"
      ]
     },
     "metadata": {},
     "execution_count": 2
    }
   ],
   "source": [
    "#S2-\n",
    "a=[1,2,3,4,5,6,7,8,9,10]\n",
    "b=np.array(a)\n",
    "b"
   ]
  },
  {
   "cell_type": "code",
   "execution_count": null,
   "metadata": {},
   "outputs": [],
   "source": [
    "#S3-\n",
    "np.zeros((10,10), dtype=\"int32\")"
   ]
  },
  {
   "cell_type": "code",
   "execution_count": null,
   "metadata": {},
   "outputs": [],
   "source": [
    "#S4-\n",
    "np.ones((10,10), dtype=\"float32\")"
   ]
  },
  {
   "cell_type": "code",
   "execution_count": null,
   "metadata": {},
   "outputs": [],
   "source": [
    "#S5-\n",
    "np.full((10,10),9, dtype='int32')"
   ]
  },
  {
   "cell_type": "code",
   "execution_count": null,
   "metadata": {},
   "outputs": [],
   "source": [
    "#S6-\n",
    "np.arange(5,25,3)"
   ]
  },
  {
   "cell_type": "code",
   "execution_count": 19,
   "metadata": {},
   "outputs": [
    {
     "output_type": "execute_result",
     "data": {
      "text/plain": [
       "array([-1.        , -0.93103448, -0.86206897, -0.79310345, -0.72413793,\n",
       "       -0.65517241, -0.5862069 , -0.51724138, -0.44827586, -0.37931034,\n",
       "       -0.31034483, -0.24137931, -0.17241379, -0.10344828, -0.03448276,\n",
       "        0.03448276,  0.10344828,  0.17241379,  0.24137931,  0.31034483,\n",
       "        0.37931034,  0.44827586,  0.51724138,  0.5862069 ,  0.65517241,\n",
       "        0.72413793,  0.79310345,  0.86206897,  0.93103448,  1.        ])"
      ]
     },
     "metadata": {},
     "execution_count": 19
    }
   ],
   "source": [
    "#S7-\n",
    "np.linspace(-1,1,30)"
   ]
  },
  {
   "cell_type": "code",
   "execution_count": 10,
   "metadata": {},
   "outputs": [
    {
     "output_type": "execute_result",
     "data": {
      "text/plain": [
       "array([[ 0, 12, 22,  7,  6, 27],\n",
       "       [ 6, 29, 14, 11, 19, 10],\n",
       "       [12, 11, 18, 11,  0, 15],\n",
       "       [ 1, 18,  6, 10, 17, 17],\n",
       "       [20, 24,  2, 10, 10, 29]])"
      ]
     },
     "metadata": {},
     "execution_count": 10
    }
   ],
   "source": [
    "#S8-\n",
    "np.random.randint(0,30,(5,6))"
   ]
  },
  {
   "cell_type": "code",
   "execution_count": null,
   "metadata": {},
   "outputs": [],
   "source": [
    "#S9-\n",
    "np.eye(10)"
   ]
  },
  {
   "cell_type": "code",
   "execution_count": 20,
   "metadata": {},
   "outputs": [
    {
     "output_type": "execute_result",
     "data": {
      "text/plain": [
       "array([[2, 1, 1, 2, 7, 4, 8, 1, 9, 2],\n",
       "       [4, 3, 5, 4, 1, 8, 1, 7, 7, 8],\n",
       "       [0, 0, 9, 4, 6, 5, 7, 4, 7, 5],\n",
       "       [3, 3, 6, 7, 0, 5, 3, 6, 2, 3],\n",
       "       [6, 3, 0, 5, 9, 6, 5, 0, 3, 6]])"
      ]
     },
     "metadata": {},
     "execution_count": 20
    }
   ],
   "source": [
    "#s-10\n",
    "matris=np.random.randint(0,10,(5,10),dtype=\"int32\")\n",
    "matris"
   ]
  },
  {
   "cell_type": "code",
   "execution_count": 21,
   "metadata": {},
   "outputs": [
    {
     "output_type": "execute_result",
     "data": {
      "text/plain": [
       "50"
      ]
     },
     "metadata": {},
     "execution_count": 21
    }
   ],
   "source": [
    "#s-10_1\n",
    "matris.size"
   ]
  },
  {
   "cell_type": "code",
   "execution_count": 22,
   "metadata": {},
   "outputs": [
    {
     "output_type": "execute_result",
     "data": {
      "text/plain": [
       "2"
      ]
     },
     "metadata": {},
     "execution_count": 22
    }
   ],
   "source": [
    "#s-10_2\n",
    "matris.ndim"
   ]
  },
  {
   "cell_type": "code",
   "execution_count": null,
   "metadata": {},
   "outputs": [],
   "source": [
    "#s-10_3\n",
    "matris.shape"
   ]
  },
  {
   "cell_type": "code",
   "execution_count": null,
   "metadata": {},
   "outputs": [],
   "source": [
    "#s-10_4\n",
    "matris.dtype"
   ]
  },
  {
   "cell_type": "code",
   "execution_count": null,
   "metadata": {},
   "outputs": [],
   "source": [
    "#S-11\n",
    "ucboyut=np.random.randint(10,size=(3,3,7))\n",
    "ucboyut"
   ]
  },
  {
   "cell_type": "code",
   "execution_count": null,
   "metadata": {},
   "outputs": [],
   "source": [
    "#S-12\n",
    "vektor=np.arange(1,10)\n",
    "vektor"
   ]
  },
  {
   "cell_type": "code",
   "execution_count": null,
   "metadata": {},
   "outputs": [],
   "source": [
    "#S-12\n",
    "vektor.reshape(3,3)"
   ]
  },
  {
   "cell_type": "code",
   "execution_count": null,
   "metadata": {},
   "outputs": [],
   "source": [
    "#S-13\n",
    "a=np.array([1,2,3,])\n",
    "b=np.array([4,5,6])\n",
    "c=np.array([7,8,9])\n",
    "d=np.array([10,11,12])\n",
    "np.concatenate([a,b,c,d])"
   ]
  },
  {
   "cell_type": "code",
   "execution_count": null,
   "metadata": {},
   "outputs": [],
   "source": [
    "#S-14\n",
    "vektor=np.random.normal(1,10,(2,1))\n",
    "vektor\n"
   ]
  },
  {
   "cell_type": "code",
   "execution_count": 23,
   "metadata": {},
   "outputs": [
    {
     "output_type": "execute_result",
     "data": {
      "text/plain": [
       "array([[ -5.13201835,  10.17139387,  12.0335071 ],\n",
       "       [-17.77147184, -20.64312055,  -8.40826529]])"
      ]
     },
     "metadata": {},
     "execution_count": 23
    }
   ],
   "source": [
    "matris=np.random.normal(1,10,(2,3))\n",
    "matris"
   ]
  },
  {
   "cell_type": "code",
   "execution_count": null,
   "metadata": {},
   "outputs": [],
   "source": [
    "np.concatenate([vektor,matris], axis =1)"
   ]
  },
  {
   "cell_type": "code",
   "execution_count": null,
   "metadata": {},
   "outputs": [],
   "source": [
    "#S-15\n",
    "np.concatenate isleminde dikey ya da yatay birlestirme secme olanagi saglar."
   ]
  },
  {
   "cell_type": "code",
   "execution_count": null,
   "metadata": {},
   "outputs": [],
   "source": [
    "#S-16\n",
    "x=np.random.randint(10,size=(3,2,7))\n",
    "y=np.random.randint(10,size=(3,3,7))\n",
    "x,y"
   ]
  },
  {
   "cell_type": "code",
   "execution_count": null,
   "metadata": {},
   "outputs": [],
   "source": [
    "np.concatenate([x,y],axis=1)"
   ]
  },
  {
   "cell_type": "code",
   "execution_count": null,
   "metadata": {},
   "outputs": [],
   "source": [
    "#s17-\n",
    "listeon=np.array([9, 1, 0, 8, 5, 7,2,4,3,6])\n",
    "a,b,c,d,e=np.split(listeon,[2,4,6,8])\n",
    "a,b,c,d,e"
   ]
  },
  {
   "cell_type": "code",
   "execution_count": null,
   "metadata": {},
   "outputs": [],
   "source": [
    "#s18-\n",
    "randomarray=np.random.randint(10,size=(3,7))\n",
    "x=np.sort(randomarray)\n",
    "x"
   ]
  },
  {
   "cell_type": "code",
   "execution_count": null,
   "metadata": {},
   "outputs": [],
   "source": [
    "x[0:2,[1,2]]"
   ]
  },
  {
   "cell_type": "code",
   "execution_count": null,
   "metadata": {},
   "outputs": [],
   "source": [
    "#S19-\n",
    "rvek=np.random.randint(20, size=21)\n",
    "rvek"
   ]
  },
  {
   "cell_type": "code",
   "execution_count": null,
   "metadata": {},
   "outputs": [],
   "source": [
    "a=[3,5,7]\n",
    "rvek[a]"
   ]
  },
  {
   "cell_type": "code",
   "execution_count": null,
   "metadata": {},
   "outputs": [],
   "source": [
    "#S20-\n",
    "rvekon=np.random.randint(10, size=11)\n",
    "rvekon\n"
   ]
  },
  {
   "cell_type": "code",
   "execution_count": null,
   "metadata": {},
   "outputs": [],
   "source": [
    "rvekon[5]=100\n",
    "rvekon"
   ]
  },
  {
   "cell_type": "code",
   "execution_count": null,
   "metadata": {},
   "outputs": [],
   "source": [
    "#S21-\n",
    "#Diogonal matrix=Bir kare matriste asal köşegen üzerindeki elemanların dışında kalan tüm elemanlar sıfır ise bu matrise Diogonal matris denir. \n",
    "[1 0 0\n",
    "0 2 0\n",
    "0 0 3]\n",
    "#Trace of Matrix=asal kosegen uzerindeki elemanlariini toplamina denir."
   ]
  },
  {
   "cell_type": "code",
   "execution_count": 24,
   "metadata": {},
   "outputs": [
    {
     "output_type": "execute_result",
     "data": {
      "text/plain": [
       "array([[1., 0., 0., 0., 0.],\n",
       "       [0., 1., 0., 0., 0.],\n",
       "       [0., 0., 1., 0., 0.],\n",
       "       [0., 0., 0., 1., 0.],\n",
       "       [0., 0., 0., 0., 1.]])"
      ]
     },
     "metadata": {},
     "execution_count": 24
    }
   ],
   "source": [
    "#S-22\n",
    "x=np.eye(5,5)\n",
    "x"
   ]
  },
  {
   "cell_type": "code",
   "execution_count": 25,
   "metadata": {},
   "outputs": [
    {
     "output_type": "stream",
     "name": "stdout",
     "text": [
      "1.0\n1.0\n1.0\n1.0\n1.0\n"
     ]
    }
   ],
   "source": [
    "for i in range(len(x)):\n",
    "    print(x[i][i])"
   ]
  },
  {
   "cell_type": "code",
   "execution_count": null,
   "metadata": {},
   "outputs": [],
   "source": [
    "#S-23\n",
    "z=np.arange(10,20)\n",
    "z[3:]"
   ]
  },
  {
   "cell_type": "code",
   "execution_count": 28,
   "metadata": {},
   "outputs": [
    {
     "output_type": "execute_result",
     "data": {
      "text/plain": [
       "array([[ 0,  1,  2,  3,  4,  5,  6,  7,  8,  9],\n",
       "       [10, 11, 12, 13, 14, 15, 16, 17, 18, 19],\n",
       "       [20, 21, 22, 23, 24, 25, 26, 27, 28, 29],\n",
       "       [30, 31, 32, 33, 34, 35, 36, 37, 38, 39],\n",
       "       [40, 41, 42, 43, 44, 45, 46, 47, 48, 49],\n",
       "       [50, 51, 52, 53, 54, 55, 56, 57, 58, 59],\n",
       "       [60, 61, 62, 63, 64, 65, 66, 67, 68, 69],\n",
       "       [70, 71, 72, 73, 74, 75, 76, 77, 78, 79],\n",
       "       [80, 81, 82, 83, 84, 85, 86, 87, 88, 89],\n",
       "       [90, 91, 92, 93, 94, 95, 96, 97, 98, 99]])"
      ]
     },
     "metadata": {},
     "execution_count": 28
    }
   ],
   "source": [
    "onaon=np.arange(100).reshape(10,10)\n",
    "onaon"
   ]
  },
  {
   "cell_type": "code",
   "execution_count": 30,
   "metadata": {},
   "outputs": [
    {
     "output_type": "execute_result",
     "data": {
      "text/plain": [
       "2"
      ]
     },
     "metadata": {},
     "execution_count": 30
    }
   ],
   "source": []
  },
  {
   "cell_type": "code",
   "execution_count": 82,
   "metadata": {},
   "outputs": [
    {
     "output_type": "execute_result",
     "data": {
      "text/plain": [
       "array([20, 21, 22, 23, 24, 25, 26, 27, 28, 29])"
      ]
     },
     "metadata": {},
     "execution_count": 82
    }
   ],
   "source": [
    "onaon[2]"
   ]
  },
  {
   "cell_type": "code",
   "execution_count": 79,
   "metadata": {},
   "outputs": [
    {
     "output_type": "execute_result",
     "data": {
      "text/plain": [
       "array([ 5, 15, 25, 35, 45, 55, 65, 75, 85, 95])"
      ]
     },
     "metadata": {},
     "execution_count": 79
    }
   ],
   "source": [
    "onaon[:,5]\n"
   ]
  },
  {
   "cell_type": "code",
   "execution_count": 84,
   "metadata": {},
   "outputs": [
    {
     "output_type": "execute_result",
     "data": {
      "text/plain": [
       "array([10, 11, 12, 13, 14, 15, 16, 17, 18, 19])"
      ]
     },
     "metadata": {},
     "execution_count": 84
    }
   ],
   "source": [
    "onaon[1]"
   ]
  },
  {
   "cell_type": "code",
   "execution_count": 73,
   "metadata": {},
   "outputs": [
    {
     "output_type": "execute_result",
     "data": {
      "text/plain": [
       "array([[20, 21, 22, 23, 24, 25, 26, 27, 28, 29],\n",
       "       [30, 31, 32, 33, 34, 35, 36, 37, 38, 39],\n",
       "       [40, 41, 42, 43, 44, 45, 46, 47, 48, 49],\n",
       "       [50, 51, 52, 53, 54, 55, 56, 57, 58, 59],\n",
       "       [60, 61, 62, 63, 64, 65, 66, 67, 68, 69]])"
      ]
     },
     "metadata": {},
     "execution_count": 73
    }
   ],
   "source": [
    "onaon[2:7]"
   ]
  },
  {
   "cell_type": "code",
   "execution_count": 86,
   "metadata": {},
   "outputs": [
    {
     "output_type": "execute_result",
     "data": {
      "text/plain": [
       "array([[23, 24, 25, 26],\n",
       "       [33, 34, 35, 36],\n",
       "       [43, 44, 45, 46]])"
      ]
     },
     "metadata": {},
     "execution_count": 86
    }
   ],
   "source": [
    "onaon[2:5,3:7]"
   ]
  },
  {
   "cell_type": "code",
   "execution_count": 88,
   "metadata": {},
   "outputs": [
    {
     "output_type": "execute_result",
     "data": {
      "text/plain": [
       "array([[50, 51, 52, 53],\n",
       "       [60, 61, 62, 63],\n",
       "       [70, 71, 72, 73],\n",
       "       [80, 81, 82, 83],\n",
       "       [90, 91, 92, 93]])"
      ]
     },
     "metadata": {},
     "execution_count": 88
    }
   ],
   "source": [
    "onaon[5:,:4]"
   ]
  },
  {
   "cell_type": "code",
   "execution_count": 100,
   "metadata": {},
   "outputs": [
    {
     "output_type": "execute_result",
     "data": {
      "text/plain": [
       "array([[   0,    1,    2,    3,    4,    5,    6,    7,    8,    9],\n",
       "       [  10,   11,   12,   13,   14,   15,   16,   17,   18,   19],\n",
       "       [  20,   21,   22,   23,   24,   25,   26,   27,   28,   29],\n",
       "       [  30,   31,   32,   33,   34,   35,   36,   37,   38,   39],\n",
       "       [  40,   41,   42,   43,   44,   45,   46,   47,   48,   49],\n",
       "       [  50,   51,   52,   53,   54, 1981,   56,   57,   58,   59],\n",
       "       [  60,   61,   62,   63,   64,   65,   66,   67,   68,   69],\n",
       "       [  70,   71,   72,   73,   74,   75,   76,   77,   78,   79],\n",
       "       [  80,   81,   82,   83,   84,   85,   86,   87,   88,   89],\n",
       "       [  90,   91,   92,   93,   94,   95,   96,   97,   98,   99]])"
      ]
     },
     "metadata": {},
     "execution_count": 100
    }
   ],
   "source": [
    "onaon[5,5]=1981\n",
    "onaon"
   ]
  },
  {
   "cell_type": "code",
   "execution_count": 103,
   "metadata": {},
   "outputs": [
    {
     "output_type": "execute_result",
     "data": {
      "text/plain": [
       "array([ 0,  5, 10, 15, 20, 25, 30, 35, 40, 45, 50])"
      ]
     },
     "metadata": {},
     "execution_count": 103
    }
   ],
   "source": [
    "#S25-\n",
    "beser=np.arange(0,51,5)\n",
    "beser"
   ]
  },
  {
   "cell_type": "code",
   "execution_count": 105,
   "metadata": {},
   "outputs": [
    {
     "output_type": "execute_result",
     "data": {
      "text/plain": [
       "6"
      ]
     },
     "metadata": {},
     "execution_count": 105
    }
   ],
   "source": [
    "len(beser[(beser>20)])"
   ]
  },
  {
   "cell_type": "code",
   "execution_count": 106,
   "metadata": {},
   "outputs": [
    {
     "output_type": "execute_result",
     "data": {
      "text/plain": [
       "6"
      ]
     },
     "metadata": {},
     "execution_count": 106
    }
   ],
   "source": [
    "len(beser[(beser<30)])"
   ]
  },
  {
   "cell_type": "code",
   "execution_count": 110,
   "metadata": {},
   "outputs": [
    {
     "output_type": "execute_result",
     "data": {
      "text/plain": [
       "0"
      ]
     },
     "metadata": {},
     "execution_count": 110
    }
   ],
   "source": [
    "len(beser[(beser==33)])"
   ]
  },
  {
   "cell_type": "code",
   "execution_count": 109,
   "metadata": {},
   "outputs": [
    {
     "output_type": "execute_result",
     "data": {
      "text/plain": [
       "array([  0,  25,  50,  75, 100, 125, 150, 175, 200, 225, 250])"
      ]
     },
     "metadata": {},
     "execution_count": 109
    }
   ],
   "source": [
    "beser*5"
   ]
  },
  {
   "cell_type": "code",
   "execution_count": 114,
   "metadata": {},
   "outputs": [
    {
     "output_type": "execute_result",
     "data": {
      "text/plain": [
       "array([ 0. ,  2.5,  5. ,  7.5, 10. , 12.5, 15. , 17.5, 20. , 22.5, 25. ])"
      ]
     },
     "metadata": {},
     "execution_count": 114
    }
   ],
   "source": [
    "beser/2"
   ]
  },
  {
   "cell_type": "code",
   "execution_count": 27,
   "metadata": {},
   "outputs": [
    {
     "output_type": "execute_result",
     "data": {
      "text/plain": [
       "array([0.        , 0.02040816, 0.04081633, 0.06122449, 0.08163265,\n",
       "       0.10204082, 0.12244898, 0.14285714, 0.16326531, 0.18367347,\n",
       "       0.20408163, 0.2244898 , 0.24489796, 0.26530612, 0.28571429,\n",
       "       0.30612245, 0.32653061, 0.34693878, 0.36734694, 0.3877551 ,\n",
       "       0.40816327, 0.42857143, 0.44897959, 0.46938776, 0.48979592,\n",
       "       0.51020408, 0.53061224, 0.55102041, 0.57142857, 0.59183673,\n",
       "       0.6122449 , 0.63265306, 0.65306122, 0.67346939, 0.69387755,\n",
       "       0.71428571, 0.73469388, 0.75510204, 0.7755102 , 0.79591837,\n",
       "       0.81632653, 0.83673469, 0.85714286, 0.87755102, 0.89795918,\n",
       "       0.91836735, 0.93877551, 0.95918367, 0.97959184, 1.        ])"
      ]
     },
     "metadata": {},
     "execution_count": 27
    }
   ],
   "source": [
    "#S-26\n",
    "z=np.linspace(0,1)\n",
    "z\n"
   ]
  },
  {
   "cell_type": "code",
   "execution_count": 18,
   "metadata": {},
   "outputs": [
    {
     "output_type": "execute_result",
     "data": {
      "text/plain": [
       "0.5"
      ]
     },
     "metadata": {},
     "execution_count": 18
    }
   ],
   "source": [
    "z.mean()\n",
    "np.mean(z)"
   ]
  },
  {
   "cell_type": "code",
   "execution_count": 19,
   "metadata": {},
   "outputs": [
    {
     "output_type": "execute_result",
     "data": {
      "text/plain": [
       "0.5"
      ]
     },
     "metadata": {},
     "execution_count": 19
    }
   ],
   "source": [
    "np.median(z)"
   ]
  },
  {
   "cell_type": "code",
   "execution_count": 20,
   "metadata": {},
   "outputs": [
    {
     "output_type": "execute_result",
     "data": {
      "text/plain": [
       "0.2945075446869757"
      ]
     },
     "metadata": {},
     "execution_count": 20
    }
   ],
   "source": [
    "z.std()"
   ]
  },
  {
   "cell_type": "code",
   "execution_count": 28,
   "metadata": {},
   "outputs": [
    {
     "output_type": "execute_result",
     "data": {
      "text/plain": [
       "1.0"
      ]
     },
     "metadata": {},
     "execution_count": 28
    }
   ],
   "source": [
    "z.max()"
   ]
  },
  {
   "cell_type": "code",
   "execution_count": 30,
   "metadata": {},
   "outputs": [
    {
     "output_type": "execute_result",
     "data": {
      "text/plain": [
       "0.0"
      ]
     },
     "metadata": {},
     "execution_count": 30
    }
   ],
   "source": [
    "z.min()"
   ]
  },
  {
   "cell_type": "code",
   "execution_count": 31,
   "metadata": {},
   "outputs": [
    {
     "output_type": "execute_result",
     "data": {
      "text/plain": [
       "0.086734693877551"
      ]
     },
     "metadata": {},
     "execution_count": 31
    }
   ],
   "source": [
    "z.var()"
   ]
  },
  {
   "cell_type": "code",
   "execution_count": 2,
   "metadata": {},
   "outputs": [],
   "source": [
    "import pandas as pd"
   ]
  },
  {
   "cell_type": "code",
   "execution_count": 5,
   "metadata": {},
   "outputs": [
    {
     "output_type": "execute_result",
     "data": {
      "text/plain": [
       "A         1\n",
       "B         2\n",
       "C       3.0\n",
       "D    pandas\n",
       "E        5j\n",
       "dtype: object"
      ]
     },
     "metadata": {},
     "execution_count": 5
    }
   ],
   "source": [
    "#S28-\n",
    "upperlet=pd.Series(data=[1,2,3.0,'pandas',5j],index=['A','B','C','D','E'])\n",
    "upperlet"
   ]
  },
  {
   "cell_type": "code",
   "execution_count": 7,
   "metadata": {},
   "outputs": [
    {
     "output_type": "execute_result",
     "data": {
      "text/plain": [
       "Turkiye          Ankara\n",
       "Hollanda      Amsterdam\n",
       "Almanya          Berlin\n",
       "Ingiltere        Londra\n",
       "Yunanistan        Atina\n",
       "dtype: object"
      ]
     },
     "metadata": {},
     "execution_count": 7
    }
   ],
   "source": [
    "#S-29\n",
    "dict={\n",
    "    'Turkiye':'Ankara',\n",
    "    'Hollanda':'Amsterdam',\n",
    "    'Almanya':'Berlin',\n",
    "    'Ingiltere':'Londra',\n",
    "    'Yunanistan':'Atina',\n",
    "}\n",
    "seridict=pd.Series(dict)\n",
    "seridict"
   ]
  },
  {
   "cell_type": "code",
   "execution_count": 8,
   "metadata": {},
   "outputs": [
    {
     "output_type": "execute_result",
     "data": {
      "text/plain": [
       "array([8, 7, 5, 8, 1, 7, 1, 1, 2, 5])"
      ]
     },
     "metadata": {},
     "execution_count": 8
    }
   ],
   "source": [
    "#S30-\n",
    "ranVektor=np.random.randint(9, size=10)\n",
    "ranVektor"
   ]
  },
  {
   "cell_type": "code",
   "execution_count": 18,
   "metadata": {},
   "outputs": [
    {
     "output_type": "execute_result",
     "data": {
      "text/plain": [
       "a    8\n",
       "b    7\n",
       "c    5\n",
       "d    8\n",
       "e    1\n",
       "f    7\n",
       "g    1\n",
       "l    1\n",
       "m    2\n",
       "n    5\n",
       "dtype: int32"
      ]
     },
     "metadata": {},
     "execution_count": 18
    }
   ],
   "source": [
    "alf=['a','b','c','d','e','f','g','l','m','n']\n",
    "len(alf)\n",
    "ranVektorSeri=pd.Series(data=(ranVektor[0:11]),index=alf)\n",
    "ranVektorSeri"
   ]
  },
  {
   "cell_type": "code",
   "execution_count": 14,
   "metadata": {},
   "outputs": [
    {
     "output_type": "execute_result",
     "data": {
      "text/plain": [
       "5"
      ]
     },
     "metadata": {},
     "execution_count": 14
    }
   ],
   "source": [
    "ranVektorSeri.get('c')"
   ]
  },
  {
   "cell_type": "code",
   "execution_count": 15,
   "metadata": {},
   "outputs": [
    {
     "output_type": "execute_result",
     "data": {
      "text/plain": [
       "8"
      ]
     },
     "metadata": {},
     "execution_count": 15
    }
   ],
   "source": [
    "ranVektorSeri['a']"
   ]
  },
  {
   "cell_type": "code",
   "execution_count": 33,
   "metadata": {},
   "outputs": [
    {
     "output_type": "execute_result",
     "data": {
      "text/plain": [
       "a    8\n",
       "f    7\n",
       "dtype: int32"
      ]
     },
     "metadata": {},
     "execution_count": 33
    }
   ],
   "source": [
    "ranVektorSeri.get(['a','f'])"
   ]
  },
  {
   "cell_type": "code",
   "execution_count": 34,
   "metadata": {},
   "outputs": [
    {
     "output_type": "execute_result",
     "data": {
      "text/plain": [
       "b    7\n",
       "c    5\n",
       "d    8\n",
       "e    1\n",
       "f    7\n",
       "dtype: int32"
      ]
     },
     "metadata": {},
     "execution_count": 34
    }
   ],
   "source": [
    "ranVektorSeri['b':'f']"
   ]
  },
  {
   "cell_type": "code",
   "execution_count": 35,
   "metadata": {},
   "outputs": [
    {
     "output_type": "execute_result",
     "data": {
      "text/plain": [
       "e    1\n",
       "f    7\n",
       "g    1\n",
       "l    1\n",
       "m    2\n",
       "n    5\n",
       "dtype: int32"
      ]
     },
     "metadata": {},
     "execution_count": 35
    }
   ],
   "source": [
    "ranVektorSeri['e':]"
   ]
  },
  {
   "cell_type": "code",
   "execution_count": 8,
   "metadata": {},
   "outputs": [
    {
     "output_type": "execute_result",
     "data": {
      "text/plain": [
       "array([ 6,  7,  8,  9, 10])"
      ]
     },
     "metadata": {},
     "execution_count": 8
    }
   ],
   "source": [
    "seria=np.arange(5)\n",
    "serib=np.arange(6,11)\n",
    "serib"
   ]
  },
  {
   "cell_type": "code",
   "execution_count": 9,
   "metadata": {},
   "outputs": [],
   "source": [
    "seria=pd.Series(seria)\n",
    "serib=pd.Series(serib)"
   ]
  },
  {
   "cell_type": "code",
   "execution_count": 14,
   "metadata": {},
   "outputs": [
    {
     "output_type": "execute_result",
     "data": {
      "text/plain": [
       "   low  high\n",
       "0    0     6\n",
       "1    1     7\n",
       "2    2     8\n",
       "3    3     9\n",
       "4    4    10"
      ],
      "text/html": "<div>\n<style scoped>\n    .dataframe tbody tr th:only-of-type {\n        vertical-align: middle;\n    }\n\n    .dataframe tbody tr th {\n        vertical-align: top;\n    }\n\n    .dataframe thead th {\n        text-align: right;\n    }\n</style>\n<table border=\"1\" class=\"dataframe\">\n  <thead>\n    <tr style=\"text-align: right;\">\n      <th></th>\n      <th>low</th>\n      <th>high</th>\n    </tr>\n  </thead>\n  <tbody>\n    <tr>\n      <th>0</th>\n      <td>0</td>\n      <td>6</td>\n    </tr>\n    <tr>\n      <th>1</th>\n      <td>1</td>\n      <td>7</td>\n    </tr>\n    <tr>\n      <th>2</th>\n      <td>2</td>\n      <td>8</td>\n    </tr>\n    <tr>\n      <th>3</th>\n      <td>3</td>\n      <td>9</td>\n    </tr>\n    <tr>\n      <th>4</th>\n      <td>4</td>\n      <td>10</td>\n    </tr>\n  </tbody>\n</table>\n</div>"
     },
     "metadata": {},
     "execution_count": 14
    }
   ],
   "source": [
    "data=dict(low=seria,high=serib)\n",
    "df=pd.DataFrame(data)\n",
    "df\n"
   ]
  },
  {
   "cell_type": "code",
   "execution_count": 11,
   "metadata": {},
   "outputs": [
    {
     "output_type": "execute_result",
     "data": {
      "text/plain": [
       "0     0\n",
       "1     1\n",
       "2     2\n",
       "3     3\n",
       "4     4\n",
       "0     6\n",
       "1     7\n",
       "2     8\n",
       "3     9\n",
       "4    10\n",
       "dtype: int32"
      ]
     },
     "metadata": {},
     "execution_count": 11
    }
   ],
   "source": [
    "seri=pd.concat([seria,serib],ignore_index=True)\n",
    "seri"
   ]
  },
  {
   "cell_type": "code",
   "execution_count": null,
   "metadata": {},
   "outputs": [],
   "source": []
  }
 ]
}