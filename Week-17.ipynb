{
 "cells": [
  {
   "cell_type": "markdown",
   "metadata": {},
   "source": [
    "# Numpy ve Pandas ile ilgili Odev"
   ]
  },
  {
   "cell_type": "markdown",
   "metadata": {},
   "source": [
    "1- Numpy’da Vektor ve Matrisin farkini tek cumle ile ifade ediniz."
   ]
  },
  {
   "cell_type": "code",
   "execution_count": null,
   "metadata": {},
   "outputs": [],
   "source": [
    "# Vektor tek boyutlu, matris ise cok boyutludur."
   ]
  },
  {
   "cell_type": "markdown",
   "metadata": {},
   "source": [
    "2- 10 elemanli bir listeden NumPy Array’i olusturunuz."
   ]
  },
  {
   "cell_type": "code",
   "execution_count": 2,
   "metadata": {},
   "outputs": [
    {
     "name": "stdout",
     "output_type": "stream",
     "text": [
      "[0, 1, 2, 3, 4, 5, 6, 7, 8, 9]\n",
      "[0 1 2 3 4 5 6 7 8 9]\n"
     ]
    }
   ],
   "source": [
    "import numpy as np\n",
    "list1= list(range(10))\n",
    "a= np.array(list1)\n",
    "print(list1)\n",
    "print(a)"
   ]
  },
  {
   "cell_type": "markdown",
   "metadata": {},
   "source": [
    "3- Icerisinde ‘0’ lar olan, ve veri tipi integer olan 10X10’luk bir matris olusturunuz."
   ]
  },
  {
   "cell_type": "code",
   "execution_count": 10,
   "metadata": {},
   "outputs": [
    {
     "data": {
      "text/plain": [
       "array([[0, 0, 0, 0, 0, 0, 0, 0, 0, 0],\n",
       "       [0, 0, 0, 0, 0, 0, 0, 0, 0, 0],\n",
       "       [0, 0, 0, 0, 0, 0, 0, 0, 0, 0],\n",
       "       [0, 0, 0, 0, 0, 0, 0, 0, 0, 0],\n",
       "       [0, 0, 0, 0, 0, 0, 0, 0, 0, 0],\n",
       "       [0, 0, 0, 0, 0, 0, 0, 0, 0, 0],\n",
       "       [0, 0, 0, 0, 0, 0, 0, 0, 0, 0],\n",
       "       [0, 0, 0, 0, 0, 0, 0, 0, 0, 0],\n",
       "       [0, 0, 0, 0, 0, 0, 0, 0, 0, 0],\n",
       "       [0, 0, 0, 0, 0, 0, 0, 0, 0, 0]])"
      ]
     },
     "execution_count": 10,
     "metadata": {},
     "output_type": "execute_result"
    }
   ],
   "source": [
    "np.zeros((10,10), dtype = 'int32')"
   ]
  },
  {
   "cell_type": "markdown",
   "metadata": {},
   "source": [
    "4- Icerisinde ‘1’ ler olan, veri tipi float olan 10X10’luk bir matris olusturunuz."
   ]
  },
  {
   "cell_type": "code",
   "execution_count": 11,
   "metadata": {},
   "outputs": [
    {
     "data": {
      "text/plain": [
       "array([[1., 1., 1., 1., 1., 1., 1., 1., 1., 1.],\n",
       "       [1., 1., 1., 1., 1., 1., 1., 1., 1., 1.],\n",
       "       [1., 1., 1., 1., 1., 1., 1., 1., 1., 1.],\n",
       "       [1., 1., 1., 1., 1., 1., 1., 1., 1., 1.],\n",
       "       [1., 1., 1., 1., 1., 1., 1., 1., 1., 1.],\n",
       "       [1., 1., 1., 1., 1., 1., 1., 1., 1., 1.],\n",
       "       [1., 1., 1., 1., 1., 1., 1., 1., 1., 1.],\n",
       "       [1., 1., 1., 1., 1., 1., 1., 1., 1., 1.],\n",
       "       [1., 1., 1., 1., 1., 1., 1., 1., 1., 1.],\n",
       "       [1., 1., 1., 1., 1., 1., 1., 1., 1., 1.]], dtype=float32)"
      ]
     },
     "execution_count": 11,
     "metadata": {},
     "output_type": "execute_result"
    }
   ],
   "source": [
    "np.ones((10,10), dtype = 'float32')"
   ]
  },
  {
   "cell_type": "markdown",
   "metadata": {},
   "source": [
    "5- Icerisinde ‘9’ lar olan, veri tipi integer olan 10X10’luk bir matris olusturunuz."
   ]
  },
  {
   "cell_type": "code",
   "execution_count": 15,
   "metadata": {},
   "outputs": [
    {
     "data": {
      "text/plain": [
       "array([[9, 9, 9, 9, 9, 9, 9, 9, 9, 9],\n",
       "       [9, 9, 9, 9, 9, 9, 9, 9, 9, 9],\n",
       "       [9, 9, 9, 9, 9, 9, 9, 9, 9, 9],\n",
       "       [9, 9, 9, 9, 9, 9, 9, 9, 9, 9],\n",
       "       [9, 9, 9, 9, 9, 9, 9, 9, 9, 9],\n",
       "       [9, 9, 9, 9, 9, 9, 9, 9, 9, 9],\n",
       "       [9, 9, 9, 9, 9, 9, 9, 9, 9, 9],\n",
       "       [9, 9, 9, 9, 9, 9, 9, 9, 9, 9],\n",
       "       [9, 9, 9, 9, 9, 9, 9, 9, 9, 9],\n",
       "       [9, 9, 9, 9, 9, 9, 9, 9, 9, 9]])"
      ]
     },
     "execution_count": 15,
     "metadata": {},
     "output_type": "execute_result"
    }
   ],
   "source": [
    "np.full((10,10), 9, dtype = 'int32')"
   ]
  },
  {
   "cell_type": "markdown",
   "metadata": {},
   "source": [
    "6- 5 ile 25 arasinda, 3’er 3’er atlayan tek boyutlu bir Array olusturunuz."
   ]
  },
  {
   "cell_type": "code",
   "execution_count": 18,
   "metadata": {},
   "outputs": [
    {
     "data": {
      "text/plain": [
       "array([ 6,  9, 12, 15, 18, 21, 24])"
      ]
     },
     "execution_count": 18,
     "metadata": {},
     "output_type": "execute_result"
    }
   ],
   "source": [
    "a1= np.arange(6,25,3)\n",
    "a1"
   ]
  },
  {
   "cell_type": "markdown",
   "metadata": {},
   "source": [
    "7- -1 ile 1 arasinda 30 adet Array olusturunuz."
   ]
  },
  {
   "cell_type": "code",
   "execution_count": 19,
   "metadata": {},
   "outputs": [
    {
     "data": {
      "text/plain": [
       "array([-1.        , -0.93103448, -0.86206897, -0.79310345, -0.72413793,\n",
       "       -0.65517241, -0.5862069 , -0.51724138, -0.44827586, -0.37931034,\n",
       "       -0.31034483, -0.24137931, -0.17241379, -0.10344828, -0.03448276,\n",
       "        0.03448276,  0.10344828,  0.17241379,  0.24137931,  0.31034483,\n",
       "        0.37931034,  0.44827586,  0.51724138,  0.5862069 ,  0.65517241,\n",
       "        0.72413793,  0.79310345,  0.86206897,  0.93103448,  1.        ])"
      ]
     },
     "execution_count": 19,
     "metadata": {},
     "output_type": "execute_result"
    }
   ],
   "source": [
    "np.linspace(-1,1,30)"
   ]
  },
  {
   "cell_type": "markdown",
   "metadata": {},
   "source": [
    "8- 0 ile 30 arasinda 5x6’lik bir matris olusturun."
   ]
  },
  {
   "cell_type": "code",
   "execution_count": 20,
   "metadata": {},
   "outputs": [
    {
     "data": {
      "text/plain": [
       "array([[ 1, 23, 15, 15, 29, 23],\n",
       "       [24, 23, 19, 17,  9, 28],\n",
       "       [24, 20, 20, 12, 17, 20],\n",
       "       [ 7, 21,  6, 21, 16, 27],\n",
       "       [19, 16, 22, 10,  9, 18]])"
      ]
     },
     "execution_count": 20,
     "metadata": {},
     "output_type": "execute_result"
    }
   ],
   "source": [
    "np.random.randint(0,30, (5,6)) "
   ]
  },
  {
   "cell_type": "markdown",
   "metadata": {},
   "source": [
    "9- Kosegenleri 1 olan 10x10’luk bir matris olusturunuz."
   ]
  },
  {
   "cell_type": "code",
   "execution_count": 21,
   "metadata": {},
   "outputs": [
    {
     "data": {
      "text/plain": [
       "array([[1., 0., 0., 0., 0., 0., 0., 0., 0., 0.],\n",
       "       [0., 1., 0., 0., 0., 0., 0., 0., 0., 0.],\n",
       "       [0., 0., 1., 0., 0., 0., 0., 0., 0., 0.],\n",
       "       [0., 0., 0., 1., 0., 0., 0., 0., 0., 0.],\n",
       "       [0., 0., 0., 0., 1., 0., 0., 0., 0., 0.],\n",
       "       [0., 0., 0., 0., 0., 1., 0., 0., 0., 0.],\n",
       "       [0., 0., 0., 0., 0., 0., 1., 0., 0., 0.],\n",
       "       [0., 0., 0., 0., 0., 0., 0., 1., 0., 0.],\n",
       "       [0., 0., 0., 0., 0., 0., 0., 0., 1., 0.],\n",
       "       [0., 0., 0., 0., 0., 0., 0., 0., 0., 1.]])"
      ]
     },
     "execution_count": 21,
     "metadata": {},
     "output_type": "execute_result"
    }
   ],
   "source": [
    "np.eye(10)"
   ]
  },
  {
   "cell_type": "markdown",
   "metadata": {},
   "source": [
    "10- 0 ile 10 arasinda 5x10’lik bir matris olusturun. (integer) ve bu matrisin;\n",
    "\n",
    "eleman sayisini\n",
    "\n",
    "boyut bilgisini/sayisini\n",
    "\n",
    "satir X sutun bilgisini\n",
    "\n",
    "veri tipini numpy metodlariyla yazdiriniz."
   ]
  },
  {
   "cell_type": "code",
   "execution_count": 24,
   "metadata": {},
   "outputs": [
    {
     "name": "stdout",
     "output_type": "stream",
     "text": [
      "Boyut sayisi =   2\n",
      "Satir X Sutun bilgisi =   (5, 10)\n",
      "Toplam eleman sayisi =   50\n",
      "Veri tipi =   int32\n"
     ]
    }
   ],
   "source": [
    "a2=np.random.randint(0,10, (5,10))\n",
    "print(\"Boyut sayisi =  \",a2.ndim) \n",
    "print(\"Satir X Sutun bilgisi =  \",a2.shape) \n",
    "print(\"Toplam eleman sayisi =  \",a2.size)\n",
    "print(\"Veri tipi =  \",a2.dtype)"
   ]
  },
  {
   "cell_type": "markdown",
   "metadata": {},
   "source": [
    "11- 0 ile 10 arasindaki degerlerden olusan 3 adet 4x7’lik bir matris olusturunuz. (3 boyutlu bir matris olusturulacak)"
   ]
  },
  {
   "cell_type": "code",
   "execution_count": 27,
   "metadata": {},
   "outputs": [
    {
     "data": {
      "text/plain": [
       "array([[[2, 4, 3, 9, 2, 6, 7],\n",
       "        [0, 6, 1, 3, 6, 5, 8],\n",
       "        [8, 7, 7, 1, 3, 7, 0],\n",
       "        [8, 4, 5, 7, 1, 2, 0]],\n",
       "\n",
       "       [[0, 5, 2, 2, 9, 8, 4],\n",
       "        [7, 9, 4, 6, 8, 9, 7],\n",
       "        [6, 5, 2, 0, 9, 8, 9],\n",
       "        [7, 1, 9, 4, 2, 4, 4]],\n",
       "\n",
       "       [[5, 1, 0, 8, 8, 3, 1],\n",
       "        [4, 8, 2, 4, 0, 1, 3],\n",
       "        [9, 8, 0, 9, 2, 2, 4],\n",
       "        [1, 0, 1, 6, 8, 6, 4]]])"
      ]
     },
     "execution_count": 27,
     "metadata": {},
     "output_type": "execute_result"
    }
   ],
   "source": [
    "a3=np.random.randint(0,10,(3,4,7))\n",
    "a3"
   ]
  },
  {
   "cell_type": "markdown",
   "metadata": {},
   "source": [
    "12- Bir vektor olusturunuz ve daha sonrasinda ayni vektoru bir matrise ceviriniz. (boyut sayisini degistirin.)"
   ]
  },
  {
   "cell_type": "code",
   "execution_count": 34,
   "metadata": {},
   "outputs": [
    {
     "name": "stdout",
     "output_type": "stream",
     "text": [
      "[0 1 2 3 4 5 6 7 8]\n",
      "[[0 1 2]\n",
      " [3 4 5]\n",
      " [6 7 8]]\n"
     ]
    }
   ],
   "source": [
    "a4= np.arange(0,9)\n",
    "print(a4)\n",
    "a5= a4.reshape(3,3)\n",
    "print(a5)"
   ]
  },
  {
   "cell_type": "markdown",
   "metadata": {},
   "source": [
    "13- 4 tane ayri tek boyutlu array’i birlestirerek bir array olusturunuz."
   ]
  },
  {
   "cell_type": "code",
   "execution_count": 42,
   "metadata": {},
   "outputs": [
    {
     "name": "stdout",
     "output_type": "stream",
     "text": [
      "[0 1 2 3 4 5 6 7 8 9]\n",
      "[10 11 12 13 14 15 16 17 18 19]\n",
      "[20 21 22 23 24 25 26 27 28 29]\n",
      "[30 31 32 33 34 35 36 37 38 39]\n"
     ]
    },
    {
     "data": {
      "text/plain": [
       "array([ 0,  1,  2,  3,  4,  5,  6,  7,  8,  9, 10, 11, 12, 13, 14, 15, 16,\n",
       "       17, 18, 19, 20, 21, 22, 23, 24, 25, 26, 27, 28, 29, 30, 31, 32, 33,\n",
       "       34, 35, 36, 37, 38, 39])"
      ]
     },
     "execution_count": 42,
     "metadata": {},
     "output_type": "execute_result"
    }
   ],
   "source": [
    "x1 = np.arange(0,10)\n",
    "print(x1)\n",
    "y1 = np.arange(10,20)\n",
    "print(y1)\n",
    "z1 = np.arange(20,30)\n",
    "print(z1)\n",
    "z2 = np.arange(30,40)\n",
    "print(z2)\n",
    "\n",
    "z3= np.concatenate([x1,y1,z1,z2])\n",
    "z3"
   ]
  },
  {
   "cell_type": "markdown",
   "metadata": {},
   "source": [
    "14- 2 boyutlu bir vektor ve bir matris olusturun(ayri ayri), bu iki arrayi numpy metodlarini kullanarak sutun bazli birlestiriniz,"
   ]
  },
  {
   "cell_type": "code",
   "execution_count": 55,
   "metadata": {},
   "outputs": [
    {
     "data": {
      "text/plain": [
       "array([[1, 1, 2],\n",
       "       [2, 3, 4]])"
      ]
     },
     "execution_count": 55,
     "metadata": {},
     "output_type": "execute_result"
    }
   ],
   "source": [
    "a5 = np.array([[1], [2]])\n",
    "# print(a5)\n",
    "b5 = np.array([[1,2],\n",
    "              [3,4]])\n",
    "# print(b5)              \n",
    "np.concatenate([a5,b5], axis = 1)"
   ]
  },
  {
   "cell_type": "markdown",
   "metadata": {},
   "source": [
    "15- Numpy’da “axis=1” ve “axis=0” arasinda ne fark vardir. Teorik olarak yaziniz?"
   ]
  },
  {
   "cell_type": "code",
   "execution_count": null,
   "metadata": {},
   "outputs": [],
   "source": [
    "# 1 birlestirme islemini yatay (sutun) olarak yapar  1 sutun, 0 ise dikey (satir) olarak."
   ]
  },
  {
   "cell_type": "markdown",
   "metadata": {},
   "source": [
    "16- Farkli boyutlardaki arraylari satin ve sutun bazli ayri ayri birlestiriniz."
   ]
  },
  {
   "cell_type": "code",
   "execution_count": 84,
   "metadata": {},
   "outputs": [
    {
     "name": "stdout",
     "output_type": "stream",
     "text": [
      "[[1 3 4]\n",
      " [2 5 6]]\n"
     ]
    }
   ],
   "source": [
    "# a6 = np.array([1,2])\n",
    "\n",
    "# b6 = np.array([[3,4], \n",
    "#               [5,6]])\n",
    "\n",
    "# satir1=np.vstack([a6,b6])\n",
    "\n",
    "# print (satir1)\n",
    "\n",
    "\n",
    "a7 = np.array([[1],[2]])\n",
    "\n",
    "b7 = np.array([[3,4],[5,6]])\n",
    "\n",
    "\n",
    "sutun1=np.hstack([a7,b7])\n",
    "\n",
    "print(sutun1)"
   ]
  },
  {
   "cell_type": "markdown",
   "metadata": {},
   "source": [
    "17- 10 elemanli bi liste olusturunuz ve bu listeyi Numpy metodlariyla bolerek(split) 4 ayri array olusturunuz."
   ]
  },
  {
   "cell_type": "code",
   "execution_count": 86,
   "metadata": {},
   "outputs": [
    {
     "name": "stdout",
     "output_type": "stream",
     "text": [
      "[0, 1, 2, 3, 4, 5, 6, 7, 8, 9]\n",
      "[0 1 2] [3 4 5] [6 7 8] [9]\n"
     ]
    }
   ],
   "source": [
    "x = list(range(10))\n",
    "print(x)\n",
    "a,b,c,d= np.split(x, [3,6,9]) \n",
    "print(a,b,c,d)"
   ]
  },
  {
   "cell_type": "markdown",
   "metadata": {},
   "source": [
    "18- Random bir array olusturunuz ve bu arrayi buyukten kucuge dogru siralayiniz.Ve bu siralamadan sonra hangi elemanin hangi indexte oldugunu gosteren bir metod uygulayiniz."
   ]
  },
  {
   "cell_type": "code",
   "execution_count": 104,
   "metadata": {},
   "outputs": [
    {
     "name": "stdout",
     "output_type": "stream",
     "text": [
      "[1 1 3 3 4 4 7 9 9 9]\n",
      "index of 1 : 0\n",
      "index of 1 : 1\n",
      "index of 3 : 2\n",
      "index of 3 : 3\n",
      "index of 4 : 4\n",
      "index of 4 : 5\n",
      "index of 7 : 6\n",
      "index of 9 : 7\n",
      "index of 9 : 8\n",
      "index of 9 : 9\n"
     ]
    }
   ],
   "source": [
    "a8= np.random.randint(0,10,10)\n",
    "a8.sort()\n",
    "print(a8)\n",
    "\n",
    "for i,v in enumerate(a8):\n",
    "   print(\"index of {} : {}\".format(v,i))"
   ]
  },
  {
   "cell_type": "markdown",
   "metadata": {},
   "source": [
    "19- 20 elemanli random bir vektor olusturunuz. Bu vektorun 3. 5. ve 7. elemanlarina ulasin."
   ]
  },
  {
   "cell_type": "code",
   "execution_count": 109,
   "metadata": {},
   "outputs": [
    {
     "name": "stdout",
     "output_type": "stream",
     "text": [
      "[ 7 15 20 10 22 28 19 27  3 29 25 29  9 12 29 25 23 12 14  0]\n",
      "[20 22 19]\n"
     ]
    }
   ],
   "source": [
    "v2= np.random.randint(0,30,20)\n",
    "print(v2)\n",
    "getir=[2,4,6]\n",
    "print(v2[getir])"
   ]
  },
  {
   "cell_type": "markdown",
   "metadata": {},
   "source": [
    "20- 10 elemanli random bir vektor olusturunuz ve bu arrayin 4. elemanini farkli bir sayiyla degistiriniz."
   ]
  },
  {
   "cell_type": "code",
   "execution_count": 112,
   "metadata": {},
   "outputs": [
    {
     "name": "stdout",
     "output_type": "stream",
     "text": [
      "[ 0  4 24  9  4 29  9 17 20  0]\n",
      "[ 0  4 24 16  4 29  9 17 20  0]\n"
     ]
    }
   ],
   "source": [
    "v3= np.random.randint(0,30,10)\n",
    "print(v3)\n",
    "v3[3]=16\n",
    "print(v3)"
   ]
  },
  {
   "cell_type": "markdown",
   "metadata": {},
   "source": [
    "21- “Diagonal Matrix” ve “Trace Matrix” kavramlari hakkinda kucuk bir arastirma yapip bunlarin ne oldugunu belirten kucuk bir aciklama yaziniz."
   ]
  },
  {
   "cell_type": "markdown",
   "metadata": {},
   "source": [
    "\"\"\"Bir kare matriste asal köşegen üzerindeki elemanların dışında kalan tüm elemanlar sıfır ise bu matrise köşegen matris denir. Köşegen_(Diagonal)_Matris_001 matrisi 3×3 türünde köşegen matristir.\"\"\"\n",
    "\n",
    "\"\"\"BİR MATRİSİN İZİ(TRACE)\n",
    "\n",
    "Bir kare matrisinin kosegen elemanlarınin toplamına da A nın izi denir.\"\"\"\n"
   ]
  },
  {
   "cell_type": "markdown",
   "metadata": {},
   "source": [
    "22- 5x5’lik Diagonal bir matris olusturunuz ve Diagonaline denk gelen indexlere ulasiniz.(ayri ayri)"
   ]
  },
  {
   "cell_type": "code",
   "execution_count": 133,
   "metadata": {},
   "outputs": [
    {
     "name": "stdout",
     "output_type": "stream",
     "text": [
      "[[1. 0. 0. 0. 0.]\n",
      " [0. 1. 0. 0. 0.]\n",
      " [0. 0. 1. 0. 0.]\n",
      " [0. 0. 0. 1. 0.]\n",
      " [0. 0. 0. 0. 1.]]\n",
      "################\n",
      "m[0,0] is 1.0\n",
      "m[1,1] is 1.0\n",
      "m[2,2] is 1.0\n",
      "m[3,3] is 1.0\n",
      "m[4,4] is 1.0\n"
     ]
    }
   ],
   "source": [
    "d= np.eye(5)\n",
    "print(d)\n",
    "print(\"################\")\n",
    "for i in range(len(d)):\n",
    "    print(\"m[{},{}] is {}\".format(i,i,d[i,i]))\n",
    "        "
   ]
  },
  {
   "cell_type": "markdown",
   "metadata": {},
   "source": [
    "23- 10 ile 20 arasinda bir vektor olusturunuz. Ve 3. indexten son indexe kadar olan degerleri yazdiriniz."
   ]
  },
  {
   "cell_type": "code",
   "execution_count": 139,
   "metadata": {},
   "outputs": [
    {
     "name": "stdout",
     "output_type": "stream",
     "text": [
      "[10 11 12 13 14 15 16 17 18 19]\n",
      "[12 13 14 15 16 17 18]\n"
     ]
    }
   ],
   "source": [
    "v4= np.arange(10,20)\n",
    "print(v4)\n",
    "print(v4[2:-1])"
   ]
  },
  {
   "cell_type": "markdown",
   "metadata": {},
   "source": [
    "24- 10X10 luk bir matris olusturunuz ve ;\n",
    "satir ve 5.sutuna ulasiniz.\n",
    "\n",
    "sutunun tum satirlarina ulasiniz.\n",
    "\n",
    "Tum sutunlarin 2.satirlarina ulasiniz.\n",
    "\n",
    "tum sutunlarin 2 ile 7 arasindaki satirlarina ulasiniz.\n",
    "\n",
    "satir indexi 2’den 5’e ve sutun indexi 3 den 7’ye kadar olan degerlere ulasiniz.\n",
    "\n",
    "satir indexi 5’den en sona ve sutun indexi en bastan 4’e kadar olan degerlere ulasiniz.\n",
    "\n",
    "sutun indexi sadece 3, 6,9 olan kolonlarin(sutunlarin), tum satirlarina ulasiniz.\n",
    "\n",
    "indexli satir ve 5.indexli sutuna denk gelen degeri, dogum yilinizla degistiriniz."
   ]
  },
  {
   "cell_type": "code",
   "execution_count": 28,
   "metadata": {},
   "outputs": [
    {
     "name": "stdout",
     "output_type": "stream",
     "text": [
      "[[44 21 42 77 25 37 63 59 33 72]\n",
      " [57 64 68 90  2 54 49 71 80 95]\n",
      " [12 82 93 94 16 80 21 99 57 13]\n",
      " [96 77 42 94 21 81 58 95 16  8]\n",
      " [77  3 45 58 25 90 22 47 88 26]\n",
      " [81 28 87 28 38 68 78 75 34 64]\n",
      " [26 42 32 52 17 89  2 14 70 29]\n",
      " [95 82 89 33 85 58 23 65 16  5]\n",
      " [49 41  7 58 81 75 19 92 57 12]\n",
      " [94 15 21 51 26 10 30 75 43 28]]\n",
      "    ########################\n",
      "16\n",
      "    ########################\n",
      "[25  2 16 21 25 38 17 85 81 26]\n",
      "    ########################\n",
      "[57 64 68 90  2 54 49 71 80 95]\n",
      "    ########################\n",
      "[[12 82 93 94 16 80 21 99 57 13]\n",
      " [96 77 42 94 21 81 58 95 16  8]\n",
      " [77  3 45 58 25 90 22 47 88 26]\n",
      " [81 28 87 28 38 68 78 75 34 64]]\n",
      "    ########################\n",
      "[[94 16 80 21]\n",
      " [94 21 81 58]\n",
      " [58 25 90 22]]\n",
      "    ########################\n",
      "[[81 28 87 28]\n",
      " [26 42 32 52]\n",
      " [95 82 89 33]\n",
      " [49 41  7 58]\n",
      " [94 15 21 51]]\n",
      "    ########################\n",
      "[[77 63 72]\n",
      " [90 49 95]\n",
      " [94 21 13]\n",
      " [94 58  8]\n",
      " [58 22 26]\n",
      " [28 78 64]\n",
      " [52  2 29]\n",
      " [33 23  5]\n",
      " [58 19 12]\n",
      " [51 30 28]]\n",
      "    ########################\n",
      "68\n",
      "    ########################\n",
      "1985\n"
     ]
    }
   ],
   "source": [
    "m1= np.random.randint(100, size = (10, 10))\n",
    "print(m1)\n",
    "print('    ########################')\n",
    "\n",
    "print(m1[2,4]) # 3. satir ve 5.sutuna ulasiniz.\n",
    "print('    ########################')\n",
    "print(m1[:,4]) # sutunun tum satirlarina ulasiniz.\n",
    "print('    ########################')\n",
    "print(m1[1,:]) # Tum sutunlarin 2.satirlarina ulasiniz.\n",
    "print('    ########################')\n",
    "print(m1[2:6,:]) # Tum sutunlarin 2 ile 7 arasindaki satirlarina ulasiniz.\n",
    "print('    ########################')\n",
    "print(m1[2:5,3:7]) # Satir indexi 2’den 5’e ve sutun indexi 3 den 7’ye kadar olan degerlere ulasiniz.\n",
    "print('    ########################')\n",
    "print(m1[5:,:4]) # Satir indexi 5’den en sona ve sutun indexi en bastan 4’e kadar olan degerlere ulasiniz.\n",
    "print('    ########################')\n",
    "print(m1[:,(3,6,9)]) # Sutun indexi sadece 3, 6,9 olan kolonlarin(sutunlarin), tum satirlarina ulasiniz.\n",
    "print('    ########################')\n",
    "print(m1[5,5]) # 5. indexli satir ve 5.indexli sutuna denk gelen degeri, dogum yilinizla degistiriniz.\n",
    "m1[1,5]=1985\n",
    "print('    ########################')\n",
    "print(m1[1,5])\n"
   ]
  },
  {
   "cell_type": "markdown",
   "metadata": {},
   "source": [
    "25- 0’dan 50’ye kadar 5’er 5’er atlayarak giden bir array olusturunuz(tek boyutlu) ve numpy metodlariyla asagidaki islemleri uygulayin;\n",
    "\n",
    "20 den buyuk olan kac deger var.\n",
    "\n",
    "30’dan kucuk kac deger var\n",
    "\n",
    "icerisinde 33 gecen kac deger var\n",
    "\n",
    "olusturulan arrayin tum elemanlarini 5 ile carpin.\n",
    "\n",
    "olusturulan arrayin tum elemanlarinin 2 ile bolumunden kalanlari yazdiriniz.\n",
    "\n",
    "olustural arrayin icerisinde, sadece sutunlara bakarak her bir sutunu toplayin ve toplami 30 dan buyuk kac sutun var\n",
    "\n",
    "olustural arrayin icerisinde, sadece satirlara bakarak her bir satiri toplayin ve toplami 30 dan buyuk kac satir var."
   ]
  },
  {
   "cell_type": "code",
   "execution_count": 29,
   "metadata": {},
   "outputs": [
    {
     "name": "stdout",
     "output_type": "stream",
     "text": [
      "[ 0  5 10 15 20 25 30 35 40 45]\n",
      "   ************************\n",
      "5\n",
      "   ************************\n",
      "6\n",
      "   ************************\n",
      "0\n",
      "   ************************\n",
      "[  0  25  50  75 100 125 150 175 200 225]\n",
      "   ************************\n",
      "[0 1 0 1 0 1 0 1 0 1]\n"
     ]
    }
   ],
   "source": [
    "arr1=np.arange(0,50,5)\n",
    "print(arr1)\n",
    "print(\"   ************************\")\n",
    "print(np.sum(arr1 > 20)) # 20 den buyuk olan kac deger var.\n",
    "\n",
    "print(\"   ************************\")\n",
    "print(np.sum(arr1 < 30)) # 30’dan kucuk kac deger var.\n",
    "\n",
    "print(\"   ************************\")\n",
    "print(np.sum(arr1 == 33)) # icerisinde 33 gecen kac deger var.\n",
    "\n",
    "print(\"   ************************\")\n",
    "print(arr1 * 5) # olusturulan arrayin tum elemanlarini 5 ile carpin.\n",
    "\n",
    "print(\"   ************************\")\n",
    "print(arr1 % 2) # olusturulan arrayin tum elemanlarinin 2 ile bolumunden kalanlari yazdiriniz."
   ]
  },
  {
   "cell_type": "markdown",
   "metadata": {},
   "source": [
    "26- 0 ile 1 arasinda 50 elamanli bir array olusturunuz ve;\n",
    "\n",
    "orlamasini aliniz.\n",
    "\n",
    "standart sapmasini aliniz.\n",
    "\n",
    "varyansini aliniz.\n",
    "\n",
    "median’ini aliniz.\n",
    "\n",
    "en kucuk degeri bulunuz.\n",
    "\n",
    "en buyuk degeri bulunuz."
   ]
  },
  {
   "cell_type": "code",
   "execution_count": 41,
   "metadata": {},
   "outputs": [
    {
     "name": "stdout",
     "output_type": "stream",
     "text": [
      "[0.         0.02040816 0.04081633 0.06122449 0.08163265 0.10204082\n",
      " 0.12244898 0.14285714 0.16326531 0.18367347 0.20408163 0.2244898\n",
      " 0.24489796 0.26530612 0.28571429 0.30612245 0.32653061 0.34693878\n",
      " 0.36734694 0.3877551  0.40816327 0.42857143 0.44897959 0.46938776\n",
      " 0.48979592 0.51020408 0.53061224 0.55102041 0.57142857 0.59183673\n",
      " 0.6122449  0.63265306 0.65306122 0.67346939 0.69387755 0.71428571\n",
      " 0.73469388 0.75510204 0.7755102  0.79591837 0.81632653 0.83673469\n",
      " 0.85714286 0.87755102 0.89795918 0.91836735 0.93877551 0.95918367\n",
      " 0.97959184 1.        ]\n",
      "  ---------------------------\n",
      "Mean: 0.5\n",
      "  ---------------------------\n",
      "Std: 0.2945075446869757\n",
      "  ---------------------------\n",
      "Var: 0.086734693877551\n",
      "  ---------------------------\n",
      "Median: 0.5\n",
      "  ---------------------------\n",
      "Max: 1.0\n",
      "  ---------------------------\n",
      "Min: 0.0\n"
     ]
    }
   ],
   "source": [
    "ar2 = np.linspace(0,1,50)\n",
    "print(ar2)\n",
    "\n",
    "print(\"  ---------------------------\")\n",
    "print(\"Mean: {}\".format(np.mean(ar2)))\n",
    "\n",
    "print(\"  ---------------------------\")\n",
    "print(\"Std: {}\".format(np.std(ar2)))\n",
    "\n",
    "print(\"  ---------------------------\")\n",
    "print(\"Var: {}\".format(np.var(ar2)))\n",
    "\n",
    "print(\"  ---------------------------\")\n",
    "print(\"Median: {}\".format(np.median(ar2)))\n",
    "\n",
    "print(\"  ---------------------------\")\n",
    "print(\"Max: {}\".format(np.max(ar2)))\n",
    "\n",
    "print(\"  ---------------------------\")\n",
    "print(\"Min: {}\".format(np.min(ar2)))"
   ]
  },
  {
   "cell_type": "markdown",
   "metadata": {},
   "source": [
    "27- Pandas seriler ve numpy arrayler arasindaki farklar nelerdir yaziniz."
   ]
  },
  {
   "cell_type": "code",
   "execution_count": 42,
   "metadata": {},
   "outputs": [
    {
     "data": {
      "text/plain": [
       "'\\n# Pandas seriler, numpy array ler gibi homojen olmak zorunda degil. \\nFarkli data turlerini de bir serinin icinde gorebiliyor ve isleyebiliyoruz.\\n\\n# Pandas seriler tek boyutlu, fakat numpy arrayleri cok boyutlu da olabiliyorlar.\\n\\n# Pandas series yapisinda her bir verinin, sozluk yapisina benzer sekilde label ya da index gibi bir elemani var\\n'"
      ]
     },
     "execution_count": 42,
     "metadata": {},
     "output_type": "execute_result"
    }
   ],
   "source": [
    "\"\"\"\n",
    "# Pandas seriler, numpy array ler gibi homojen olmak zorunda degil. \n",
    "Farkli data turlerini de bir serinin icinde gorebiliyor ve isleyebiliyoruz.\n",
    "\n",
    "# Pandas seriler tek boyutlu, fakat numpy arrayleri cok boyutlu da olabiliyorlar.\n",
    "\n",
    "# Pandas series yapisinda her bir verinin, sozluk yapisina benzer sekilde label ya da index gibi bir elemani var\n",
    "\"\"\""
   ]
  },
  {
   "cell_type": "markdown",
   "metadata": {},
   "source": [
    "28- Indexi buyuk harflerden olusan, icinde farkli veri tipleri bulunan 5 elemanli bir seri olusturunuz."
   ]
  },
  {
   "cell_type": "code",
   "execution_count": 43,
   "metadata": {},
   "outputs": [
    {
     "name": "stdout",
     "output_type": "stream",
     "text": [
      "A     Ali\n",
      "B       1\n",
      "C     0.5\n",
      "D    None\n",
      "E        \n",
      "dtype: object\n"
     ]
    }
   ],
   "source": [
    "import pandas as pd\n",
    "\n",
    "seri1 = pd.Series([\"Ali\",1,0.5,None,\" \"], index = ('A','B','C','D','E'))\n",
    "print(seri1)\n"
   ]
  },
  {
   "cell_type": "markdown",
   "metadata": {},
   "source": [
    "29- Key’ler ulke adlari, value’lar baskentleri olacak sekilde 5 elemanli bir sozluk olusturup onu seriye ceviriniz. (ornek: fransa:paris)"
   ]
  },
  {
   "cell_type": "code",
   "execution_count": 46,
   "metadata": {},
   "outputs": [
    {
     "name": "stdout",
     "output_type": "stream",
     "text": [
      "Hollanda      Amsterdam\n",
      "Fransa            Paris\n",
      "Italya             Roma\n",
      "Yunanistan        Atina\n",
      "Cin               Pekin\n",
      "dtype: object\n"
     ]
    }
   ],
   "source": [
    "dict1 = {\"Hollanda\":'Amsterdam', \"Fransa\":'Paris', \"Italya\":'Roma', \"Yunanistan\":'Atina', \"Cin\":'Pekin'}\n",
    "\n",
    "seri2 = pd.Series(dict1)  #sozlugu seriye cevirdik\n",
    "print(seri2)"
   ]
  },
  {
   "cell_type": "markdown",
   "metadata": {},
   "source": [
    "30- 10 elemanli random bir vektor olusturun.\n",
    "\n",
    "Vektoru seriye cevirip indexleri str olarak belirleyin. (ornek: a,b,c,d,e,f,g.. seklinde)\n",
    "\n",
    "Index ismine gore serinin 3. elemanina ulasin. (ornek: c indexine karsilik gelen deger)\n",
    "\n",
    "Serinin index sirasina gore 1. Elamanina ulasin.\n",
    "\n",
    "Index ismine gore serinin 2. Ve 7. Elemanlarina ayni anda ulasin. (Ornek: b ve g indexine karsilik gelen degerler)\n",
    "\n",
    "Index ismi ile serinin 2. Ve 7. Elemanlari arasindaki degerleri yazdirin. (Ornek: b,c,d,e,f,g indexlerine karsilik gelen degerler)\n",
    "\n",
    "Index sirasiyla serinin 4. indexinden son indexine kadar olan degerleri yazdirin.\n",
    "\n",
    "2 adet 5 elemanli seri olusturun.\n",
    "\n",
    "Olusturdugunuz serileri birlestirin.\n",
    "\n",
    "Birlesen 10 elemanli serinin indexini 1’den 10’a kadar olacak sekilde duzenleyin.\n",
    "\n",
    "Indexini duzenlediginiz seride, loc ve iloc metodlari ile, indexi 4,5,6 olan degerlere ulasin."
   ]
  },
  {
   "cell_type": "code",
   "execution_count": 67,
   "metadata": {},
   "outputs": [
    {
     "name": "stdout",
     "output_type": "stream",
     "text": [
      "[ 4 19  2 18 17 13  8  6  0  2]\n",
      "   ---------------------\n",
      "A     4\n",
      "B    19\n",
      "C     2\n",
      "D    18\n",
      "E    17\n",
      "F    13\n",
      "G     8\n",
      "H     6\n",
      "I     0\n",
      "J     2\n",
      "dtype: int32\n",
      "   ---------------------\n",
      "2\n",
      "   ---------------------\n",
      "19\n",
      "   ---------------------\n",
      "B    19\n",
      "G     8\n",
      "dtype: int32\n",
      "   ---------------------\n",
      "B    19\n",
      "C     2\n",
      "D    18\n",
      "E    17\n",
      "F    13\n",
      "G     8\n",
      "dtype: int32\n",
      "   ---------------------\n",
      "D    18\n",
      "E    17\n",
      "F    13\n",
      "G     8\n",
      "H     6\n",
      "I     0\n",
      "J     2\n",
      "dtype: int32\n",
      "   ---------------------\n",
      "0     1\n",
      "1     2\n",
      "2     3\n",
      "3     4\n",
      "4     5\n",
      "0     6\n",
      "1     7\n",
      "2     8\n",
      "3     9\n",
      "4    10\n",
      "dtype: int64\n",
      "   ---------------------\n",
      "0     1\n",
      "1     2\n",
      "2     3\n",
      "3     4\n",
      "4     5\n",
      "5     6\n",
      "6     7\n",
      "7     8\n",
      "8     9\n",
      "9    10\n",
      "dtype: int64\n",
      "   ---------------------\n",
      "4    5\n",
      "5    6\n",
      "6    7\n",
      "dtype: int64\n",
      "   ---------------------\n",
      "4    5\n",
      "5    6\n",
      "dtype: int64\n"
     ]
    }
   ],
   "source": [
    "v11=np.random.randint(0,20,10)\n",
    "print(v11)\n",
    "print(\"   ---------------------\")\n",
    "\n",
    "seri3 = pd.Series(v11, index = ('A','B','C','D','E','F','G','H','I','J'))\n",
    "print(seri3)\n",
    "print(\"   ---------------------\")\n",
    "\n",
    "print(seri3[\"C\"])\n",
    "print(\"   ---------------------\")\n",
    "\n",
    "print(seri3[1])\n",
    "print(\"   ---------------------\")\n",
    "\n",
    "print(seri3[[\"B\",\"G\"]])\n",
    "print(\"   ---------------------\")\n",
    "\n",
    "print(seri3[\"B\":\"G\"])\n",
    "print(\"   ---------------------\")\n",
    "\n",
    "print(seri3[\"D\"::])\n",
    "print(\"   ---------------------\")\n",
    "\n",
    "seri4 = pd.Series([1,2,3,4,5]) # 2 adet 5 elemanli seri olusturun.\n",
    "seri5 = pd.Series([6,7,8,9,10])\n",
    "\n",
    "seri6 = pd.concat([seri4, seri5]) \n",
    "print(seri6)\n",
    "print(\"   ---------------------\")\n",
    "\n",
    "seri7 = pd.concat([seri4, seri5], ignore_index=True) \n",
    "print(seri7)\n",
    "print(\"   ---------------------\")\n",
    "\n",
    "print(seri7.loc['4':'6'])\n",
    "print(\"   ---------------------\")\n",
    "print(seri7.iloc[4:6])\n"
   ]
  },
  {
   "cell_type": "markdown",
   "metadata": {},
   "source": [
    "# Master odev ;\n",
    "Bir dongu icerisinde random olacak sekilde iki tane 20x20’luk matris uretin ve bu matrislerin farklarini alin. Ve fark matrisinin diagonali, -0.1 ile 0.1 arasinda olana kadar bu islemi tekrarlayin. Istenilen matris bulundugunda program dursun ve toplam kac dongunun kuruldugunu, ne kadar sure icinde buldugunu ve istenilen matrisi print ile birlikte ekrana yazdiriniz... Tavsiye: 20 x 20 luk matrisin bulunmasi saatler surebilir. Bu yuzden algoritmanizin dogrulugunu test etmek icin once 4x4, 5x5 gibi kucuk matrislerde deneyebilirsiniz. Ve matris sayisisini arttirarak en son 20x20 u deneyebilirsiniz."
   ]
  },
  {
   "cell_type": "code",
   "execution_count": 100,
   "metadata": {},
   "outputs": [
    {
     "name": "stdout",
     "output_type": "stream",
     "text": [
      "[-0.05318667 -0.07569373  0.0237268  -0.05002649]\n",
      "0.0060002803802490234 280\n"
     ]
    }
   ],
   "source": [
    "import time\n",
    "n=0\n",
    "t1=time.time()\n",
    "\n",
    "while True:\n",
    "    n+=1\n",
    "    m1 = np.random.rand(20,20)\n",
    "    m2 = np.random.rand(20,20)\n",
    "    d = np.diag(m1-m2)\n",
    "    ok = True\n",
    "    for v in d:\n",
    "        if v > 0.1 or v < -0.1:\n",
    "            ok = False\n",
    "            break\n",
    "    if ok:\n",
    "        print(d)\n",
    "        break\n",
    "\n",
    "\n",
    "t2=time.time()\n",
    "duration = t2-t1\n",
    "print(duration, n)"
   ]
  },
  {
   "cell_type": "code",
   "execution_count": null,
   "metadata": {},
   "outputs": [],
   "source": []
  }
 ],
 "metadata": {
  "kernelspec": {
   "display_name": "Python 3",
   "language": "python",
   "name": "python3"
  },
  "language_info": {
   "codemirror_mode": {
    "name": "ipython",
    "version": 3
   },
   "file_extension": ".py",
   "mimetype": "text/x-python",
   "name": "python",
   "nbconvert_exporter": "python",
   "pygments_lexer": "ipython3",
   "version": "3.8.5"
  }
 },
 "nbformat": 4,
 "nbformat_minor": 4
}
