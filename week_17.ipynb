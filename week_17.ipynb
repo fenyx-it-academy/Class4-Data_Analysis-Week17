{
 "cells": [
  {
   "cell_type": "markdown",
   "id": "70cef247",
   "metadata": {},
   "source": [
    "1.\tNumpy’da Vektor ve Matrisin farkini tek cumle ile ifade ediniz."
   ]
  },
  {
   "cell_type": "raw",
   "id": "f246689f",
   "metadata": {},
   "source": [
    "Numpy arrayleri tek boyutlu ise vektor, cok boyutlu ise matris olarak adlandirilir."
   ]
  },
  {
   "cell_type": "markdown",
   "id": "7eaacea0",
   "metadata": {},
   "source": [
    "2.\t10 elemanli bir listeden NumPy Array’i olusturunuz."
   ]
  },
  {
   "cell_type": "code",
   "execution_count": 5,
   "id": "1907671c",
   "metadata": {},
   "outputs": [
    {
     "data": {
      "text/plain": [
       "[0, 1, 2, 3, 4, 5, 6, 7, 8, 9]"
      ]
     },
     "execution_count": 5,
     "metadata": {},
     "output_type": "execute_result"
    }
   ],
   "source": [
    "liste=list(range(10))\n",
    "liste"
   ]
  },
  {
   "cell_type": "code",
   "execution_count": 4,
   "id": "579e9c0b",
   "metadata": {},
   "outputs": [
    {
     "data": {
      "text/plain": [
       "array([0, 1, 2, 3, 4, 5, 6, 7, 8, 9])"
      ]
     },
     "execution_count": 4,
     "metadata": {},
     "output_type": "execute_result"
    }
   ],
   "source": [
    "import numpy as np\n",
    "np.array(liste)"
   ]
  },
  {
   "cell_type": "markdown",
   "id": "4eeb7cbe",
   "metadata": {},
   "source": [
    "3.\tIcerisinde ‘0’ lar olan, ve veri tipi integer olan 10X10’luk bir matris olusturunuz."
   ]
  },
  {
   "cell_type": "code",
   "execution_count": 8,
   "id": "06207957",
   "metadata": {},
   "outputs": [
    {
     "data": {
      "text/plain": [
       "array([[0, 0, 0, 0, 0, 0, 0, 0, 0, 0],\n",
       "       [0, 0, 0, 0, 0, 0, 0, 0, 0, 0],\n",
       "       [0, 0, 0, 0, 0, 0, 0, 0, 0, 0],\n",
       "       [0, 0, 0, 0, 0, 0, 0, 0, 0, 0],\n",
       "       [0, 0, 0, 0, 0, 0, 0, 0, 0, 0],\n",
       "       [0, 0, 0, 0, 0, 0, 0, 0, 0, 0],\n",
       "       [0, 0, 0, 0, 0, 0, 0, 0, 0, 0],\n",
       "       [0, 0, 0, 0, 0, 0, 0, 0, 0, 0],\n",
       "       [0, 0, 0, 0, 0, 0, 0, 0, 0, 0],\n",
       "       [0, 0, 0, 0, 0, 0, 0, 0, 0, 0]])"
      ]
     },
     "execution_count": 8,
     "metadata": {},
     "output_type": "execute_result"
    }
   ],
   "source": [
    "np.zeros((10,10), dtype='int')"
   ]
  },
  {
   "cell_type": "markdown",
   "id": "bb0c84ce",
   "metadata": {},
   "source": [
    "4.\tIcerisinde ‘1’ ler olan, veri tipi float olan 10X10’luk bir matris olusturunuz."
   ]
  },
  {
   "cell_type": "code",
   "execution_count": 9,
   "id": "2ec4e18b",
   "metadata": {},
   "outputs": [
    {
     "data": {
      "text/plain": [
       "array([[1., 1., 1., 1., 1., 1., 1., 1., 1., 1.],\n",
       "       [1., 1., 1., 1., 1., 1., 1., 1., 1., 1.],\n",
       "       [1., 1., 1., 1., 1., 1., 1., 1., 1., 1.],\n",
       "       [1., 1., 1., 1., 1., 1., 1., 1., 1., 1.],\n",
       "       [1., 1., 1., 1., 1., 1., 1., 1., 1., 1.],\n",
       "       [1., 1., 1., 1., 1., 1., 1., 1., 1., 1.],\n",
       "       [1., 1., 1., 1., 1., 1., 1., 1., 1., 1.],\n",
       "       [1., 1., 1., 1., 1., 1., 1., 1., 1., 1.],\n",
       "       [1., 1., 1., 1., 1., 1., 1., 1., 1., 1.],\n",
       "       [1., 1., 1., 1., 1., 1., 1., 1., 1., 1.]])"
      ]
     },
     "execution_count": 9,
     "metadata": {},
     "output_type": "execute_result"
    }
   ],
   "source": [
    "np.ones((10,10),dtype='float')"
   ]
  },
  {
   "cell_type": "markdown",
   "id": "2f2895e6",
   "metadata": {},
   "source": [
    "5.\tIcerisinde ‘9’ lar olan, veri tipi integer olan 10X10’luk bir matris olusturunuz."
   ]
  },
  {
   "cell_type": "code",
   "execution_count": 12,
   "id": "cb98187f",
   "metadata": {},
   "outputs": [
    {
     "data": {
      "text/plain": [
       "array([[9, 9, 9, 9, 9, 9, 9, 9, 9, 9],\n",
       "       [9, 9, 9, 9, 9, 9, 9, 9, 9, 9],\n",
       "       [9, 9, 9, 9, 9, 9, 9, 9, 9, 9],\n",
       "       [9, 9, 9, 9, 9, 9, 9, 9, 9, 9],\n",
       "       [9, 9, 9, 9, 9, 9, 9, 9, 9, 9],\n",
       "       [9, 9, 9, 9, 9, 9, 9, 9, 9, 9],\n",
       "       [9, 9, 9, 9, 9, 9, 9, 9, 9, 9],\n",
       "       [9, 9, 9, 9, 9, 9, 9, 9, 9, 9],\n",
       "       [9, 9, 9, 9, 9, 9, 9, 9, 9, 9],\n",
       "       [9, 9, 9, 9, 9, 9, 9, 9, 9, 9]])"
      ]
     },
     "execution_count": 12,
     "metadata": {},
     "output_type": "execute_result"
    }
   ],
   "source": [
    "np.full((10,10),9,dtype='int')"
   ]
  },
  {
   "cell_type": "markdown",
   "id": "0c00da64",
   "metadata": {},
   "source": [
    "6.\t5 ile 25 arasinda, 3’er 3’er atlayan tek boyutlu bir Array olusturunuz."
   ]
  },
  {
   "cell_type": "code",
   "execution_count": 14,
   "id": "ce18cea4",
   "metadata": {},
   "outputs": [
    {
     "data": {
      "text/plain": [
       "array([ 6,  9, 12, 15, 18, 21, 24])"
      ]
     },
     "execution_count": 14,
     "metadata": {},
     "output_type": "execute_result"
    }
   ],
   "source": [
    "np.arange(6,25,3)"
   ]
  },
  {
   "cell_type": "markdown",
   "id": "60ca2bcf",
   "metadata": {},
   "source": [
    "7.\t-1 ile 1 arasinda 30 adet Array olusturunuz."
   ]
  },
  {
   "cell_type": "code",
   "execution_count": 15,
   "id": "3bc46dc2",
   "metadata": {},
   "outputs": [
    {
     "data": {
      "text/plain": [
       "array([-1.        , -0.93103448, -0.86206897, -0.79310345, -0.72413793,\n",
       "       -0.65517241, -0.5862069 , -0.51724138, -0.44827586, -0.37931034,\n",
       "       -0.31034483, -0.24137931, -0.17241379, -0.10344828, -0.03448276,\n",
       "        0.03448276,  0.10344828,  0.17241379,  0.24137931,  0.31034483,\n",
       "        0.37931034,  0.44827586,  0.51724138,  0.5862069 ,  0.65517241,\n",
       "        0.72413793,  0.79310345,  0.86206897,  0.93103448,  1.        ])"
      ]
     },
     "execution_count": 15,
     "metadata": {},
     "output_type": "execute_result"
    }
   ],
   "source": [
    "np.linspace(-1,1,30)"
   ]
  },
  {
   "cell_type": "markdown",
   "id": "98b7549d",
   "metadata": {},
   "source": [
    "8.\t0 ile 30 arasinda 5x6’lik bir matris olusturun."
   ]
  },
  {
   "cell_type": "code",
   "execution_count": 17,
   "id": "84ad83e0",
   "metadata": {},
   "outputs": [
    {
     "data": {
      "text/plain": [
       "array([[ 0,  1,  2,  3,  4,  5],\n",
       "       [ 6,  7,  8,  9, 10, 11],\n",
       "       [12, 13, 14, 15, 16, 17],\n",
       "       [18, 19, 20, 21, 22, 23],\n",
       "       [24, 25, 26, 27, 28, 29]])"
      ]
     },
     "execution_count": 17,
     "metadata": {},
     "output_type": "execute_result"
    }
   ],
   "source": [
    "np.arange(0,30).reshape(5,6)"
   ]
  },
  {
   "cell_type": "markdown",
   "id": "0a23ead4",
   "metadata": {},
   "source": [
    "9.\tKosegenleri 1 olan 10x10’luk bir matris olusturunuz. "
   ]
  },
  {
   "cell_type": "code",
   "execution_count": 18,
   "id": "8edefd88",
   "metadata": {},
   "outputs": [
    {
     "data": {
      "text/plain": [
       "array([[1., 0., 0., 0., 0., 0., 0., 0., 0., 0.],\n",
       "       [0., 1., 0., 0., 0., 0., 0., 0., 0., 0.],\n",
       "       [0., 0., 1., 0., 0., 0., 0., 0., 0., 0.],\n",
       "       [0., 0., 0., 1., 0., 0., 0., 0., 0., 0.],\n",
       "       [0., 0., 0., 0., 1., 0., 0., 0., 0., 0.],\n",
       "       [0., 0., 0., 0., 0., 1., 0., 0., 0., 0.],\n",
       "       [0., 0., 0., 0., 0., 0., 1., 0., 0., 0.],\n",
       "       [0., 0., 0., 0., 0., 0., 0., 1., 0., 0.],\n",
       "       [0., 0., 0., 0., 0., 0., 0., 0., 1., 0.],\n",
       "       [0., 0., 0., 0., 0., 0., 0., 0., 0., 1.]])"
      ]
     },
     "execution_count": 18,
     "metadata": {},
     "output_type": "execute_result"
    }
   ],
   "source": [
    "np.eye(10)"
   ]
  },
  {
   "cell_type": "markdown",
   "id": "08c318c3",
   "metadata": {},
   "source": [
    "10.\t0 ile 10 arasinda 5x10’lik bir matris olusturun. (integer) ve bu matrisin;\n",
    "  * eleman sayisini\n",
    "  * boyut bilgisini/sayisini\n",
    "  * satir X sutun bilgisini\n",
    "  * veri tipini numpy metodlariyla yazdiriniz."
   ]
  },
  {
   "cell_type": "code",
   "execution_count": 43,
   "id": "3958f67c",
   "metadata": {},
   "outputs": [
    {
     "data": {
      "text/plain": [
       "array([[8, 6, 3, 1, 2, 9, 1, 5, 6, 7],\n",
       "       [8, 5, 4, 8, 7, 0, 9, 3, 6, 6],\n",
       "       [8, 6, 3, 9, 8, 2, 4, 0, 5, 0],\n",
       "       [5, 7, 0, 9, 5, 2, 4, 0, 6, 9],\n",
       "       [4, 8, 6, 9, 3, 1, 1, 6, 9, 4]])"
      ]
     },
     "execution_count": 43,
     "metadata": {},
     "output_type": "execute_result"
    }
   ],
   "source": [
    "arr = np.random.randint(0, 10,50).reshape(5,10)\n",
    "arr"
   ]
  },
  {
   "cell_type": "code",
   "execution_count": 32,
   "id": "6430282b",
   "metadata": {},
   "outputs": [
    {
     "data": {
      "text/plain": [
       "50"
      ]
     },
     "execution_count": 32,
     "metadata": {},
     "output_type": "execute_result"
    }
   ],
   "source": [
    "arr.size"
   ]
  },
  {
   "cell_type": "code",
   "execution_count": 44,
   "id": "6419f838",
   "metadata": {},
   "outputs": [
    {
     "data": {
      "text/plain": [
       "2"
      ]
     },
     "execution_count": 44,
     "metadata": {},
     "output_type": "execute_result"
    }
   ],
   "source": [
    "arr.ndim"
   ]
  },
  {
   "cell_type": "code",
   "execution_count": 31,
   "id": "11d8b262",
   "metadata": {},
   "outputs": [
    {
     "data": {
      "text/plain": [
       "(5, 10)"
      ]
     },
     "execution_count": 31,
     "metadata": {},
     "output_type": "execute_result"
    }
   ],
   "source": [
    "arr.shape"
   ]
  },
  {
   "cell_type": "code",
   "execution_count": 35,
   "id": "a89071fd",
   "metadata": {},
   "outputs": [
    {
     "data": {
      "text/plain": [
       "dtype('int32')"
      ]
     },
     "execution_count": 35,
     "metadata": {},
     "output_type": "execute_result"
    }
   ],
   "source": [
    "arr.dtype"
   ]
  },
  {
   "cell_type": "markdown",
   "id": "b6be247a",
   "metadata": {},
   "source": [
    "11.\t0 ile 10 arasindaki degerlerden olusan 3 adet 4x7’lik bir matris olusturunuz. (3 boyutlu bir matris olusturulacak) "
   ]
  },
  {
   "cell_type": "code",
   "execution_count": 36,
   "id": "03cfba69",
   "metadata": {},
   "outputs": [
    {
     "data": {
      "text/plain": [
       "array([[[1, 1, 7, 9, 2, 7, 9],\n",
       "        [4, 1, 0, 3, 3, 2, 6],\n",
       "        [5, 0, 3, 9, 9, 9, 5],\n",
       "        [6, 7, 3, 7, 0, 1, 7]],\n",
       "\n",
       "       [[3, 1, 2, 4, 2, 3, 1],\n",
       "        [6, 8, 8, 0, 8, 6, 3],\n",
       "        [7, 6, 4, 4, 1, 2, 2],\n",
       "        [0, 3, 0, 5, 1, 7, 7]],\n",
       "\n",
       "       [[4, 4, 4, 4, 1, 4, 9],\n",
       "        [5, 9, 8, 7, 1, 8, 9],\n",
       "        [4, 1, 9, 9, 0, 6, 5],\n",
       "        [0, 6, 1, 7, 4, 2, 0]]])"
      ]
     },
     "execution_count": 36,
     "metadata": {},
     "output_type": "execute_result"
    }
   ],
   "source": [
    "arr = np.random.randint(0, 10,3*4*7).reshape(3,4,7)\n",
    "arr"
   ]
  },
  {
   "cell_type": "markdown",
   "id": "1d22d2bb",
   "metadata": {},
   "source": [
    "12.\tBir vektor olusturunuz ve daha sonrasinda ayni vektoru bir matrise ceviriniz. (boyut sayisini degistirin.)"
   ]
  },
  {
   "cell_type": "code",
   "execution_count": 38,
   "id": "9710fed3",
   "metadata": {},
   "outputs": [
    {
     "data": {
      "text/plain": [
       "array([0.09799137, 0.86953465, 0.66071666, 0.4254942 , 0.13921171,\n",
       "       0.65906065, 0.06903198, 0.22157082, 0.3676481 , 0.4897588 ,\n",
       "       0.15974621, 0.20620062])"
      ]
     },
     "execution_count": 38,
     "metadata": {},
     "output_type": "execute_result"
    }
   ],
   "source": [
    "arr = np.random.rand(12)\n",
    "arr"
   ]
  },
  {
   "cell_type": "code",
   "execution_count": 40,
   "id": "6cab5097",
   "metadata": {},
   "outputs": [
    {
     "data": {
      "text/plain": [
       "array([[0.09799137, 0.86953465],\n",
       "       [0.66071666, 0.4254942 ],\n",
       "       [0.13921171, 0.65906065],\n",
       "       [0.06903198, 0.22157082],\n",
       "       [0.3676481 , 0.4897588 ],\n",
       "       [0.15974621, 0.20620062]])"
      ]
     },
     "execution_count": 40,
     "metadata": {},
     "output_type": "execute_result"
    }
   ],
   "source": [
    "arr.reshape(6,2)"
   ]
  },
  {
   "cell_type": "markdown",
   "id": "f46e4be7",
   "metadata": {},
   "source": [
    "13.\t4 tane ayri tek boyutlu array’i birlestirerek bir array olusturunuz."
   ]
  },
  {
   "cell_type": "code",
   "execution_count": 42,
   "id": "a04689ee",
   "metadata": {},
   "outputs": [
    {
     "data": {
      "text/plain": [
       "array([ 1,  2,  3,  4,  5,  6,  7,  8,  9, 10, 11, 12])"
      ]
     },
     "execution_count": 42,
     "metadata": {},
     "output_type": "execute_result"
    }
   ],
   "source": [
    "x = np.array([1,2,3])\n",
    "y = np.array([4,5,6])\n",
    "z = np.array([7,8,9])\n",
    "k = np.array([10,11,12])\n",
    "np.concatenate([x, y, z, k])"
   ]
  },
  {
   "cell_type": "markdown",
   "id": "8061a51c",
   "metadata": {},
   "source": [
    "14.\t2 boyutlu bir vektor ve bir matris olusturun(ayri ayri), bu iki arrayi numpy metodlarini kullanarak sutun bazli birlestiriniz,"
   ]
  },
  {
   "cell_type": "code",
   "execution_count": 47,
   "id": "88898aca",
   "metadata": {},
   "outputs": [
    {
     "data": {
      "text/plain": [
       "array([[ 0,  1,  2,  3],\n",
       "       [ 4,  5,  6,  7],\n",
       "       [ 8,  9, 10, 11]])"
      ]
     },
     "execution_count": 47,
     "metadata": {},
     "output_type": "execute_result"
    }
   ],
   "source": [
    "arr1 = np.arange(0,12).reshape(3,4)\n",
    "arr1"
   ]
  },
  {
   "cell_type": "code",
   "execution_count": 49,
   "id": "b51b15d9",
   "metadata": {},
   "outputs": [
    {
     "data": {
      "text/plain": [
       "array([[100, 101, 102, 103],\n",
       "       [104, 105, 106, 107],\n",
       "       [108, 109, 110, 111]])"
      ]
     },
     "execution_count": 49,
     "metadata": {},
     "output_type": "execute_result"
    }
   ],
   "source": [
    "arr2 = np.arange(100,112).reshape(3,4)\n",
    "arr2"
   ]
  },
  {
   "cell_type": "code",
   "execution_count": 51,
   "id": "20c8cdea",
   "metadata": {},
   "outputs": [
    {
     "data": {
      "text/plain": [
       "array([[  0,   1,   2,   3, 100, 101, 102, 103],\n",
       "       [  4,   5,   6,   7, 104, 105, 106, 107],\n",
       "       [  8,   9,  10,  11, 108, 109, 110, 111]])"
      ]
     },
     "execution_count": 51,
     "metadata": {},
     "output_type": "execute_result"
    }
   ],
   "source": [
    "np.concatenate([arr1,arr2],axis=1)"
   ]
  },
  {
   "cell_type": "markdown",
   "id": "dbd490ee",
   "metadata": {},
   "source": [
    "15.\tNumpy’da “axis=1” ve “axis=0”  arasinda ne fark vardir. Teorik olarak yaziniz?  "
   ]
  },
  {
   "cell_type": "raw",
   "id": "86fdd3ef",
   "metadata": {},
   "source": [
    "axis=1 >> sutun bazli islem yap\n",
    "axis=0 >> satir bazli islem yap"
   ]
  },
  {
   "cell_type": "markdown",
   "id": "98906d98",
   "metadata": {},
   "source": [
    "16.\tFarkli boyutlardaki arraylari satin ve sutun bazli ayri ayri birlestiriniz."
   ]
  },
  {
   "cell_type": "code",
   "execution_count": 85,
   "id": "b3b87b31",
   "metadata": {},
   "outputs": [
    {
     "data": {
      "text/plain": [
       "array([0, 1, 2, 3, 4])"
      ]
     },
     "execution_count": 85,
     "metadata": {},
     "output_type": "execute_result"
    }
   ],
   "source": [
    "arr1 = np.arange(0,5)\n",
    "arr1"
   ]
  },
  {
   "cell_type": "code",
   "execution_count": 96,
   "id": "a0aaee46",
   "metadata": {},
   "outputs": [
    {
     "data": {
      "text/plain": [
       "array([[-20, -19, -18, -17, -16],\n",
       "       [-15, -14, -13, -12, -11],\n",
       "       [-10,  -9,  -8,  -7,  -6],\n",
       "       [ -5,  -4,  -3,  -2,  -1]])"
      ]
     },
     "execution_count": 96,
     "metadata": {},
     "output_type": "execute_result"
    }
   ],
   "source": [
    "arr2 = np.arange(-20,0).reshape(4,5)\n",
    "arr2"
   ]
  },
  {
   "cell_type": "code",
   "execution_count": 87,
   "id": "375b3d18",
   "metadata": {},
   "outputs": [
    {
     "data": {
      "text/plain": [
       "array([[  0,   1,   2,   3,   4],\n",
       "       [-20, -19, -18, -17, -16],\n",
       "       [-15, -14, -13, -12, -11],\n",
       "       [-10,  -9,  -8,  -7,  -6],\n",
       "       [ -5,  -4,  -3,  -2,  -1]])"
      ]
     },
     "execution_count": 87,
     "metadata": {},
     "output_type": "execute_result"
    }
   ],
   "source": [
    "np.vstack([arr1,arr2])"
   ]
  },
  {
   "cell_type": "code",
   "execution_count": 97,
   "id": "80bdb05b",
   "metadata": {},
   "outputs": [
    {
     "data": {
      "text/plain": [
       "array([[  0, -20, -15, -10,  -5],\n",
       "       [  1, -19, -14,  -9,  -4],\n",
       "       [  2, -18, -13,  -8,  -3],\n",
       "       [  3, -17, -12,  -7,  -2],\n",
       "       [  4, -16, -11,  -6,  -1]])"
      ]
     },
     "execution_count": 97,
     "metadata": {},
     "output_type": "execute_result"
    }
   ],
   "source": [
    "np.hstack([arr1.reshape(5,1),arr2.T])"
   ]
  },
  {
   "cell_type": "markdown",
   "id": "e732c64b",
   "metadata": {},
   "source": [
    "17.\t10 elemanli bi liste olusturunuz ve bu listeyi Numpy metodlariyla bolerek(split) 5 ayri array olusturunuz."
   ]
  },
  {
   "cell_type": "code",
   "execution_count": 98,
   "id": "26bd71f9",
   "metadata": {},
   "outputs": [
    {
     "data": {
      "text/plain": [
       "array([0, 1, 2, 3, 4, 5, 6, 7, 8, 9])"
      ]
     },
     "execution_count": 98,
     "metadata": {},
     "output_type": "execute_result"
    }
   ],
   "source": [
    "x = np.arange(0,10)\n",
    "x"
   ]
  },
  {
   "cell_type": "code",
   "execution_count": 100,
   "id": "18401dc1",
   "metadata": {},
   "outputs": [
    {
     "data": {
      "text/plain": [
       "[array([0, 1]), array([2, 3]), array([4, 5]), array([6, 7]), array([8, 9])]"
      ]
     },
     "execution_count": 100,
     "metadata": {},
     "output_type": "execute_result"
    }
   ],
   "source": [
    "np.split(x, 5)"
   ]
  },
  {
   "cell_type": "markdown",
   "id": "cc156e0e",
   "metadata": {},
   "source": [
    "18.\tRandom bir array olusturunuz ve bu arrayi buyukten kucuge dogru siralayiniz.Ve bu siralamadan sonra hangi elemanin hangi indexte oldugunu gosteren bir metod uygulayiniz."
   ]
  },
  {
   "cell_type": "code",
   "execution_count": 105,
   "id": "54d1e9e5",
   "metadata": {},
   "outputs": [
    {
     "data": {
      "text/plain": [
       "array([8, 5, 8, 6, 3, 4, 3, 8, 8, 1, 4, 1, 1, 7, 2])"
      ]
     },
     "execution_count": 105,
     "metadata": {},
     "output_type": "execute_result"
    }
   ],
   "source": [
    "v = np.random.randint(0,10,15)\n",
    "v"
   ]
  },
  {
   "cell_type": "code",
   "execution_count": 108,
   "id": "41a14829",
   "metadata": {},
   "outputs": [
    {
     "data": {
      "text/plain": [
       "array([8, 8, 8, 8, 7, 6, 5, 4, 4, 3, 3, 2, 1, 1, 1])"
      ]
     },
     "execution_count": 108,
     "metadata": {},
     "output_type": "execute_result"
    }
   ],
   "source": [
    "v_sorted = np.sort(v)[::-1] \n",
    "v_sorted"
   ]
  },
  {
   "cell_type": "code",
   "execution_count": 111,
   "id": "22402ee3",
   "metadata": {},
   "outputs": [
    {
     "name": "stdout",
     "output_type": "stream",
     "text": [
      "0.indexte 8 var\n",
      "1.indexte 8 var\n",
      "2.indexte 8 var\n",
      "3.indexte 8 var\n",
      "4.indexte 7 var\n",
      "5.indexte 6 var\n",
      "6.indexte 5 var\n",
      "7.indexte 4 var\n",
      "8.indexte 4 var\n",
      "9.indexte 3 var\n",
      "10.indexte 3 var\n",
      "11.indexte 2 var\n",
      "12.indexte 1 var\n",
      "13.indexte 1 var\n",
      "14.indexte 1 var\n"
     ]
    }
   ],
   "source": [
    "for i in range(len(v_sorted)):\n",
    "    print(f'{i}.indexte {v_sorted[i]} var')"
   ]
  },
  {
   "cell_type": "markdown",
   "id": "5436b4d2",
   "metadata": {},
   "source": [
    "19.\t20 elemanli random bir vektor olusturunuz. Bu vektorun 3. 5. ve 7. elemanlarina ulasin."
   ]
  },
  {
   "cell_type": "code",
   "execution_count": 113,
   "id": "0080fad6",
   "metadata": {},
   "outputs": [
    {
     "data": {
      "text/plain": [
       "array([41, 58, 59,  3, 15, 70,  0, 96, 40,  2,  8, 21,  3, 40, 31, 38, 47,\n",
       "        2, 54, 18])"
      ]
     },
     "execution_count": 113,
     "metadata": {},
     "output_type": "execute_result"
    }
   ],
   "source": [
    "n = np.random.randint(0,100,20)\n",
    "n"
   ]
  },
  {
   "cell_type": "code",
   "execution_count": 114,
   "id": "dd49bbb8",
   "metadata": {},
   "outputs": [
    {
     "data": {
      "text/plain": [
       "(3, 70, 96)"
      ]
     },
     "execution_count": 114,
     "metadata": {},
     "output_type": "execute_result"
    }
   ],
   "source": [
    "n[3], n[5], n[7]"
   ]
  },
  {
   "cell_type": "markdown",
   "id": "7f4afb90",
   "metadata": {},
   "source": [
    "20.\t10 elemanli random bir vektor olusturunuz ve bu arrayin  4. elemanini farkli bir sayiyla degistiriniz."
   ]
  },
  {
   "cell_type": "code",
   "execution_count": 116,
   "id": "9d41cc48",
   "metadata": {},
   "outputs": [
    {
     "data": {
      "text/plain": [
       "array([16, 32, 16, 35, 22,  2, 12, 10,  8, 15])"
      ]
     },
     "execution_count": 116,
     "metadata": {},
     "output_type": "execute_result"
    }
   ],
   "source": [
    "m = np.random.randint(0,50,10)\n",
    "m"
   ]
  },
  {
   "cell_type": "code",
   "execution_count": 118,
   "id": "888ffa88",
   "metadata": {},
   "outputs": [
    {
     "data": {
      "text/plain": [
       "array([ 16,  32,  16,  35, 999,   2,  12,  10,   8,  15])"
      ]
     },
     "execution_count": 118,
     "metadata": {},
     "output_type": "execute_result"
    }
   ],
   "source": [
    "m[4]=999\n",
    "m"
   ]
  },
  {
   "cell_type": "markdown",
   "id": "562b75d3",
   "metadata": {},
   "source": [
    "21.\t“Diagonal Matrix” ve “Trace of Matrix”  kavramlari hakkinda kucuk bir arastirma yapip bunlarin ne oldugunu belirten kucuk bir aciklama yaziniz."
   ]
  },
  {
   "cell_type": "raw",
   "id": "5f139b0a",
   "metadata": {},
   "source": [
    "Diagonal Matrix : Doğrusal cebirde köşegen matris, (↘) ilkköşegenin dışında kalan girişlerin tümü sıfır ve genellikle kare matris olan bir matrisdir\n",
    "\n",
    "Trace of Matrix: Ana köşegendeki elemanların toplamıdır."
   ]
  },
  {
   "cell_type": "markdown",
   "id": "3770f128",
   "metadata": {},
   "source": [
    "22.\t5x5’lik Diagonal bir matris olusturunuz ve Diagonaline denk gelen indexlere ulasiniz.(ayri ayri)"
   ]
  },
  {
   "cell_type": "code",
   "execution_count": 124,
   "id": "706698b0",
   "metadata": {},
   "outputs": [
    {
     "data": {
      "text/plain": [
       "array([[1, 0, 0, 0, 0],\n",
       "       [0, 2, 0, 0, 0],\n",
       "       [0, 0, 3, 0, 0],\n",
       "       [0, 0, 0, 4, 0],\n",
       "       [0, 0, 0, 0, 5]])"
      ]
     },
     "execution_count": 124,
     "metadata": {},
     "output_type": "execute_result"
    }
   ],
   "source": [
    "x = np.diag([1,2,3,4,5])\n",
    "x"
   ]
  },
  {
   "cell_type": "code",
   "execution_count": 126,
   "id": "eefe58f4",
   "metadata": {},
   "outputs": [
    {
     "data": {
      "text/plain": [
       "(1, 2, 3, 4, 5)"
      ]
     },
     "execution_count": 126,
     "metadata": {},
     "output_type": "execute_result"
    }
   ],
   "source": [
    "x[0,0],x[1,1],x[2,2],x[3,3],x[4,4],"
   ]
  },
  {
   "cell_type": "markdown",
   "id": "e758c7c3",
   "metadata": {},
   "source": [
    "23.\t10 ile 20 arasinda bir vektor olusturunuz. Ve 3. indexten son indexe kadar olan degerleri yazdiriniz."
   ]
  },
  {
   "cell_type": "code",
   "execution_count": 131,
   "id": "fe583572",
   "metadata": {},
   "outputs": [
    {
     "data": {
      "text/plain": [
       "array([10., 11., 12., 13., 14., 15., 16., 17., 18., 19., 20.])"
      ]
     },
     "execution_count": 131,
     "metadata": {},
     "output_type": "execute_result"
    }
   ],
   "source": [
    "v = np.linspace(10,20,11)\n",
    "v"
   ]
  },
  {
   "cell_type": "code",
   "execution_count": 132,
   "id": "dc8e58ba",
   "metadata": {},
   "outputs": [
    {
     "data": {
      "text/plain": [
       "array([13., 14., 15., 16., 17., 18., 19., 20.])"
      ]
     },
     "execution_count": 132,
     "metadata": {},
     "output_type": "execute_result"
    }
   ],
   "source": [
    "v[3:]"
   ]
  },
  {
   "cell_type": "markdown",
   "id": "0de8de95",
   "metadata": {},
   "source": [
    "24.\t10X10 luk bir matris olusturunuz ve ;\n",
    "* 5.satir ve 5.sutuna ulasiniz.\n",
    "* sutunun tum satirlarina ulasiniz.\n",
    "* Tum sutunlarin 2.satirlarina ulasiniz.\n",
    "* tum sutunlarin 2 ile 7 arasindaki satirlarina ulasiniz.\n",
    "* satir indexi 2’den 5’e ve sutun indexi 3 den 7’ye kadar olan degerlere ulasiniz.\n",
    "* satir indexi 5’den en sona ve sutun indexi en bastan 4’e kadar olan degerlere ulasiniz.\n",
    "* sutun indexi sadece 3, 6,9 olan kolonlarin(sutunlarin), tum satirlarina ulasiniz.\n",
    "* 5.indexli satir ve 5.indexli sutuna denk gelen degeri, dogum yilinizla degistiriniz. "
   ]
  },
  {
   "cell_type": "code",
   "execution_count": 297,
   "id": "08ee0e57",
   "metadata": {},
   "outputs": [
    {
     "data": {
      "text/plain": [
       "array([[575, 146, 334,  53, 221, 881, 388, 914, 114,  89],\n",
       "       [260, 797, 347, 527, 575, 225, 416, 673, 812, 767],\n",
       "       [469, 224, 220, 812, 803, 663, 534, 239, 245, 951],\n",
       "       [ 82, 513, 452, 578, 189, 745, 465, 257, 308, 422],\n",
       "       [974, 953, 312, 709, 661, 628, 508, 972, 519, 637],\n",
       "       [193, 614, 348,  53,  13, 866, 367,  60, 540, 914],\n",
       "       [240, 346, 295, 230, 694, 782, 150, 989, 224,  55],\n",
       "       [675, 814, 966, 696, 964, 549, 322, 744, 530, 693],\n",
       "       [842, 312, 190, 820, 134, 228, 501, 411,  17, 519],\n",
       "       [624, 690, 956,  13, 791, 593, 311,  74, 411, 427]])"
      ]
     },
     "execution_count": 297,
     "metadata": {},
     "output_type": "execute_result"
    }
   ],
   "source": [
    "mat = np.random.randint(0,1000,100).reshape(10,10)\n",
    "mat"
   ]
  },
  {
   "cell_type": "code",
   "execution_count": 298,
   "id": "cd527610",
   "metadata": {},
   "outputs": [
    {
     "data": {
      "text/plain": [
       "866"
      ]
     },
     "execution_count": 298,
     "metadata": {},
     "output_type": "execute_result"
    }
   ],
   "source": [
    "mat[5,5]"
   ]
  },
  {
   "cell_type": "code",
   "execution_count": 299,
   "id": "447e732c",
   "metadata": {},
   "outputs": [
    {
     "data": {
      "text/plain": [
       "array([881, 225, 663, 745, 628, 866, 782, 549, 228, 593])"
      ]
     },
     "execution_count": 299,
     "metadata": {},
     "output_type": "execute_result"
    }
   ],
   "source": [
    "mat[:,5]"
   ]
  },
  {
   "cell_type": "code",
   "execution_count": 300,
   "id": "de563160",
   "metadata": {},
   "outputs": [
    {
     "data": {
      "text/plain": [
       "array([469, 224, 220, 812, 803, 663, 534, 239, 245, 951])"
      ]
     },
     "execution_count": 300,
     "metadata": {},
     "output_type": "execute_result"
    }
   ],
   "source": [
    "mat[2,:]"
   ]
  },
  {
   "cell_type": "code",
   "execution_count": 301,
   "id": "d09bc115",
   "metadata": {},
   "outputs": [
    {
     "data": {
      "text/plain": [
       "array([[469, 224, 220, 812, 803, 663, 534, 239, 245, 951],\n",
       "       [ 82, 513, 452, 578, 189, 745, 465, 257, 308, 422],\n",
       "       [974, 953, 312, 709, 661, 628, 508, 972, 519, 637],\n",
       "       [193, 614, 348,  53,  13, 866, 367,  60, 540, 914],\n",
       "       [240, 346, 295, 230, 694, 782, 150, 989, 224,  55]])"
      ]
     },
     "execution_count": 301,
     "metadata": {},
     "output_type": "execute_result"
    }
   ],
   "source": [
    "mat[2:7,:]"
   ]
  },
  {
   "cell_type": "code",
   "execution_count": 302,
   "id": "4e5724f4",
   "metadata": {},
   "outputs": [
    {
     "data": {
      "text/plain": [
       "array([[812, 803, 663, 534],\n",
       "       [578, 189, 745, 465],\n",
       "       [709, 661, 628, 508]])"
      ]
     },
     "execution_count": 302,
     "metadata": {},
     "output_type": "execute_result"
    }
   ],
   "source": [
    "mat[2:5,3:7]"
   ]
  },
  {
   "cell_type": "code",
   "execution_count": 303,
   "id": "11699bee",
   "metadata": {},
   "outputs": [
    {
     "data": {
      "text/plain": [
       "array([[193, 614, 348,  53],\n",
       "       [240, 346, 295, 230],\n",
       "       [675, 814, 966, 696],\n",
       "       [842, 312, 190, 820],\n",
       "       [624, 690, 956,  13]])"
      ]
     },
     "execution_count": 303,
     "metadata": {},
     "output_type": "execute_result"
    }
   ],
   "source": [
    "mat[5:,:4]"
   ]
  },
  {
   "cell_type": "code",
   "execution_count": 304,
   "id": "fa130783",
   "metadata": {},
   "outputs": [
    {
     "data": {
      "text/plain": [
       "array([[ 53, 388,  89],\n",
       "       [527, 416, 767],\n",
       "       [812, 534, 951],\n",
       "       [578, 465, 422],\n",
       "       [709, 508, 637],\n",
       "       [ 53, 367, 914],\n",
       "       [230, 150,  55],\n",
       "       [696, 322, 693],\n",
       "       [820, 501, 519],\n",
       "       [ 13, 311, 427]])"
      ]
     },
     "execution_count": 304,
     "metadata": {},
     "output_type": "execute_result"
    }
   ],
   "source": [
    "mat[:,[3,6,9]]"
   ]
  },
  {
   "cell_type": "code",
   "execution_count": 305,
   "id": "8f0db714",
   "metadata": {},
   "outputs": [],
   "source": [
    "mat[5,5]=1984"
   ]
  },
  {
   "cell_type": "markdown",
   "id": "7b8f8fdc",
   "metadata": {},
   "source": [
    "25.\t0’dan 50’ye kadar 5’er 5’er atlayarak giden bir array olusturunuz(tek boyutlu) ve numpy metodlariyla asagidaki islemleri uygulayin;\n",
    "* 20 den buyuk olan kac deger var.\n",
    "* 30’dan kucuk kac deger var\n",
    "* icerisinde 33 gecen kac deger var\n",
    "* olusturulan arrayin tum elemanlarini 5 ile carpin.\n",
    "* olusturulan arrayin tum elemanlarinin 2 ile bolumunden kalanlari yazdiriniz.\n",
    "* olustural arrayin icerisinde, sadece sutunlara bakarak her bir sutunu toplayin ve toplami 30 dan buyuk kac sutun var\n",
    "* olustural arrayin icerisinde, sadece satirlara bakarak her bir satiri toplayin ve toplami 30 dan buyuk kac satir var."
   ]
  },
  {
   "cell_type": "code",
   "execution_count": 148,
   "id": "aba25623",
   "metadata": {},
   "outputs": [
    {
     "data": {
      "text/plain": [
       "array([ 0,  5, 10, 15, 20, 25, 30, 35, 40, 45, 50])"
      ]
     },
     "execution_count": 148,
     "metadata": {},
     "output_type": "execute_result"
    }
   ],
   "source": [
    "arr = np.arange(0,51,5)\n",
    "arr"
   ]
  },
  {
   "cell_type": "code",
   "execution_count": 149,
   "id": "29749e6f",
   "metadata": {},
   "outputs": [
    {
     "data": {
      "text/plain": [
       "6"
      ]
     },
     "execution_count": 149,
     "metadata": {},
     "output_type": "execute_result"
    }
   ],
   "source": [
    "len(list(filter(lambda x: x>20, arr)))"
   ]
  },
  {
   "cell_type": "code",
   "execution_count": 150,
   "id": "33c919f3",
   "metadata": {},
   "outputs": [
    {
     "data": {
      "text/plain": [
       "6"
      ]
     },
     "execution_count": 150,
     "metadata": {},
     "output_type": "execute_result"
    }
   ],
   "source": [
    "len(list(filter(lambda x: x<30, arr)))"
   ]
  },
  {
   "cell_type": "code",
   "execution_count": 151,
   "id": "d32bfac6",
   "metadata": {},
   "outputs": [
    {
     "data": {
      "text/plain": [
       "0"
      ]
     },
     "execution_count": 151,
     "metadata": {},
     "output_type": "execute_result"
    }
   ],
   "source": [
    "len(list(filter(lambda x: x==33, arr)))"
   ]
  },
  {
   "cell_type": "code",
   "execution_count": 152,
   "id": "4f32dc33",
   "metadata": {},
   "outputs": [
    {
     "data": {
      "text/plain": [
       "array([  0,  25,  50,  75, 100, 125, 150, 175, 200, 225, 250])"
      ]
     },
     "execution_count": 152,
     "metadata": {},
     "output_type": "execute_result"
    }
   ],
   "source": [
    "arr*5"
   ]
  },
  {
   "cell_type": "code",
   "execution_count": 153,
   "id": "f72b3415",
   "metadata": {},
   "outputs": [
    {
     "data": {
      "text/plain": [
       "array([0, 1, 0, 1, 0, 1, 0, 1, 0, 1, 0], dtype=int32)"
      ]
     },
     "execution_count": 153,
     "metadata": {},
     "output_type": "execute_result"
    }
   ],
   "source": [
    "arr%2"
   ]
  },
  {
   "cell_type": "code",
   "execution_count": null,
   "id": "674a3723",
   "metadata": {},
   "outputs": [],
   "source": []
  },
  {
   "cell_type": "markdown",
   "id": "7b0d3ac5",
   "metadata": {},
   "source": [
    "26.\t0 ile 1 arasinda 50 elamanli bir array olusturunuz ve;\n",
    "* orlamasini aliniz.\n",
    "* standart sapmasini aliniz.\n",
    "* varyansini aliniz.\n",
    "* median’ini aliniz.\n",
    "* en kucuk degeri bulunuz.\n",
    "* en buyuk degeri bulunuz."
   ]
  },
  {
   "cell_type": "code",
   "execution_count": 158,
   "id": "fd2240eb",
   "metadata": {},
   "outputs": [
    {
     "data": {
      "text/plain": [
       "array([0.        , 0.02040816, 0.04081633, 0.06122449, 0.08163265,\n",
       "       0.10204082, 0.12244898, 0.14285714, 0.16326531, 0.18367347,\n",
       "       0.20408163, 0.2244898 , 0.24489796, 0.26530612, 0.28571429,\n",
       "       0.30612245, 0.32653061, 0.34693878, 0.36734694, 0.3877551 ,\n",
       "       0.40816327, 0.42857143, 0.44897959, 0.46938776, 0.48979592,\n",
       "       0.51020408, 0.53061224, 0.55102041, 0.57142857, 0.59183673,\n",
       "       0.6122449 , 0.63265306, 0.65306122, 0.67346939, 0.69387755,\n",
       "       0.71428571, 0.73469388, 0.75510204, 0.7755102 , 0.79591837,\n",
       "       0.81632653, 0.83673469, 0.85714286, 0.87755102, 0.89795918,\n",
       "       0.91836735, 0.93877551, 0.95918367, 0.97959184, 1.        ])"
      ]
     },
     "execution_count": 158,
     "metadata": {},
     "output_type": "execute_result"
    }
   ],
   "source": [
    "p = np.linspace(0,1)\n",
    "p"
   ]
  },
  {
   "cell_type": "code",
   "execution_count": 159,
   "id": "4b716215",
   "metadata": {},
   "outputs": [
    {
     "data": {
      "text/plain": [
       "0.5"
      ]
     },
     "execution_count": 159,
     "metadata": {},
     "output_type": "execute_result"
    }
   ],
   "source": [
    "p.mean()"
   ]
  },
  {
   "cell_type": "code",
   "execution_count": 160,
   "id": "85b3e1ce",
   "metadata": {},
   "outputs": [
    {
     "data": {
      "text/plain": [
       "0.2945075446869757"
      ]
     },
     "execution_count": 160,
     "metadata": {},
     "output_type": "execute_result"
    }
   ],
   "source": [
    "p.std()"
   ]
  },
  {
   "cell_type": "code",
   "execution_count": 161,
   "id": "972eef76",
   "metadata": {},
   "outputs": [
    {
     "data": {
      "text/plain": [
       "0.086734693877551"
      ]
     },
     "execution_count": 161,
     "metadata": {},
     "output_type": "execute_result"
    }
   ],
   "source": [
    "p.var()"
   ]
  },
  {
   "cell_type": "code",
   "execution_count": 167,
   "id": "d501e164",
   "metadata": {},
   "outputs": [
    {
     "data": {
      "text/plain": [
       "0.5"
      ]
     },
     "execution_count": 167,
     "metadata": {},
     "output_type": "execute_result"
    }
   ],
   "source": [
    "np.median(p)"
   ]
  },
  {
   "cell_type": "code",
   "execution_count": 165,
   "id": "3cab523e",
   "metadata": {},
   "outputs": [
    {
     "data": {
      "text/plain": [
       "1.0"
      ]
     },
     "execution_count": 165,
     "metadata": {},
     "output_type": "execute_result"
    }
   ],
   "source": [
    "p.max()"
   ]
  },
  {
   "cell_type": "code",
   "execution_count": 166,
   "id": "c776d264",
   "metadata": {},
   "outputs": [
    {
     "data": {
      "text/plain": [
       "0.0"
      ]
     },
     "execution_count": 166,
     "metadata": {},
     "output_type": "execute_result"
    }
   ],
   "source": [
    "p.min()"
   ]
  },
  {
   "cell_type": "markdown",
   "id": "54ed72d5",
   "metadata": {},
   "source": [
    "27.\tPandas seriler ve numpy arrayler arasindaki farklar nelerdir yaziniz."
   ]
  },
  {
   "cell_type": "raw",
   "id": "7ca055bf",
   "metadata": {},
   "source": [
    "Numpy arrayden farklı olarak serilerde index sütunu da bulunur. İndex sütunu belirtilmediği takdirde default olarak n uzunlukta bir dizi için 0'dan başlayıp 1,2,… şeklinde (n-1)’e kadar devam eden bir dizi olur."
   ]
  },
  {
   "cell_type": "markdown",
   "id": "52168cb0",
   "metadata": {},
   "source": [
    "28.\tIndexi buyuk harflerden olusan, icinde farkli veri tipleri bulunan 5 elemanli bir seri olusturunuz."
   ]
  },
  {
   "cell_type": "code",
   "execution_count": 169,
   "id": "621f8b7e",
   "metadata": {},
   "outputs": [
    {
     "data": {
      "text/plain": [
       "A    1\n",
       "B    2\n",
       "C    3\n",
       "D    4\n",
       "E    5\n",
       "dtype: int32"
      ]
     },
     "execution_count": 169,
     "metadata": {},
     "output_type": "execute_result"
    }
   ],
   "source": [
    "import pandas as pd\n",
    "ser = pd.Series(data=np.arange(1,6), index=['A', 'B', 'C', 'D', 'E'])\n",
    "ser"
   ]
  },
  {
   "cell_type": "markdown",
   "id": "8f7213d7",
   "metadata": {},
   "source": [
    "29.\tKey’ler ulke adlari, value’lar baskentleri olacak sekilde 5 elemanli bir sozluk olusturup onu seriye ceviriniz. (ornek: fransa:paris)"
   ]
  },
  {
   "cell_type": "code",
   "execution_count": 170,
   "id": "46094227",
   "metadata": {},
   "outputs": [
    {
     "data": {
      "text/plain": [
       "France         Paris\n",
       "China        Beijing\n",
       "UK            London\n",
       "USA       Washington\n",
       "Japan          Tokyo\n",
       "dtype: object"
      ]
     },
     "execution_count": 170,
     "metadata": {},
     "output_type": "execute_result"
    }
   ],
   "source": [
    "keys = ['France','China','UK','USA','Japan']\n",
    "values= ['Paris','Beijing','London','Washington','Tokyo']\n",
    "pd.Series(values,keys)"
   ]
  },
  {
   "cell_type": "markdown",
   "id": "1604309a",
   "metadata": {},
   "source": [
    "30.\t10 elemanli random bir vektor olusturun.\n",
    "* Vektoru seriye cevirip indexleri str olarak belirleyin. \n",
    "(ornek: a,b,c,d,e,f,g.. seklinde)\n",
    "* Index ismine gore serinin 3. elemanina ulasin. \n",
    "(ornek: c indexine karsilik gelen deger)\n",
    "* Serinin index sirasina gore 1. Elamanina ulasin.\n",
    "* Index ismine gore serinin  2. Ve 7. Elemanlarina ayni anda ulasin. \n",
    "(Ornek: b ve g indexine karsilik gelen degerler)\n",
    "* Index ismi ile serinin 2. Ve 7. Elemanlari arasindaki degerleri yazdirin.\n",
    "(Ornek: b,c,d,e,f,g indexlerine karsilik gelen degerler)\n",
    "* Index sirasiyla serinin 4. indexinden son indexine kadar olan degerleri yazdirin."
   ]
  },
  {
   "cell_type": "code",
   "execution_count": 175,
   "id": "de098250",
   "metadata": {},
   "outputs": [
    {
     "data": {
      "text/plain": [
       "array([51, 31, 49, 93, 78, 30, 16, 15, 55, 37])"
      ]
     },
     "execution_count": 175,
     "metadata": {},
     "output_type": "execute_result"
    }
   ],
   "source": [
    "v = np.random.randint(0,100,10)\n",
    "v"
   ]
  },
  {
   "cell_type": "code",
   "execution_count": 179,
   "id": "95ea8b11",
   "metadata": {},
   "outputs": [
    {
     "data": {
      "text/plain": [
       "['a', 'b', 'c', 'd', 'e', 'f', 'g', 'h', 'i', 'j']"
      ]
     },
     "execution_count": 179,
     "metadata": {},
     "output_type": "execute_result"
    }
   ],
   "source": [
    "list(\"abcdefghij\")"
   ]
  },
  {
   "cell_type": "code",
   "execution_count": 181,
   "id": "7517ccf3",
   "metadata": {},
   "outputs": [
    {
     "data": {
      "text/plain": [
       "a    51\n",
       "b    31\n",
       "c    49\n",
       "d    93\n",
       "e    78\n",
       "f    30\n",
       "g    16\n",
       "h    15\n",
       "i    55\n",
       "j    37\n",
       "dtype: int32"
      ]
     },
     "execution_count": 181,
     "metadata": {},
     "output_type": "execute_result"
    }
   ],
   "source": [
    "ser = pd.Series(v, list(\"abcdefghij\"))\n",
    "ser"
   ]
  },
  {
   "cell_type": "code",
   "execution_count": 191,
   "id": "79b352ab",
   "metadata": {},
   "outputs": [
    {
     "data": {
      "text/plain": [
       "49"
      ]
     },
     "execution_count": 191,
     "metadata": {},
     "output_type": "execute_result"
    }
   ],
   "source": [
    "ser['c']"
   ]
  },
  {
   "cell_type": "code",
   "execution_count": 192,
   "id": "8966c302",
   "metadata": {},
   "outputs": [
    {
     "data": {
      "text/plain": [
       "51"
      ]
     },
     "execution_count": 192,
     "metadata": {},
     "output_type": "execute_result"
    }
   ],
   "source": [
    "ser['a']"
   ]
  },
  {
   "cell_type": "code",
   "execution_count": 195,
   "id": "8cde6960",
   "metadata": {},
   "outputs": [
    {
     "data": {
      "text/plain": [
       "b    31\n",
       "g    16\n",
       "dtype: int32"
      ]
     },
     "execution_count": 195,
     "metadata": {},
     "output_type": "execute_result"
    }
   ],
   "source": [
    "ser[['b','g']]"
   ]
  },
  {
   "cell_type": "code",
   "execution_count": 197,
   "id": "296c3cce",
   "metadata": {},
   "outputs": [
    {
     "data": {
      "text/plain": [
       "b    31\n",
       "c    49\n",
       "d    93\n",
       "e    78\n",
       "f    30\n",
       "g    16\n",
       "dtype: int32"
      ]
     },
     "execution_count": 197,
     "metadata": {},
     "output_type": "execute_result"
    }
   ],
   "source": [
    "ser['b':'g']"
   ]
  },
  {
   "cell_type": "code",
   "execution_count": 198,
   "id": "925c81df",
   "metadata": {},
   "outputs": [
    {
     "data": {
      "text/plain": [
       "d    93\n",
       "e    78\n",
       "f    30\n",
       "g    16\n",
       "h    15\n",
       "i    55\n",
       "j    37\n",
       "dtype: int32"
      ]
     },
     "execution_count": 198,
     "metadata": {},
     "output_type": "execute_result"
    }
   ],
   "source": [
    "ser['d':]"
   ]
  },
  {
   "cell_type": "markdown",
   "id": "ff04ae57",
   "metadata": {},
   "source": [
    "31.\t2 adet 5 elemanli seri olusturun.\n",
    "* Olusturdugunuz serileri birlestirin.\n",
    "* Birlesen 10 elemanli serinin indexini 1’den 10’a kadar olacak sekilde duzenleyin.\n",
    "* Indexini duzenlediginiz seride, loc ve iloc metodlari ile, indexi 4,5,6 olan degerlere ulasin."
   ]
  },
  {
   "cell_type": "code",
   "execution_count": 201,
   "id": "7ab10d68",
   "metadata": {},
   "outputs": [
    {
     "data": {
      "text/plain": [
       "0    100\n",
       "1    200\n",
       "2    300\n",
       "3    400\n",
       "4    500\n",
       "dtype: int64"
      ]
     },
     "execution_count": 201,
     "metadata": {},
     "output_type": "execute_result"
    }
   ],
   "source": [
    "ser1 = pd.Series(range(100,501,100))\n",
    "ser1"
   ]
  },
  {
   "cell_type": "code",
   "execution_count": 202,
   "id": "3215fa18",
   "metadata": {},
   "outputs": [
    {
     "data": {
      "text/plain": [
       "0    a\n",
       "1    b\n",
       "2    c\n",
       "3    d\n",
       "4    e\n",
       "dtype: object"
      ]
     },
     "execution_count": 202,
     "metadata": {},
     "output_type": "execute_result"
    }
   ],
   "source": [
    "ser2 = pd.Series(list('abcde'))\n",
    "ser2"
   ]
  },
  {
   "cell_type": "code",
   "execution_count": 204,
   "id": "0adc1604",
   "metadata": {},
   "outputs": [
    {
     "data": {
      "text/plain": [
       "0    100\n",
       "1    200\n",
       "2    300\n",
       "3    400\n",
       "4    500\n",
       "0      a\n",
       "1      b\n",
       "2      c\n",
       "3      d\n",
       "4      e\n",
       "dtype: object"
      ]
     },
     "execution_count": 204,
     "metadata": {},
     "output_type": "execute_result"
    }
   ],
   "source": [
    "ser3 = pd.concat([ser1, ser2])\n",
    "ser3"
   ]
  },
  {
   "cell_type": "code",
   "execution_count": 216,
   "id": "34fe8a48",
   "metadata": {},
   "outputs": [
    {
     "data": {
      "text/plain": [
       "1     100\n",
       "2     200\n",
       "3     300\n",
       "4     400\n",
       "5     500\n",
       "6       a\n",
       "7       b\n",
       "8       c\n",
       "9       d\n",
       "10      e\n",
       "dtype: object"
      ]
     },
     "execution_count": 216,
     "metadata": {},
     "output_type": "execute_result"
    }
   ],
   "source": [
    "ser3.index=range(1,11)\n",
    "ser3"
   ]
  },
  {
   "cell_type": "markdown",
   "id": "6f1f7c62",
   "metadata": {},
   "source": [
    "### Master odev ; \n",
    "Bir dongu icerisinde random olacak sekilde iki tane 20x20’luk matris uretin ve bu matrislerin farklarini alin.\n",
    "Ve fark matrisinin diagonali,  -0.1 ile 0.1  arasinda olana kadar bu islemi tekrarlayin.\n",
    "Istenilen matris bulundugunda program dursun ve  toplam kac dongunun kuruldugunu,  ne kadar sure icinde buldugunu ve  istenilen  matrisi  print ile birlikte ekrana yazdiriniz...\n",
    "Tavsiye: 20 x 20 luk matrisin bulunmasi saatler surebilir. Bu yuzden algoritmanizin dogrulugunu test etmek icin once 4x4, 5x5 gibi kucuk matrislerde deneyebilirsiniz. Ve matris sayisisini arttirarak en son 20x20 u deneyebilirsiniz."
   ]
  },
  {
   "cell_type": "code",
   "execution_count": null,
   "id": "1350e802",
   "metadata": {},
   "outputs": [],
   "source": [
    "import time\n",
    "loop=0\n",
    "t1=time.time()\n",
    "while True:\n",
    "    loop+=1\n",
    "    matrix = [np.random.rand(20,20) for _ in range(2)]\n",
    "    m1 = matrix[0]\n",
    "    m2 = matrix[1]\n",
    "    diag = abs(np.diag(m1-m2))\n",
    "    if len(list(filter(lambda x: x>0.1, diag)))==0:\n",
    "        break\n",
    "t2=time.time()\n",
    "time_diff = t2-t1"
   ]
  },
  {
   "cell_type": "code",
   "execution_count": null,
   "id": "8f4fbbc8",
   "metadata": {},
   "outputs": [],
   "source": [
    "loop"
   ]
  },
  {
   "cell_type": "code",
   "execution_count": null,
   "id": "f1d71766",
   "metadata": {},
   "outputs": [],
   "source": [
    "time_diff"
   ]
  },
  {
   "cell_type": "code",
   "execution_count": null,
   "id": "9a711d41",
   "metadata": {},
   "outputs": [],
   "source": [
    "diag"
   ]
  },
  {
   "cell_type": "code",
   "execution_count": null,
   "id": "1d125edc",
   "metadata": {},
   "outputs": [],
   "source": [
    "list(filter(lambda x: x<0.1, diag))"
   ]
  },
  {
   "cell_type": "code",
   "execution_count": null,
   "id": "d92a97a4",
   "metadata": {},
   "outputs": [],
   "source": []
  }
 ],
 "metadata": {
  "kernelspec": {
   "display_name": "Python 3",
   "language": "python",
   "name": "python3"
  },
  "language_info": {
   "codemirror_mode": {
    "name": "ipython",
    "version": 3
   },
   "file_extension": ".py",
   "mimetype": "text/x-python",
   "name": "python",
   "nbconvert_exporter": "python",
   "pygments_lexer": "ipython3",
   "version": "3.8.5"
  }
 },
 "nbformat": 4,
 "nbformat_minor": 5
}
